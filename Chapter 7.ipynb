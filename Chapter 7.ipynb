{
 "cells": [
  {
   "cell_type": "markdown",
   "id": "cc030f2d",
   "metadata": {},
   "source": [
    "# 第7章 用户输入和 while 循环"
   ]
  },
  {
   "cell_type": "markdown",
   "id": "4aef7b8a",
   "metadata": {},
   "source": [
    "## 7.1 input() 函数的工作原理"
   ]
  },
  {
   "cell_type": "code",
   "execution_count": 2,
   "id": "d393f744",
   "metadata": {},
   "outputs": [
    {
     "name": "stdout",
     "output_type": "stream",
     "text": [
      "Please enter your name: Daria\n",
      "\n",
      "Hello Daria!\n"
     ]
    }
   ],
   "source": [
    "#input() 函数让程序暂停运行，等待用户输入一些文本。获取用户输入后，Python 将其赋给一个变量，以便使用。\n",
    "name = input(\"Please enter your name: \")\n",
    "print(f\"\\nHello {name}!\")"
   ]
  },
  {
   "cell_type": "markdown",
   "id": "d9a16688",
   "metadata": {},
   "source": [
    "### 7.1.2 使用 int() 来获取数值输入"
   ]
  },
  {
   "cell_type": "code",
   "execution_count": 1,
   "id": "e080299a",
   "metadata": {},
   "outputs": [
    {
     "name": "stdout",
     "output_type": "stream",
     "text": [
      "How old are you? 22\n"
     ]
    }
   ],
   "source": [
    "#使用 int() 来获取数值输入\n",
    "age = input(\"How old are you? \")"
   ]
  },
  {
   "cell_type": "code",
   "execution_count": 2,
   "id": "b3847450",
   "metadata": {},
   "outputs": [
    {
     "data": {
      "text/plain": [
       "'22'"
      ]
     },
     "execution_count": 2,
     "metadata": {},
     "output_type": "execute_result"
    }
   ],
   "source": [
    "age\n",
    "#此时变量 age 的值为一个字符串‘22’，不能作为数来使用"
   ]
  },
  {
   "cell_type": "code",
   "execution_count": 3,
   "id": "fcf1d477",
   "metadata": {},
   "outputs": [
    {
     "name": "stdout",
     "output_type": "stream",
     "text": [
      "How old are you? 22\n"
     ]
    }
   ],
   "source": [
    "#可使用函数 int() 将输入的字符串转换为数值\n",
    "age = input(\"How old are you? \")"
   ]
  },
  {
   "cell_type": "code",
   "execution_count": 4,
   "id": "ae472a52",
   "metadata": {},
   "outputs": [
    {
     "data": {
      "text/plain": [
       "True"
      ]
     },
     "execution_count": 4,
     "metadata": {},
     "output_type": "execute_result"
    }
   ],
   "source": [
    "age = int(age)\n",
    "age >= 18"
   ]
  },
  {
   "cell_type": "markdown",
   "id": "52d781cf",
   "metadata": {},
   "source": [
    "### 7.1.3 求模运算符"
   ]
  },
  {
   "cell_type": "code",
   "execution_count": 5,
   "id": "143c5dc2",
   "metadata": {},
   "outputs": [
    {
     "name": "stdout",
     "output_type": "stream",
     "text": [
      "1\n",
      "0\n",
      "2\n",
      "1\n"
     ]
    }
   ],
   "source": [
    "#求模运算符（%）将两个数相除并得到余数\n",
    "\n",
    "print(4 % 3)\n",
    "print(10 % 2)\n",
    "print(5 % 3)\n",
    "print(7 % 3)\n",
    "#求模运算符不会指出一个数是另一个数的多少倍，只指出余数是多少"
   ]
  },
  {
   "cell_type": "code",
   "execution_count": 7,
   "id": "571bc5c3",
   "metadata": {},
   "outputs": [
    {
     "name": "stdout",
     "output_type": "stream",
     "text": [
      "Enter a number, and I'll tell you if it's even or odd:15\n",
      "\n",
      "The number 15 is odd.\n"
     ]
    }
   ],
   "source": [
    "#可利用 % 来判断一个数是奇数还是偶数\n",
    "#如果一个数可被另一个数整除，余数就为 0，因此求模运算将得0\n",
    "\n",
    "number = input(\"Enter a number, and I'll tell you if it's even or odd:\")\n",
    "number = int(number)\n",
    "if number % 2 == 0:\n",
    "    print(f\"\\nThe number {number} is even.\")\n",
    "else:\n",
    "    print(f\"\\nThe number {number} is odd.\")"
   ]
  },
  {
   "cell_type": "markdown",
   "id": "137fbe28",
   "metadata": {},
   "source": [
    "## 自赋值"
   ]
  },
  {
   "cell_type": "code",
   "execution_count": 3,
   "id": "12e672b2",
   "metadata": {},
   "outputs": [
    {
     "name": "stdout",
     "output_type": "stream",
     "text": [
      "0\n"
     ]
    }
   ],
   "source": [
    "#自赋值：既加也赋值\n",
    "#eg\n",
    "number = 0\n",
    "print(number)"
   ]
  },
  {
   "cell_type": "code",
   "execution_count": 4,
   "id": "3baeabe6",
   "metadata": {},
   "outputs": [
    {
     "data": {
      "text/plain": [
       "1"
      ]
     },
     "execution_count": 4,
     "metadata": {},
     "output_type": "execute_result"
    }
   ],
   "source": [
    "number + 1"
   ]
  },
  {
   "cell_type": "code",
   "execution_count": 6,
   "id": "a334a2ee",
   "metadata": {},
   "outputs": [
    {
     "name": "stdout",
     "output_type": "stream",
     "text": [
      "0\n"
     ]
    }
   ],
   "source": [
    "print(number)\n",
    "#此时number还是0"
   ]
  },
  {
   "cell_type": "code",
   "execution_count": 9,
   "id": "5d592b14",
   "metadata": {},
   "outputs": [
    {
     "name": "stdout",
     "output_type": "stream",
     "text": [
      "1\n"
     ]
    }
   ],
   "source": [
    "number = 0\n",
    "number += 1\n",
    "print(number)\n",
    "#此时number的值发生了改变"
   ]
  },
  {
   "cell_type": "markdown",
   "id": "018f7ca9",
   "metadata": {},
   "source": [
    "## 7.2 while 循环简介"
   ]
  },
  {
   "cell_type": "markdown",
   "id": "f8e18785",
   "metadata": {},
   "source": [
    "### 7.2.1 使用 while 循环"
   ]
  },
  {
   "cell_type": "code",
   "execution_count": 10,
   "id": "241a35e9",
   "metadata": {},
   "outputs": [
    {
     "name": "stdout",
     "output_type": "stream",
     "text": [
      "1\n",
      "2\n",
      "3\n",
      "4\n",
      "5\n"
     ]
    }
   ],
   "source": [
    "#for 循环用于针对集合中的每个元素执行一个代码块，而 while 循环则不断地运行，直到指定的条件不再满足为止\n",
    "\n",
    "current_number = 1\n",
    "while current_number <= 5:\n",
    "    print(current_number)\n",
    "    current_number += 1"
   ]
  },
  {
   "cell_type": "markdown",
   "id": "e1e95f9b",
   "metadata": {},
   "source": [
    "### 7.2.2 让用户选择何时退出"
   ]
  },
  {
   "cell_type": "code",
   "execution_count": 13,
   "id": "9c7d49a9",
   "metadata": {},
   "outputs": [
    {
     "name": "stdout",
     "output_type": "stream",
     "text": [
      "\n",
      "Tell me something, and I will repeat it back to you:\n",
      "Enter 'quit' to end the program. Hello\n",
      "Hello\n",
      "\n",
      "Tell me something, and I will repeat it back to you:\n",
      "Enter 'quit' to end the program. Hi\n",
      "Hi\n",
      "\n",
      "Tell me something, and I will repeat it back to you:\n",
      "Enter 'quit' to end the program. How are you?\n",
      "How are you?\n",
      "\n",
      "Tell me something, and I will repeat it back to you:\n",
      "Enter 'quit' to end the program. quit\n",
      "quit\n"
     ]
    }
   ],
   "source": [
    "prompt = \"\\nTell me something, and I will repeat it back to you:\"\n",
    "prompt += \"\\nEnter 'quit' to end the program. \"\n",
    "message = \"\" #空字符串让Python 在首次执行 while 代码行时有可供检查的东西，非常必要\n",
    "while message != 'quit':\n",
    "    message = input(prompt)\n",
    "    print(message)"
   ]
  },
  {
   "cell_type": "markdown",
   "id": "b9f7bf79",
   "metadata": {},
   "source": [
    "### 7.2.3 使用标志"
   ]
  },
  {
   "cell_type": "code",
   "execution_count": 14,
   "id": "b1f3026f",
   "metadata": {},
   "outputs": [
    {
     "name": "stdout",
     "output_type": "stream",
     "text": [
      "\n",
      "Tell me something, and I will repeat it back to you:\n",
      "Enter 'quit' to end the program. Good morning！\n",
      "Good morning！\n",
      "\n",
      "Tell me something, and I will repeat it back to you:\n",
      "Enter 'quit' to end the program. OK.\n",
      "OK.\n",
      "\n",
      "Tell me something, and I will repeat it back to you:\n",
      "Enter 'quit' to end the program. quit\n"
     ]
    }
   ],
   "source": [
    "prompt = \"\\nTell me something, and I will repeat it back to you:\"\n",
    "prompt += \"\\nEnter 'quit' to end the program. \"\n",
    "active = True\n",
    "while active:\n",
    "    message = input(prompt)\n",
    "\n",
    "    if message == 'quit':\n",
    "        active = False\n",
    "    else:\n",
    "        print(message)"
   ]
  },
  {
   "cell_type": "markdown",
   "id": "06044451",
   "metadata": {},
   "source": [
    "### 7.2.4 使用 break 退出循环"
   ]
  },
  {
   "cell_type": "code",
   "execution_count": 18,
   "id": "7ecfb717",
   "metadata": {},
   "outputs": [
    {
     "name": "stdout",
     "output_type": "stream",
     "text": [
      "\n",
      "Please enter the name of a city you have visited: \n",
      "(Enter 'quit' when you are finished.) qingdao\n",
      "I'd love to go to Qingdao!\n",
      "\n",
      "Please enter the name of a city you have visited: \n",
      "(Enter 'quit' when you are finished.) xiamen\n",
      "I'd love to go to Xiamen!\n",
      "\n",
      "Please enter the name of a city you have visited: \n",
      "(Enter 'quit' when you are finished.) quit\n"
     ]
    }
   ],
   "source": [
    "#如果不管条件测试的结果如何，想立即退出 while 循环，不再运行循环中余下的代码，可使用 break 语句\n",
    "\n",
    "prompt = \"\\nPlease enter the name of a city you have visited: \"\n",
    "prompt += \"\\n(Enter 'quit' when you are finished.) \"\n",
    "\n",
    "while True:\n",
    "    city = input(prompt)\n",
    "    \n",
    "    if city == 'quit':\n",
    "        break\n",
    "    else:\n",
    "        print(f\"I'd love to go to {city.title()}!\")"
   ]
  },
  {
   "cell_type": "markdown",
   "id": "dee88f6c",
   "metadata": {},
   "source": [
    "### 7.2.5 在循环中使用 continue"
   ]
  },
  {
   "cell_type": "code",
   "execution_count": 22,
   "id": "298ed3f5",
   "metadata": {},
   "outputs": [
    {
     "name": "stdout",
     "output_type": "stream",
     "text": [
      "1\n",
      "3\n",
      "5\n",
      "7\n",
      "9\n"
     ]
    }
   ],
   "source": [
    "current_number = 0\n",
    "while current_number < 10:\n",
    "    current_number += 1\n",
    "    if current_number % 2 == 0:\n",
    "        continue\n",
    "    print(current_number)"
   ]
  },
  {
   "cell_type": "markdown",
   "id": "6e2f752a",
   "metadata": {},
   "source": [
    "### 7.2.6 避免无限循环"
   ]
  },
  {
   "cell_type": "markdown",
   "id": "a34668e5",
   "metadata": {},
   "source": [
    "## 7.3 使用 while 循环处理列表和字典"
   ]
  },
  {
   "cell_type": "markdown",
   "id": "c0121abb",
   "metadata": {},
   "source": [
    "### 7.3.1 在列表之间移动元素"
   ]
  },
  {
   "cell_type": "code",
   "execution_count": 30,
   "id": "bbcbe039",
   "metadata": {},
   "outputs": [
    {
     "name": "stdout",
     "output_type": "stream",
     "text": [
      "Verifying user: Candace\n",
      "Verifying user: Brian\n",
      "Verifying user: Alice\n",
      "\n",
      "The following users have been confirmed:\n",
      "Candace\n",
      "Brian\n",
      "Alice\n"
     ]
    }
   ],
   "source": [
    "# 首先，创建一个待验证用户列表\n",
    "# 和一个用于存储已验证用户的空列表\n",
    "unconfirmed_users = ['alice', 'brian', 'candace']\n",
    "confirmed_users = []\n",
    "# 验证每个用户，直到没有未验证用户为止\n",
    "# 将每个经过验证的用户都移到已验证用户列表中\n",
    "while unconfirmed_users:\n",
    "    current_user = unconfirmed_users.pop()\n",
    "    print(f\"Verifying user: {current_user.title()}\")\n",
    "    confirmed_users.append(current_user)\n",
    "# 显示所有的已验证用户\n",
    "print(\"\\nThe following users have been confirmed:\")\n",
    "for confirmed_user in confirmed_users:\n",
    "    print(confirmed_user.title())"
   ]
  },
  {
   "cell_type": "markdown",
   "id": "d20569bb",
   "metadata": {},
   "source": [
    "### 7.3.2 删除为特定值的所有列表元素"
   ]
  },
  {
   "cell_type": "code",
   "execution_count": 31,
   "id": "1643d365",
   "metadata": {},
   "outputs": [
    {
     "name": "stdout",
     "output_type": "stream",
     "text": [
      "['dog', 'cat', 'dog', 'goldfish', 'cat', 'rabbit', 'cat']\n",
      "['dog', 'dog', 'goldfish', 'rabbit']\n"
     ]
    }
   ],
   "source": [
    "pets = ['dog', 'cat', 'dog', 'goldfish', 'cat', 'rabbit', 'cat']\n",
    "print(pets)\n",
    "while 'cat' in pets:\n",
    "    pets.remove('cat')\n",
    "print(pets)"
   ]
  },
  {
   "cell_type": "markdown",
   "id": "9a7ad12d",
   "metadata": {},
   "source": [
    "### 7.3.3 使用用户输入填充字典"
   ]
  },
  {
   "cell_type": "code",
   "execution_count": 32,
   "id": "3a3371e4",
   "metadata": {},
   "outputs": [
    {
     "name": "stdout",
     "output_type": "stream",
     "text": [
      "\n",
      "What is your name? Amy\n",
      "Which mountain would you like to climb someday?Tai Mountain\n",
      "Would you like to let another person respond?(yes/no) yes\n",
      "\n",
      "What is your name? Tom\n",
      "Which mountain would you like to climb someday?Denali\n",
      "Would you like to let another person respond?(yes/no) NO\n",
      "\n",
      "What is your name? John\n",
      "Which mountain would you like to climb someday?Devil's Thumb\n",
      "Would you like to let another person respond?(yes/no) no\n",
      "\n",
      "--- Poll Results ---\n",
      "Amy would like to climb Tai Mountain.\n",
      "Tom would like to climb Denali.\n",
      "John would like to climb Devil's Thumb.\n"
     ]
    }
   ],
   "source": [
    "responses = {}\n",
    "# 设置一个标志，指出调查是否继续\n",
    "polling_active = True\n",
    "while polling_active:\n",
    "# 提示输入被调查者的名字和回答\n",
    "    name = input(\"\\nWhat is your name? \")\n",
    "    response = input(\"Which mountain would you like to climb someday?\")\n",
    "# 将回答存储在字典中\n",
    "    responses[name] = response\n",
    "# 看看是否还有人要参与调查\n",
    "    repeat = input(\"Would you like to let another person respond?(yes/no) \")\n",
    "    if repeat == 'no':\n",
    "        polling_active = False\n",
    "# 调查结束，显示结果\n",
    "print(\"\\n--- Poll Results ---\")\n",
    "for name, response in responses.items():\n",
    "    print(f\"{name} would like to climb {response}.\")"
   ]
  },
  {
   "cell_type": "markdown",
   "id": "10c77bff",
   "metadata": {},
   "source": [
    "## 练习"
   ]
  },
  {
   "cell_type": "code",
   "execution_count": 9,
   "id": "fb78714b",
   "metadata": {},
   "outputs": [
    {
     "name": "stdout",
     "output_type": "stream",
     "text": [
      "What kind of car would you like to rent? tesla\n",
      "Let me see if I can find you a Tesla.\n"
     ]
    }
   ],
   "source": [
    "# 练习7.1\n",
    "car = input(\"What kind of car would you like to rent? \")\n",
    "print(f\"Let me see if I can find you a {car.title()}.\")"
   ]
  },
  {
   "cell_type": "code",
   "execution_count": 10,
   "id": "53e4dc04",
   "metadata": {},
   "outputs": [
    {
     "name": "stdout",
     "output_type": "stream",
     "text": [
      "How many people will join in dinner? 5\n",
      "Ok. We can arrange a table for you.\n"
     ]
    }
   ],
   "source": [
    "# 练习7.2\n",
    "seats_request = input(\"How many people will join in dinner? \")\n",
    "seats = int(seats_request)\n",
    "if seats > 8:\n",
    "    print(\"Sorry, we don't have a table for so many people.\")\n",
    "else:\n",
    "    print(\"Ok. We can arrange a table for you.\")"
   ]
  },
  {
   "cell_type": "code",
   "execution_count": 12,
   "id": "8f8852e0",
   "metadata": {},
   "outputs": [
    {
     "name": "stdout",
     "output_type": "stream",
     "text": [
      "Enter a number, and I'll tell you if it's a multiple of 10:100\n",
      "\n",
      "The number 100 is a multiple of 10.\n"
     ]
    }
   ],
   "source": [
    "# 练习7.3\n",
    "number = input(\"Enter a number, and I'll tell you if it's a multiple of 10:\")\n",
    "number = int(number)\n",
    "if number % 10 == 0:\n",
    "    print(f\"\\nThe number {number} is a multiple of 10.\")\n",
    "else:\n",
    "    print(f\"\\nThe number {number} is not a multiple of 10.\")"
   ]
  },
  {
   "cell_type": "code",
   "execution_count": 24,
   "id": "0aeafce9",
   "metadata": {},
   "outputs": [
    {
     "name": "stdout",
     "output_type": "stream",
     "text": [
      "Please enter a pizza topping (type 'quit' when finished): mushroom\n",
      "We will add mushroom to your pizza!\n",
      "Please enter a pizza topping (type 'quit' when finished): cheese\n",
      "We will add cheese to your pizza!\n",
      "Please enter a pizza topping (type 'quit' when finished): quit\n"
     ]
    }
   ],
   "source": [
    "# 练习7.4\n",
    "while True:\n",
    "    topping = input(\"Please enter a pizza topping (type 'quit' when finished): \")\n",
    "\n",
    "    if topping == 'quit':\n",
    "        break \n",
    "    else:\n",
    "        print(f\"We will add {topping} to your pizza!\")"
   ]
  },
  {
   "cell_type": "code",
   "execution_count": 29,
   "id": "97f4e1bf",
   "metadata": {},
   "outputs": [
    {
     "name": "stdout",
     "output_type": "stream",
     "text": [
      "How old are you: (type 'quit' when finished)2\n",
      "Your ticket is free.\n",
      "How old are you: (type 'quit' when finished)5\n",
      "Your ticket is ＄10.\n",
      "How old are you: (type 'quit' when finished)80\n",
      "Your ticket is ＄15.\n",
      "How old are you: (type 'quit' when finished)quit\n"
     ]
    },
    {
     "ename": "ValueError",
     "evalue": "invalid literal for int() with base 10: 'quit'",
     "output_type": "error",
     "traceback": [
      "\u001b[1;31m---------------------------------------------------------------------------\u001b[0m",
      "\u001b[1;31mValueError\u001b[0m                                Traceback (most recent call last)",
      "Cell \u001b[1;32mIn[29], line 7\u001b[0m\n\u001b[0;32m      5\u001b[0m \u001b[38;5;28;01mif\u001b[39;00m age \u001b[38;5;241m==\u001b[39m \u001b[38;5;124m'\u001b[39m\u001b[38;5;124mquit\u001b[39m\u001b[38;5;124m'\u001b[39m:\n\u001b[0;32m      6\u001b[0m     \u001b[38;5;28;01mbreak\u001b[39;00m\n\u001b[1;32m----> 7\u001b[0m age \u001b[38;5;241m=\u001b[39m \u001b[38;5;28mint\u001b[39m(visitor_age)   \n\u001b[0;32m      8\u001b[0m \u001b[38;5;28;01mif\u001b[39;00m age \u001b[38;5;241m<\u001b[39m \u001b[38;5;241m3\u001b[39m:\n\u001b[0;32m      9\u001b[0m     \u001b[38;5;28mprint\u001b[39m(\u001b[38;5;124m\"\u001b[39m\u001b[38;5;124mYour ticket is free.\u001b[39m\u001b[38;5;124m\"\u001b[39m)\n",
      "\u001b[1;31mValueError\u001b[0m: invalid literal for int() with base 10: 'quit'"
     ]
    }
   ],
   "source": [
    "# 练习7.5\n",
    "\n",
    "while True:\n",
    "    visitor_age = input(\"How old are you: (type 'quit' when finished)\")\n",
    "    if age == 'quit':\n",
    "        break\n",
    "    age = int(visitor_age)   \n",
    "    if age < 3:\n",
    "        print(\"Your ticket is free.\")\n",
    "    elif age < 12:\n",
    "        print(\"Your ticket is ＄10.\")\n",
    "    else:\n",
    "        print(\"Your ticket is ＄15.\")"
   ]
  },
  {
   "cell_type": "code",
   "execution_count": 34,
   "id": "ec85f4f7",
   "metadata": {},
   "outputs": [
    {
     "name": "stdout",
     "output_type": "stream",
     "text": [
      "I made your chicken sandwich.\n",
      "I made your vegetable sandwich.\n",
      "I made your club sandwich.\n",
      "I made your tuna sandwich.\n",
      "\n",
      "All sandwiches are finished:\n",
      "chicken sandwich\n",
      "vegetable sandwich\n",
      "club sandwich\n",
      "tuna sandwich\n"
     ]
    }
   ],
   "source": [
    "# 练习7.8\n",
    "sandwich_orders = ['tuna sandwich', 'club sandwich', 'vegetable sandwich', 'chicken sandwich']\n",
    "finished_sandwiches = []\n",
    "while sandwich_orders:\n",
    "    current_sandwich = sandwich_orders.pop()\n",
    "    print(f\"I made your {current_sandwich}.\")\n",
    "    finished_sandwiches.append(current_sandwich)\n",
    "print(\"\\nAll sandwiches are finished:\")\n",
    "for sandwich in finished_sandwiches:\n",
    "    print(sandwich)"
   ]
  },
  {
   "cell_type": "code",
   "execution_count": 35,
   "id": "3c69b766",
   "metadata": {},
   "outputs": [
    {
     "name": "stdout",
     "output_type": "stream",
     "text": [
      "Sorry, we are all out of pastrami today.\n",
      "\n",
      "I made your chicken sandwich.\n",
      "I made your vegetable sandwich.\n",
      "I made your club sandwich.\n",
      "I made your tuna sandwich.\n",
      "\n",
      "All sandwiches are finished:\n",
      "chicken sandwich\n",
      "vegetable sandwich\n",
      "club sandwich\n",
      "tuna sandwich\n"
     ]
    }
   ],
   "source": [
    "# 练习7.9\n",
    "sandwich_orders = ['tuna sandwich', 'pastrami', 'club sandwich', 'vegetable sandwich', 'pastrami', 'chicken sandwich', 'pastrami']\n",
    "print(\"Sorry, we are all out of pastrami today.\\n\")\n",
    "while 'pastrami' in sandwich_orders:\n",
    "    sandwich_orders.remove('pastrami')\n",
    "finished_sandwiches = []\n",
    "while sandwich_orders:\n",
    "    current_sandwich = sandwich_orders.pop()\n",
    "    print(f\"I made your {current_sandwich}.\")\n",
    "    finished_sandwiches.append(current_sandwich)\n",
    "print(\"\\nAll sandwiches are finished:\")\n",
    "for sandwich in finished_sandwiches:\n",
    "    print(sandwich)"
   ]
  },
  {
   "cell_type": "code",
   "execution_count": 36,
   "id": "bc129e7c",
   "metadata": {},
   "outputs": [
    {
     "name": "stdout",
     "output_type": "stream",
     "text": [
      "\n",
      "What is your name? Amy\n",
      "If you could visit one place in the world, where would you go? Qingdao\n",
      "Would you like to let another person respond?(yes/no) yes\n",
      "\n",
      "What is your name? Tom\n",
      "If you could visit one place in the world, where would you go? Hebei\n",
      "Would you like to let another person respond?(yes/no) no\n",
      "\n",
      "--- Poll Results ---\n",
      "Amy would like to visit Qingdao.\n",
      "Tom would like to visit Hebei.\n"
     ]
    }
   ],
   "source": [
    "# 练习7.10\n",
    "responses = {}\n",
    "polling_active = True\n",
    "while polling_active:\n",
    "    name = input(\"\\nWhat is your name? \")\n",
    "    response = input(\"If you could visit one place in the world, where would you go? \")\n",
    "    responses[name] = response\n",
    "    repeat = input(\"Would you like to let another person respond?(yes/no) \")\n",
    "    if repeat == 'no':\n",
    "        polling_active = False\n",
    "print(\"\\n--- Poll Results ---\")\n",
    "for name, response in responses.items():\n",
    "    print(f\"{name} would like to visit {response}.\")"
   ]
  }
 ],
 "metadata": {
  "kernelspec": {
   "display_name": "Python 3 (ipykernel)",
   "language": "python",
   "name": "python3"
  },
  "language_info": {
   "codemirror_mode": {
    "name": "ipython",
    "version": 3
   },
   "file_extension": ".py",
   "mimetype": "text/x-python",
   "name": "python",
   "nbconvert_exporter": "python",
   "pygments_lexer": "ipython3",
   "version": "3.11.5"
  }
 },
 "nbformat": 4,
 "nbformat_minor": 5
}
