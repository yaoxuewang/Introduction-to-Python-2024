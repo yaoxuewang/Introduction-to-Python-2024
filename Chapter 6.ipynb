{
 "cells": [
  {
   "cell_type": "markdown",
   "id": "00567f1f",
   "metadata": {},
   "source": [
    "# 第6章 字典"
   ]
  },
  {
   "cell_type": "markdown",
   "id": "472b8acf",
   "metadata": {},
   "source": [
    "## 6.1 一个简单的字典"
   ]
  },
  {
   "cell_type": "code",
   "execution_count": 2,
   "id": "70171cae",
   "metadata": {},
   "outputs": [
    {
     "name": "stdout",
     "output_type": "stream",
     "text": [
      "green\n",
      "5\n"
     ]
    }
   ],
   "source": [
    "#字典（dictionary）是一系列键值对，用{}来表示\n",
    "alien_0 = {'color': 'green', 'points': 5}\n",
    "print(alien_0['color'])\n",
    "print(alien_0['points'])\n",
    "#键值对包含两个相互关联的值"
   ]
  },
  {
   "cell_type": "markdown",
   "id": "60ec933d",
   "metadata": {},
   "source": [
    "## 6.2 使用字典"
   ]
  },
  {
   "cell_type": "code",
   "execution_count": null,
   "id": "ec97bd40",
   "metadata": {},
   "outputs": [],
   "source": [
    "#Python 中的字典，每个键（key）都只与一个值（value）关联\n",
    "#键和值之间用冒号分隔，而键值对之间用逗号分隔\n",
    "#键在字典中是唯一的"
   ]
  },
  {
   "cell_type": "markdown",
   "id": "e3642a2a",
   "metadata": {},
   "source": [
    "### 6.2.1 访问字典中的值"
   ]
  },
  {
   "cell_type": "code",
   "execution_count": 3,
   "id": "04ca386f",
   "metadata": {},
   "outputs": [
    {
     "name": "stdout",
     "output_type": "stream",
     "text": [
      "green\n"
     ]
    }
   ],
   "source": [
    "alien_0 = {'color': 'green'}\n",
    "print(alien_0['color'])"
   ]
  },
  {
   "cell_type": "code",
   "execution_count": 8,
   "id": "fc15f7fb",
   "metadata": {},
   "outputs": [
    {
     "name": "stdout",
     "output_type": "stream",
     "text": [
      "You just earned 5 points!\n"
     ]
    }
   ],
   "source": [
    "alien_0 = {'color': 'green', 'points': 5}\n",
    "new_point = alien_0['points']\n",
    "print(f\"You just earned {new_point} points!\")"
   ]
  },
  {
   "cell_type": "markdown",
   "id": "98153023",
   "metadata": {},
   "source": [
    "### 6.2.2 添加键对值"
   ]
  },
  {
   "cell_type": "code",
   "execution_count": 11,
   "id": "8370f4f7",
   "metadata": {},
   "outputs": [
    {
     "name": "stdout",
     "output_type": "stream",
     "text": [
      "{'color': 'green', 'points': 5}\n",
      "{'color': 'green', 'points': 5, 'x_position': 0, 'y_position': 25}\n"
     ]
    }
   ],
   "source": [
    "alien_0 = {'color': 'green', 'points': 5}\n",
    "print(alien_0)\n",
    "alien_0['x_position'] = 0\n",
    "alien_0['y_position'] = 25\n",
    "print(alien_0)"
   ]
  },
  {
   "cell_type": "markdown",
   "id": "42cd5082",
   "metadata": {},
   "source": [
    "### 6.2.3 从创建一个空字典开始"
   ]
  },
  {
   "cell_type": "code",
   "execution_count": 9,
   "id": "a3bfb128",
   "metadata": {},
   "outputs": [
    {
     "name": "stdout",
     "output_type": "stream",
     "text": [
      "{'color': 'green', 'points': 5}\n"
     ]
    }
   ],
   "source": [
    "alien_0 = {}\n",
    "alien_0['color'] = 'green'\n",
    "alien_0['points'] = 5\n",
    "print(alien_0)"
   ]
  },
  {
   "cell_type": "markdown",
   "id": "e47ede51",
   "metadata": {},
   "source": [
    "### 6.2.4 修改字典中的值"
   ]
  },
  {
   "cell_type": "code",
   "execution_count": 10,
   "id": "f5f688cf",
   "metadata": {},
   "outputs": [
    {
     "name": "stdout",
     "output_type": "stream",
     "text": [
      "The alien is green.\n",
      "The alien is now yellow.\n"
     ]
    }
   ],
   "source": [
    "alien_0 = {'color': 'green'}\n",
    "print(f\"The alien is {alien_0['color']}.\")\n",
    "\n",
    "alien_0 = {'color': 'yellow'}\n",
    "print(f\"The alien is now {alien_0['color']}.\")"
   ]
  },
  {
   "cell_type": "markdown",
   "id": "dda0c7d5",
   "metadata": {},
   "source": [
    "### 6.2.5 删除键值对"
   ]
  },
  {
   "cell_type": "code",
   "execution_count": 12,
   "id": "101aa285",
   "metadata": {},
   "outputs": [
    {
     "name": "stdout",
     "output_type": "stream",
     "text": [
      "{'color': 'green', 'points': 5}\n",
      "{'points': 5}\n"
     ]
    }
   ],
   "source": [
    "alien_0 = {'color': 'green', 'points': 5}\n",
    "print(alien_0)\n",
    "\n",
    "del alien_0['color']#删除的键值对永远消失了\n",
    "print(alien_0)"
   ]
  },
  {
   "cell_type": "markdown",
   "id": "8112f0bb",
   "metadata": {},
   "source": [
    "### 6.2.6 由类似的对象组成的字典"
   ]
  },
  {
   "cell_type": "code",
   "execution_count": 1,
   "id": "d22c5831",
   "metadata": {},
   "outputs": [
    {
     "name": "stdout",
     "output_type": "stream",
     "text": [
      "Sarah's favorite language is C.\n"
     ]
    }
   ],
   "source": [
    "favorite_languages = {\n",
    "    'jen': 'python',\n",
    "    'sarah': 'c',\n",
    "    'edward': 'rust',\n",
    "    'phil': 'python',\n",
    "    }\n",
    "#需要使用多行来定义字典时，要缩进 4 个空格\n",
    "\n",
    "#了解 Sarah 喜欢的语言\n",
    "language = favorite_languages['sarah'].title()\n",
    "print(f\"Sarah's favorite language is {language}.\")"
   ]
  },
  {
   "cell_type": "markdown",
   "id": "7a8da472",
   "metadata": {},
   "source": [
    "### 6.2.7 使用 get() 来访问值"
   ]
  },
  {
   "cell_type": "code",
   "execution_count": 2,
   "id": "add871b2",
   "metadata": {},
   "outputs": [
    {
     "ename": "KeyError",
     "evalue": "'points'",
     "output_type": "error",
     "traceback": [
      "\u001b[1;31m---------------------------------------------------------------------------\u001b[0m",
      "\u001b[1;31mKeyError\u001b[0m                                  Traceback (most recent call last)",
      "Cell \u001b[1;32mIn[2], line 3\u001b[0m\n\u001b[0;32m      1\u001b[0m \u001b[38;5;66;03m#如果指定的键不存在，就将出错\u001b[39;00m\n\u001b[0;32m      2\u001b[0m alien_0 \u001b[38;5;241m=\u001b[39m {\u001b[38;5;124m'\u001b[39m\u001b[38;5;124mcolor\u001b[39m\u001b[38;5;124m'\u001b[39m: \u001b[38;5;124m'\u001b[39m\u001b[38;5;124mgreen\u001b[39m\u001b[38;5;124m'\u001b[39m, \u001b[38;5;124m'\u001b[39m\u001b[38;5;124mspeed\u001b[39m\u001b[38;5;124m'\u001b[39m: \u001b[38;5;124m'\u001b[39m\u001b[38;5;124mslow\u001b[39m\u001b[38;5;124m'\u001b[39m}\n\u001b[1;32m----> 3\u001b[0m \u001b[38;5;28mprint\u001b[39m(alien_0[\u001b[38;5;124m'\u001b[39m\u001b[38;5;124mpoints\u001b[39m\u001b[38;5;124m'\u001b[39m])\n",
      "\u001b[1;31mKeyError\u001b[0m: 'points'"
     ]
    }
   ],
   "source": [
    "#如果指定的键不存在，就将出错\n",
    "alien_0 = {'color': 'green', 'speed': 'slow'}\n",
    "print(alien_0['points'])\n",
    "\n",
    "#键值错误（KeyError）"
   ]
  },
  {
   "cell_type": "code",
   "execution_count": 3,
   "id": "4f2cfd58",
   "metadata": {},
   "outputs": [
    {
     "name": "stdout",
     "output_type": "stream",
     "text": [
      "No point value assigned.\n"
     ]
    }
   ],
   "source": [
    "#为避免出现这样的错误，可使用 get() 方法在指定的键不存在时返回一个默认值\n",
    "#get() 方法的第一个参数用于指定键，是必不可少的；第二个参数为当指定的键不存在时要返回的值，是可选的\n",
    "#如果指定的键有可能不存在，应考虑使用 get() 方法，而不要使用方括号表示法\n",
    "\n",
    "alien_0 = {'color': 'green', 'speed': 'slow'}\n",
    "point_value = alien_0.get('points', 'No point value assigned.')\n",
    "print(point_value)"
   ]
  },
  {
   "cell_type": "code",
   "execution_count": 4,
   "id": "22898c97",
   "metadata": {},
   "outputs": [
    {
     "name": "stdout",
     "output_type": "stream",
     "text": [
      "None\n"
     ]
    }
   ],
   "source": [
    "#在调用 get() 时，如果没有指定第二个参数且指定的键不存在，Python 将返回值 None，这个特殊的值表示没有相应的值，不会报错\n",
    "\n",
    "alien_0 = {'color': 'green', 'speed': 'slow'}\n",
    "point_value = alien_0.get('points')\n",
    "print(point_value)"
   ]
  },
  {
   "cell_type": "markdown",
   "id": "6c89bc9f",
   "metadata": {},
   "source": [
    "## 6.3 遍历字典"
   ]
  },
  {
   "cell_type": "markdown",
   "id": "6c1e2c03",
   "metadata": {},
   "source": [
    "### 6.3.1 遍历所有的键值对"
   ]
  },
  {
   "cell_type": "code",
   "execution_count": 12,
   "id": "22c39f51",
   "metadata": {},
   "outputs": [
    {
     "name": "stdout",
     "output_type": "stream",
     "text": [
      "\n",
      "Key: username\n",
      "Value: efermi\n",
      "\n",
      "Key: first\n",
      "Value: enrico\n",
      "\n",
      "Key: last\n",
      "Value: fermi\n"
     ]
    }
   ],
   "source": [
    "user_0 = {\n",
    "    'username': 'efermi',\n",
    "    'first': 'enrico',\n",
    "    'last': 'fermi',\n",
    "    }\n",
    "for key, value in user_0.items():\n",
    "    print(f\"\\nKey: {key}\")\n",
    "    print(f\"Value: {value}\")"
   ]
  },
  {
   "cell_type": "code",
   "execution_count": 13,
   "id": "1408f9c3",
   "metadata": {},
   "outputs": [
    {
     "name": "stdout",
     "output_type": "stream",
     "text": [
      "Jen's favorite language is Python.\n",
      "Sarah's favorite language is C.\n",
      "Edward's favorite language is Rust.\n",
      "Phil's favorite language is Python.\n"
     ]
    }
   ],
   "source": [
    "favorite_languages = {\n",
    "    'jen': 'python',\n",
    "    'sarah': 'c',\n",
    "    'edward': 'rust',\n",
    "    'phil': 'python',\n",
    "    }\n",
    "for name, language in favorite_languages.items(): #items.() 返回一个键值对列表\n",
    "    print(f\"{name.title()}'s favorite language is {language.title()}.\")"
   ]
  },
  {
   "cell_type": "markdown",
   "id": "38a71b41",
   "metadata": {},
   "source": [
    "### 6.3.2 遍历字典中的所有键"
   ]
  },
  {
   "cell_type": "code",
   "execution_count": 15,
   "id": "fd2bf95b",
   "metadata": {},
   "outputs": [
    {
     "name": "stdout",
     "output_type": "stream",
     "text": [
      "Jen\n",
      "Sarah\n",
      "Edward\n",
      "Phil\n"
     ]
    }
   ],
   "source": [
    "#在不需要使用字典中的值时，keys() 方法很有用\n",
    "\n",
    "favorite_languages = {\n",
    "    'jen': 'python',\n",
    "    'sarah': 'c',\n",
    "    'edward': 'rust',\n",
    "    'phil': 'python',\n",
    "    }\n",
    "for name in favorite_languages.keys():\n",
    "    print(name.title())"
   ]
  },
  {
   "cell_type": "code",
   "execution_count": 20,
   "id": "6fdbe689",
   "metadata": {},
   "outputs": [
    {
     "name": "stdout",
     "output_type": "stream",
     "text": [
      "Hi Jen.\n",
      "Hi Sarah.\n",
      "\tSarah, I see you love C!\n",
      "Hi Edward.\n",
      "Hi Phil.\n",
      "\tPhil, I see you love Python!\n"
     ]
    }
   ],
   "source": [
    "favorite_languages = {\n",
    "    'jen': 'python',\n",
    "    'sarah': 'c',\n",
    "    'edward': 'rust',\n",
    "    'phil': 'python',\n",
    "    }\n",
    "friends = ['phil', 'sarah']\n",
    "for name in favorite_languages.keys():\n",
    "    print(f\"Hi {name.title()}.\")\n",
    "    \n",
    "    if name in friends:\n",
    "        language = favorite_languages[name].title()\n",
    "        print(f\"\\t{name.title()}, I see you love {language}!\")"
   ]
  },
  {
   "cell_type": "markdown",
   "id": "02114c42",
   "metadata": {},
   "source": [
    "### 6.3.3 按特定的顺序遍历字典中的所有键"
   ]
  },
  {
   "cell_type": "code",
   "execution_count": 34,
   "id": "4564355a",
   "metadata": {},
   "outputs": [
    {
     "name": "stdout",
     "output_type": "stream",
     "text": [
      "Edward, thank you for taking the poll.\n",
      "Jen, thank you for taking the poll.\n",
      "Phil, thank you for taking the poll.\n",
      "Sarah, thank you for taking the poll.\n"
     ]
    }
   ],
   "source": [
    "favorite_languages = {\n",
    "'jen': 'python',\n",
    "'sarah': 'c',\n",
    "'edward': 'rust',\n",
    "'phil': 'python',\n",
    "}\n",
    "for name in sorted(favorite_languages.keys()):\n",
    "    print(f\"{name.title()}, thank you for taking the poll.\")"
   ]
  },
  {
   "cell_type": "markdown",
   "id": "ecc5eea5",
   "metadata": {},
   "source": [
    "### 6.3.4 遍历字典中的所有值"
   ]
  },
  {
   "cell_type": "code",
   "execution_count": 24,
   "id": "43b50be8",
   "metadata": {},
   "outputs": [
    {
     "name": "stdout",
     "output_type": "stream",
     "text": [
      "The following languages have been mentioned:\n",
      "Python\n",
      "C\n",
      "Rust\n",
      "Python\n"
     ]
    }
   ],
   "source": [
    "#只想要值，可使用 values() 方法\n",
    "\n",
    "favorite_languages = {\n",
    "'jen': 'python',\n",
    "'sarah': 'c',\n",
    "'edward': 'rust',\n",
    "'phil': 'python',\n",
    "}\n",
    "print(\"The following languages have been mentioned:\")\n",
    "for language in favorite_languages.values():\n",
    "    print(language.title())"
   ]
  },
  {
   "cell_type": "code",
   "execution_count": 25,
   "id": "e1bafd4b",
   "metadata": {},
   "outputs": [
    {
     "name": "stdout",
     "output_type": "stream",
     "text": [
      "The following languages have been mentioned:\n",
      "C\n",
      "Rust\n",
      "Python\n"
     ]
    }
   ],
   "source": [
    "#为剔除重复项，可使用集合（set）\n",
    "\n",
    "favorite_languages = {\n",
    "'jen': 'python',\n",
    "'sarah': 'c',\n",
    "'edward': 'rust',\n",
    "'phil': 'python',\n",
    "}\n",
    "print(\"The following languages have been mentioned:\")\n",
    "for language in set(favorite_languages.values()):\n",
    "    print(language.title())"
   ]
  },
  {
   "cell_type": "markdown",
   "id": "362fb4e4",
   "metadata": {},
   "source": [
    "## 6.4 嵌套"
   ]
  },
  {
   "cell_type": "markdown",
   "id": "fe8b8ef3",
   "metadata": {},
   "source": [
    "### 6.4.1 字典列表"
   ]
  },
  {
   "cell_type": "code",
   "execution_count": 50,
   "id": "256fa1c9",
   "metadata": {},
   "outputs": [
    {
     "name": "stdout",
     "output_type": "stream",
     "text": [
      "{'color': 'green', 'points': 5}\n",
      "{'color': 'yellow', 'points': 10}\n",
      "{'color': 'red', 'points': 15}\n"
     ]
    }
   ],
   "source": [
    "#嵌套: 将多个字典存储在列表中或将列表作为值存储在字典中\n",
    "\n",
    "#创建三个字典，其中每个字典都表示一个外星人\n",
    "alien_0 = {'color': 'green', 'points': 5}\n",
    "alien_1 = {'color': 'yellow', 'points': 10}\n",
    "alien_2 = {'color': 'red', 'points': 15}\n",
    "#将这些字典都存储到一个名为 aliens 的列表中\n",
    "aliens = [alien_0, alien_1, alien_2]\n",
    "#遍历这个列表\n",
    "for alien in aliens:\n",
    "    print(alien)"
   ]
  },
  {
   "cell_type": "code",
   "execution_count": 52,
   "id": "f21db9c2",
   "metadata": {},
   "outputs": [
    {
     "name": "stdout",
     "output_type": "stream",
     "text": [
      "{'color': 'green', 'points': 5, 'speed': 'slow'}\n",
      "{'color': 'green', 'points': 5, 'speed': 'slow'}\n",
      "{'color': 'green', 'points': 5, 'speed': 'slow'}\n",
      "{'color': 'green', 'points': 5, 'speed': 'slow'}\n",
      "{'color': 'green', 'points': 5, 'speed': 'slow'}\n",
      "...\n",
      "Total number of aliens: 30\n"
     ]
    }
   ],
   "source": [
    "# 创建一个用于存储外星人的空列表\n",
    "aliens = []\n",
    "# 创建 30 个绿色的外星人\n",
    "for alien_number in range(30):\n",
    "    new_alien = {'color': 'green', 'points': 5, 'speed': 'slow'}\n",
    "    aliens.append(new_alien)\n",
    "# 显示前 5 个外星人\n",
    "for alien in aliens[:5]:\n",
    "    print(alien)\n",
    "print(\"...\")\n",
    "# 显示创建了多少个外星人\n",
    "print(f\"Total number of aliens: {len(aliens)}\")"
   ]
  },
  {
   "cell_type": "code",
   "execution_count": 54,
   "id": "91e59e5a",
   "metadata": {},
   "outputs": [
    {
     "name": "stdout",
     "output_type": "stream",
     "text": [
      "{'color': 'yellow', 'points': 10, 'speed': 'medium'}\n",
      "{'color': 'yellow', 'points': 10, 'speed': 'medium'}\n",
      "{'color': 'yellow', 'points': 10, 'speed': 'medium'}\n",
      "{'color': 'green', 'points': 5, 'speed': 'slow'}\n",
      "{'color': 'green', 'points': 5, 'speed': 'slow'}\n",
      "...\n"
     ]
    }
   ],
   "source": [
    "# 创建一个用于存储外星人的空列表\n",
    "aliens = []\n",
    "# 创建 30 个绿色的外星人\n",
    "for alien_number in range (30):\n",
    "    new_alien = {'color': 'green', 'points': 5, 'speed': 'slow'}\n",
    "    aliens.append(new_alien)\n",
    "#将前三个外星人修改为黄色、速度中等且值 10 分\n",
    "for alien in aliens[:3]:\n",
    "    if alien['color'] == 'green':\n",
    "        alien['color'] = 'yellow'\n",
    "        alien['speed'] = 'medium'\n",
    "        alien['points'] = 10\n",
    "# 显示前 5 个外星人\n",
    "for alien in aliens[:5]:\n",
    "    print(alien)\n",
    "print(\"...\")"
   ]
  },
  {
   "cell_type": "markdown",
   "id": "c39ec5d1",
   "metadata": {},
   "source": [
    "### 6.4.2 在字典中存储列表"
   ]
  },
  {
   "cell_type": "code",
   "execution_count": 55,
   "id": "c0b7c990",
   "metadata": {},
   "outputs": [
    {
     "name": "stdout",
     "output_type": "stream",
     "text": [
      "You ordered a thick-crust pizza with the following toppings:\n",
      "\tmushrooms\n",
      "\textra cheese\n"
     ]
    }
   ],
   "source": [
    "# 存储顾客所点比萨的信息\n",
    "pizza = {\n",
    "'crust': 'thick',\n",
    "'toppings': ['mushrooms', 'extra cheese'],\n",
    "}\n",
    "# 概述顾客点的比萨\n",
    "print(f\"You ordered a {pizza['crust']}-crust pizza \"\n",
    "\"with the following toppings:\")\n",
    "for topping in pizza['toppings']:\n",
    "    print(f\"\\t{topping}\")"
   ]
  },
  {
   "cell_type": "code",
   "execution_count": 57,
   "id": "b4efe898",
   "metadata": {},
   "outputs": [
    {
     "name": "stdout",
     "output_type": "stream",
     "text": [
      "\n",
      "Jen's favorite languages are:\n",
      "\tPython\n",
      "\tRust\n",
      "\n",
      "Sarah's favorite languages are:\n",
      "\tC\n",
      "\n",
      "Edward's favorite languages are:\n",
      "\tRust\n",
      "\tGo\n",
      "\n",
      "Phil's favorite languages are:\n",
      "\tPython\n",
      "\tHaskell\n"
     ]
    }
   ],
   "source": [
    "favorite_languages = {\n",
    "'jen': ['python', 'rust'],\n",
    "'sarah': ['c'],\n",
    "'edward': ['rust', 'go'],\n",
    "'phil': ['python', 'haskell'],\n",
    "}\n",
    "for name, languages in favorite_languages.items():\n",
    "    print(f\"\\n{name.title()}'s favorite languages are:\")\n",
    "    for language in languages:\n",
    "        print(f\"\\t{language.title()}\")"
   ]
  },
  {
   "cell_type": "markdown",
   "id": "1962e6ff",
   "metadata": {},
   "source": [
    "### 6.4.3 在字典中存储字典"
   ]
  },
  {
   "cell_type": "code",
   "execution_count": 58,
   "id": "f2c7d677",
   "metadata": {},
   "outputs": [
    {
     "name": "stdout",
     "output_type": "stream",
     "text": [
      "\n",
      "Username: aeinstein\n",
      "\tFull name: Albert Einstein\n",
      "\tLocation: Princeton\n",
      "\n",
      "Username: mcurie\n",
      "\tFull name: Marie Curie\n",
      "\tLocation: Paris\n"
     ]
    }
   ],
   "source": [
    "users = {\n",
    "'aeinstein': {\n",
    "'first': 'albert',\n",
    "'last': 'einstein',\n",
    "'location': 'princeton',\n",
    "},\n",
    "'mcurie': {\n",
    "'first': 'marie',\n",
    "'last': 'curie',\n",
    "'location': 'paris',\n",
    "},\n",
    "}\n",
    "for username, user_info in users.items():\n",
    "    print(f\"\\nUsername: {username}\")\n",
    "    full_name = f\"{user_info['first']} {user_info['last']}\"\n",
    "    location = user_info['location']\n",
    "    print(f\"\\tFull name: {full_name.title()}\")\n",
    "    print(f\"\\tLocation: {location.title()}\")"
   ]
  },
  {
   "cell_type": "markdown",
   "id": "89a50414",
   "metadata": {},
   "source": [
    "## 练习"
   ]
  },
  {
   "cell_type": "code",
   "execution_count": 8,
   "id": "4462af68",
   "metadata": {},
   "outputs": [
    {
     "name": "stdout",
     "output_type": "stream",
     "text": [
      "Marie\n",
      "Curie\n",
      "25\n",
      "Paris\n"
     ]
    }
   ],
   "source": [
    "# 练习6.1 \n",
    "classmate_1 = {'first_name': 'Marie', 'last_name': 'Curie', 'age': '25', 'city': 'Paris'}\n",
    "print(classmate_1['first_name'])\n",
    "print(classmate_1['last_name'])\n",
    "print(classmate_1['age'])\n",
    "print(classmate_1['city'])"
   ]
  },
  {
   "cell_type": "code",
   "execution_count": 11,
   "id": "0700236e",
   "metadata": {},
   "outputs": [
    {
     "name": "stdout",
     "output_type": "stream",
     "text": [
      "Daria's favorite number is 15.\n"
     ]
    }
   ],
   "source": [
    "# 练习6.2 \n",
    "favorite_numbers = {\n",
    "    'Jane': 5,\n",
    "    'Tom': 100,\n",
    "    'Dacy': 2024,\n",
    "    'Mike': 500,\n",
    "    'Daria': 15\n",
    "    }\n",
    "number = favorite_numbers['Daria']\n",
    "print(f\"Daria's favorite number is {number}.\")"
   ]
  },
  {
   "cell_type": "code",
   "execution_count": 46,
   "id": "0c23a9ff",
   "metadata": {},
   "outputs": [
    {
     "name": "stdout",
     "output_type": "stream",
     "text": [
      "Variable:\n",
      "\tA reserved memory location to store values.\n",
      "\n",
      "Loop:\n",
      "\tA sequence of instructions that is continually repeated until a certain condition is reached.\n",
      "\n",
      "List:\n",
      "\tA collection of items in a particular order.\n",
      "\n",
      "Dictionary:\n",
      "\tA collection of key-value pairs.\n",
      "\n"
     ]
    }
   ],
   "source": [
    "# 练习6.3 \n",
    "glossary = {\n",
    "    'variable': 'A reserved memory location to store values.',\n",
    "    'loop': 'A sequence of instructions that is continually repeated until a certain condition is reached.',\n",
    "    'list': 'A collection of items in a particular order.',\n",
    "    'dictionary': 'A collection of key-value pairs.',\n",
    "}\n",
    "for term, definition in glossary.items():\n",
    "    print(f\"{term.title()}:\\n\\t{definition}\\n\")"
   ]
  },
  {
   "cell_type": "code",
   "execution_count": 47,
   "id": "b207b892",
   "metadata": {},
   "outputs": [
    {
     "name": "stdout",
     "output_type": "stream",
     "text": [
      "Variable:\n",
      "\tA reserved memory location to store values.\n",
      "\n",
      "Loop:\n",
      "\tA sequence of instructions that is continually repeated until a certain condition is reached.\n",
      "\n",
      "List:\n",
      "\tA collection of items in a particular order.\n",
      "\n",
      "Dictionary:\n",
      "\tA collection of key-value pairs.\n",
      "\n",
      "Function:\n",
      "\tA named block of code designed to perform a cohesive task.\n",
      "\n",
      "String:\n",
      "\tA series of characters.\n",
      "\n",
      "Comment:\n",
      "\tA note in a program that is not executed, used to describe the code.\n",
      "\n",
      "Boolean:\n",
      "\tA data type that can only have the values true or false.\n",
      "\n",
      "Tuple:\n",
      "\tA collection which is ordered and unchangeable.\n",
      "\n",
      "Iteration:\n",
      "\tThe process of looping through the items in a set.\n",
      "\n"
     ]
    }
   ],
   "source": [
    "# 练习6.4 \n",
    "glossary = {\n",
    "    'variable': 'A reserved memory location to store values.',\n",
    "    'loop': 'A sequence of instructions that is continually repeated until a certain condition is reached.',\n",
    "    'list': 'A collection of items in a particular order.',\n",
    "    'dictionary': 'A collection of key-value pairs.',\n",
    "    'function': 'A named block of code designed to perform a cohesive task.'\n",
    "}\n",
    "\n",
    "glossary['string'] = 'A series of characters.'\n",
    "glossary['comment'] = 'A note in a program that is not executed, used to describe the code.'\n",
    "glossary['boolean'] = 'A data type that can only have the values true or false.'\n",
    "glossary['tuple'] = 'A collection which is ordered and unchangeable.'\n",
    "glossary['iteration'] = 'The process of looping through the items in a set.'\n",
    "\n",
    "for term, definition in glossary.items():\n",
    "    print(f\"{term.title()}:\\n\\t{definition}\\n\")"
   ]
  },
  {
   "cell_type": "code",
   "execution_count": 33,
   "id": "cefee5ac",
   "metadata": {},
   "outputs": [
    {
     "name": "stdout",
     "output_type": "stream",
     "text": [
      "The Nile runs through Egypt.\n",
      "The Yangtze runs through China.\n",
      "The Mississippi runs through America.\n",
      "Nile\n",
      "Egypt\n",
      "Yangtze\n",
      "China\n",
      "Mississippi\n",
      "America\n"
     ]
    }
   ],
   "source": [
    "# 练习6.5\n",
    "river_cross = {\n",
    "    'nile': 'egypt', \n",
    "    'yangtze': 'china', \n",
    "    'mississippi': 'america'\n",
    "    }\n",
    "for river,country in river_cross.items():\n",
    "    print(f\"The {river.title()} runs through {country.title()}.\")\n",
    "    \n",
    "for river,country in river_cross.items():\n",
    "    print(river.title())\n",
    "    print(country.title())"
   ]
  },
  {
   "cell_type": "code",
   "execution_count": 48,
   "id": "1fcba5af",
   "metadata": {},
   "outputs": [
    {
     "name": "stdout",
     "output_type": "stream",
     "text": [
      "Jen, thank you for telling me that you like Python.\n",
      "Amy, can you tell me what's your favorite language?\n",
      "Sarah, thank you for telling me that you like Python.\n",
      "Jack, can you tell me what's your favorite language?\n"
     ]
    }
   ],
   "source": [
    "# 练习6.6\n",
    "friends = ['jen', 'amy', 'sarah', 'jack']\n",
    "favorite_languages = {\n",
    "    'jen': 'python',\n",
    "    'sarah': 'c',\n",
    "    'edward': 'rust',\n",
    "    'phil': 'python',\n",
    "    }\n",
    "for name in friends:\n",
    "    if name in favorite_languages.keys():\n",
    "        print(f\"{name.title()}, thank you for telling me that you like {language.title()}.\")\n",
    "    else:\n",
    "        print(f\"{name.title()}, can you tell me what's your favorite language?\")"
   ]
  },
  {
   "cell_type": "code",
   "execution_count": 62,
   "id": "b9904a91",
   "metadata": {},
   "outputs": [
    {
     "name": "stdout",
     "output_type": "stream",
     "text": [
      "\n",
      "People:\n",
      "Marie Curie\n",
      "Age:\n",
      "25\n",
      "City:\n",
      "Paris\n",
      "\n",
      "People:\n",
      "Steve Jobs\n",
      "Age:\n",
      "35\n",
      "City:\n",
      "San Francisco\n",
      "\n",
      "People:\n",
      "Scarlett Johansson\n",
      "Age:\n",
      "40\n",
      "City:\n",
      "NewYork\n"
     ]
    }
   ],
   "source": [
    "# 练习6.7\n",
    "person_1 = {\n",
    "    'first': 'Marie', \n",
    "    'last': 'Curie', \n",
    "    'age': '25', \n",
    "    'city': 'Paris'\n",
    "    }\n",
    "person_2 = {\n",
    "    'first': 'Steve', \n",
    "    'last': 'Jobs', \n",
    "    'age': '35', \n",
    "    'city': 'San Francisco'\n",
    "    }\n",
    "person_3 = {\n",
    "    'first': 'Scarlett', \n",
    "    'last': 'Johansson', \n",
    "    'age': '40', \n",
    "    'city': 'NewYork'\n",
    "    }\n",
    "people = [person_1, person_2, person_3]\n",
    "for person in people:\n",
    "    print('\\nPeople:')\n",
    "    full_name = f\"{person['first']} {person['last']}\"\n",
    "    print(full_name)\n",
    "    print('Age:')\n",
    "    print(person['age'])\n",
    "    print('City:')\n",
    "    print(person['city'])"
   ]
  },
  {
   "cell_type": "code",
   "execution_count": 70,
   "id": "2cd67f97",
   "metadata": {},
   "outputs": [
    {
     "name": "stdout",
     "output_type": "stream",
     "text": [
      "\n",
      "Animal type:\n",
      "dog\n",
      "Name:\n",
      "Happy\n",
      "Owner:\n",
      "John\n",
      "\n",
      "Animal type:\n",
      "cat\n",
      "Name:\n",
      "Meow\n",
      "Owner:\n",
      "Amy\n",
      "\n",
      "Animal type:\n",
      "rabbit\n",
      "Name:\n",
      "Angle\n",
      "Owner:\n",
      "Dora\n"
     ]
    }
   ],
   "source": [
    "# 练习6.8\n",
    "pet_1 = {\n",
    "    'animal_type': 'dog',\n",
    "    'name': 'happy',\n",
    "    'owner': 'john',\n",
    "    }\n",
    "pet_2 = {\n",
    "    'animal_type': 'cat',\n",
    "    'name': 'meow',\n",
    "    'owner': 'amy',\n",
    "    }\n",
    "pet_3 = {\n",
    "    'animal_type': 'rabbit',\n",
    "    'name': 'angle',\n",
    "    'owner': 'dora',\n",
    "    }\n",
    "pets = [pet_1, pet_2, pet_3]\n",
    "for pet in pets:\n",
    "    print(\"\\nAnimal type:\")\n",
    "    print(pet['animal_type'])\n",
    "    print(\"Name:\")\n",
    "    name = f\"{pet['name']}\"\n",
    "    print(name.title())\n",
    "    print(\"Owner:\")\n",
    "    owner = f\"{pet['owner']}\"\n",
    "    print(owner.title())"
   ]
  },
  {
   "cell_type": "code",
   "execution_count": 72,
   "id": "3f513429",
   "metadata": {},
   "outputs": [
    {
     "name": "stdout",
     "output_type": "stream",
     "text": [
      "Amy's favorite places are:\n",
      "\tChongqing\n",
      "\tBeijing\n",
      "\tShanghai\n",
      "Tom's favorite places are:\n",
      "\tXiamen\n",
      "\tYunnan\n",
      "David's favorite places are:\n",
      "\tChangsha\n"
     ]
    }
   ],
   "source": [
    "# 练习6.9\n",
    "favorite_places = {\n",
    "    'amy': ['chongqing', 'beijing', 'shanghai'],\n",
    "    'tom': ['xiamen', 'yunnan'],\n",
    "    'david': ['changsha']\n",
    "    }\n",
    "for name, places in favorite_places.items():\n",
    "    print(f\"{name.title()}'s favorite places are:\")\n",
    "    for place in places:\n",
    "        print(f\"\\t{place.title()}\")"
   ]
  },
  {
   "cell_type": "code",
   "execution_count": 75,
   "id": "6224cf42",
   "metadata": {},
   "outputs": [
    {
     "name": "stdout",
     "output_type": "stream",
     "text": [
      "\n",
      "Alice's favorite numbers are:\n",
      "42\n",
      "64\n",
      "\n",
      "Bob's favorite numbers are:\n",
      "7\n",
      "14\n",
      "28\n",
      "\n",
      "Charlie's favorite numbers are:\n",
      "23\n",
      "23\n",
      "\n",
      "Denise's favorite numbers are:\n",
      "3\n",
      "\n",
      "Edward's favorite numbers are:\n",
      "9\n",
      "16\n",
      "81\n"
     ]
    }
   ],
   "source": [
    "# 练习6.10\n",
    "favorite_numbers = {\n",
    "    'alice': [42, 64],\n",
    "    'bob': [7, 14, 28],\n",
    "    'charlie': [23, 23],\n",
    "    'denise': [3],\n",
    "    'edward': [9, 16, 81],\n",
    "    }\n",
    "for name, numbers in favorite_numbers.items():\n",
    "    print(f\"\\n{name.title()}'s favorite numbers are:\")\n",
    "    for number in numbers:\n",
    "        print(f\"{number}\")"
   ]
  },
  {
   "cell_type": "code",
   "execution_count": 76,
   "id": "476a9d3a",
   "metadata": {},
   "outputs": [
    {
     "name": "stdout",
     "output_type": "stream",
     "text": [
      "\n",
      "New York is in Usa.\n",
      "It has a population of about 9000000.\n",
      "Known as the most flourishing city.\n",
      "\n",
      "Paris is in France.\n",
      "It has a population of about 2148000.\n",
      "Known as the most romantic city.\n",
      "\n",
      "Tokyo is in Japan.\n",
      "It has a population of about 13960000.\n",
      "It is one of the most densely populated cities in the world.\n"
     ]
    }
   ],
   "source": [
    "# 练习6.11\n",
    "cities = {\n",
    "    'new york': {\n",
    "        'country': 'usa',\n",
    "        'population': 9000000,\n",
    "        'fact': 'Known as the most flourishing city.',\n",
    "    },\n",
    "    'paris': {\n",
    "        'country': 'france',\n",
    "        'population': 2148000,\n",
    "        'fact': 'Known as the most romantic city.',\n",
    "    },\n",
    "    'tokyo': {\n",
    "        'country': 'japan',\n",
    "        'population': 13960000,\n",
    "        'fact': 'It is one of the most densely populated cities in the world.',\n",
    "    },\n",
    "}\n",
    "for city, city_info in cities.items():\n",
    "    country = city_info['country'].title()\n",
    "    population = city_info['population']\n",
    "    fact = city_info['fact']\n",
    "    print(f\"\\n{city.title()} is in {country}.\")\n",
    "    print(f\"It has a population of about {population}.\")\n",
    "    print(f\"{fact}\")"
   ]
  }
 ],
 "metadata": {
  "kernelspec": {
   "display_name": "Python 3 (ipykernel)",
   "language": "python",
   "name": "python3"
  },
  "language_info": {
   "codemirror_mode": {
    "name": "ipython",
    "version": 3
   },
   "file_extension": ".py",
   "mimetype": "text/x-python",
   "name": "python",
   "nbconvert_exporter": "python",
   "pygments_lexer": "ipython3",
   "version": "3.11.5"
  }
 },
 "nbformat": 4,
 "nbformat_minor": 5
}
