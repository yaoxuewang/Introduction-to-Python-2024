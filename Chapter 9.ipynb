{
 "cells": [
  {
   "cell_type": "markdown",
   "id": "c6bfaa23",
   "metadata": {},
   "source": [
    "# 第9章 类"
   ]
  },
  {
   "cell_type": "code",
   "execution_count": null,
   "id": "ecb98830",
   "metadata": {},
   "outputs": [],
   "source": [
    "#面向对象编程（object-oriented programming，OOP）是最有效的软件编写方法之一。\n",
    "#在面向对象编程中，编写表示现实世界中的事物和情景的类（class），并基于这些类来创建对象（object）\n",
    "#根据类来创建对象称为实例化，这让你能够使用类的实例（instance）"
   ]
  },
  {
   "cell_type": "markdown",
   "id": "b117e07c",
   "metadata": {},
   "source": [
    "## 9.1 创建和使用类"
   ]
  },
  {
   "cell_type": "code",
   "execution_count": null,
   "id": "8e90c5e8",
   "metadata": {},
   "outputs": [],
   "source": [
    "#使用类几乎可以模拟任何东西。例如编写一个表示小狗的简单类 Dog\n",
    "\n",
    "#为了创建一个类，里面包含两项信息（名字和年龄）和两种行为（坐下和打滚）\n",
    "\n",
    "\n",
    "class Dog:\n",
    "    \"\"\"一次模拟小狗的简单尝试\"\"\"\n",
    "    def __init__(self, name, age):\n",
    "        \"\"\"初始化属性 name 和 age\"\"\"\n",
    "        self.name = name\n",
    "        self.age = age\n",
    "        \n",
    "    def sit(self):\n",
    "        \"\"\"模拟小狗收到命令时坐下\"\"\"\n",
    "        print(f\"{self.name} is now sitting.\")\n",
    "        \n",
    "    def roll_over(self):\n",
    "        \"\"\"模拟小狗收到命令时打滚\"\"\"\n",
    "        print(f\"{self.name} rolled over!\")\n",
    "        \n",
    "#__init__()是一个特殊方法，每当你根据 Dog 类创建新实例时，Python 都会自动运行它\n",
    "#函数名开头和末尾各有两个下划线\n",
    "\n",
    "#self形参：指向一个实例本身的引用\n",
    "#我们将通过实参向 Dog() 传递名字和年龄；self 则会自动传递，因此不需要我们来传递\n",
    "#以 self为前缀的变量可供类中的所有方法使用，可以通过类的任意实例来访问。\n",
    "#self.name = name 获取与形参 name 相关联的值，并将其赋给变量name，然后该变量被关联到当前创建的实例"
   ]
  },
  {
   "cell_type": "markdown",
   "id": "0000d3bf",
   "metadata": {},
   "source": [
    "### 9.1.2 根据类创建实例"
   ]
  },
  {
   "cell_type": "code",
   "execution_count": 4,
   "id": "85a40f32",
   "metadata": {},
   "outputs": [
    {
     "name": "stdout",
     "output_type": "stream",
     "text": [
      "My dog's name is Willie.\n",
      "My dog is 6 years old.\n"
     ]
    }
   ],
   "source": [
    "class Dog:\n",
    "    \"\"\"一次模拟小狗的简单尝试\"\"\"\n",
    "    def __init__(self, name, age):\n",
    "        \"\"\"初始化属性 name 和 age\"\"\"\n",
    "        self.name = name\n",
    "        self.age = age\n",
    "        \n",
    "    def sit(self):\n",
    "        \"\"\"模拟小狗收到命令时坐下\"\"\"\n",
    "        print(f\"{self.name} is now sitting.\")\n",
    "        \n",
    "    def roll_over(self):\n",
    "        \"\"\"模拟小狗收到命令时打滚\"\"\"\n",
    "        print(f\"{self.name} rolled over!\")\n",
    "\n",
    "#访问属性        \n",
    "my_dog = Dog('Willie', 6) #一般实例全小写，类开头大写\n",
    "print(f\"My dog's name is {my_dog.name}.\")\n",
    "print(f\"My dog is {my_dog.age} years old.\")"
   ]
  },
  {
   "cell_type": "code",
   "execution_count": 12,
   "id": "1377d9d4",
   "metadata": {},
   "outputs": [
    {
     "name": "stdout",
     "output_type": "stream",
     "text": [
      "Willie is now sitting.\n",
      "Willie rolled over!\n"
     ]
    }
   ],
   "source": [
    "#调用方法\n",
    "my_dog = Dog('Willie', 6) \n",
    "my_dog.sit()\n",
    "my_dog.roll_over()"
   ]
  },
  {
   "cell_type": "code",
   "execution_count": 11,
   "id": "eb4b3c5f",
   "metadata": {},
   "outputs": [
    {
     "name": "stdout",
     "output_type": "stream",
     "text": [
      "My dog's name is Willie.\n",
      "My dog is 6 years old.\n",
      "Willie is now sitting.\n",
      "\n",
      "Your dog's name is Lucy.\n",
      "Your dog is 3 years old.\n",
      "Lucy is now sitting.\n"
     ]
    }
   ],
   "source": [
    "#创建多个实例\n",
    "my_dog = Dog('Willie', 6)\n",
    "your_dog = Dog('Lucy', 3)\n",
    "print(f\"My dog's name is {my_dog.name}.\")\n",
    "print(f\"My dog is {my_dog.age} years old.\")\n",
    "my_dog.sit()\n",
    "print(f\"\\nYour dog's name is {your_dog.name}.\")\n",
    "print(f\"Your dog is {your_dog.age} years old.\")\n",
    "your_dog.sit()"
   ]
  },
  {
   "cell_type": "markdown",
   "id": "02a0a647",
   "metadata": {},
   "source": [
    "## 9.2 使用类和实例"
   ]
  },
  {
   "cell_type": "code",
   "execution_count": null,
   "id": "29eb75bf",
   "metadata": {},
   "outputs": [],
   "source": [
    "#学习修改实例的属性"
   ]
  },
  {
   "cell_type": "markdown",
   "id": "a949d97b",
   "metadata": {},
   "source": [
    "### 9.2.1 Car类"
   ]
  },
  {
   "cell_type": "code",
   "execution_count": 13,
   "id": "37e4fcfe",
   "metadata": {},
   "outputs": [
    {
     "name": "stdout",
     "output_type": "stream",
     "text": [
      "2024 Audi A4\n"
     ]
    }
   ],
   "source": [
    "class Car:\n",
    "    \"\"\"一次模拟汽车的简单尝试\"\"\"\n",
    "    def __init__(self, make, model, year):\n",
    "        \"\"\"初始化描述汽车的属性\"\"\"\n",
    "        self.make = make\n",
    "        self.model = model\n",
    "        self.year = year\n",
    "    def get_descriptive_name(self):\n",
    "        \"\"\"返回格式规范的描述性信息\"\"\"\n",
    "        long_name = f\"{self.year} {self.make} {self.model}\"\n",
    "        return long_name.title()\n",
    "    \n",
    "my_new_car = Car('audi', 'a4', 2024)\n",
    "print(my_new_car.get_descriptive_name())"
   ]
  },
  {
   "cell_type": "markdown",
   "id": "d786141e",
   "metadata": {},
   "source": [
    "### 9.2.2 给属性指定默认值"
   ]
  },
  {
   "cell_type": "code",
   "execution_count": 15,
   "id": "fa7a4cf0",
   "metadata": {},
   "outputs": [
    {
     "name": "stdout",
     "output_type": "stream",
     "text": [
      "2024 Audi A4\n",
      "This car has 0 miles on it.\n"
     ]
    }
   ],
   "source": [
    "#可以在 __init__() 方法中为其指定默认值\n",
    "#添加一个名为 odometer_reading 的属性，其初始值总是为 0\n",
    "\n",
    "class Car:\n",
    "    \"\"\"一次模拟汽车的简单尝试\"\"\"\n",
    "    def __init__(self, make, model, year):\n",
    "        \"\"\"初始化描述汽车的属性\"\"\"\n",
    "        self.make = make\n",
    "        self.model = model\n",
    "        self.year = year\n",
    "        self.odometer_reading = 0\n",
    "    def get_descriptive_name(self):\n",
    "        \"\"\"返回格式规范的描述性信息\"\"\"\n",
    "        long_name = f\"{self.year} {self.make} {self.model}\"\n",
    "        return long_name.title()\n",
    "    def read_odometer(self):\n",
    "        \"\"\"打印一条指出汽车行驶里程的消息\"\"\"\n",
    "        print(f\"This car has {self.odometer_reading} miles on it.\")\n",
    "        \n",
    "my_new_car = Car('audi', 'a4', 2024)\n",
    "print(my_new_car.get_descriptive_name())\n",
    "my_new_car.read_odometer()"
   ]
  },
  {
   "cell_type": "markdown",
   "id": "19f29833",
   "metadata": {},
   "source": [
    "### 9.2.3 修改属性的值"
   ]
  },
  {
   "cell_type": "code",
   "execution_count": 16,
   "id": "0c343ef6",
   "metadata": {},
   "outputs": [
    {
     "name": "stdout",
     "output_type": "stream",
     "text": [
      "2024 Audi A4\n",
      "This car has 23 miles on it.\n"
     ]
    }
   ],
   "source": [
    "#直接修改属性的值\n",
    "my_new_car = Car('audi', 'a4', 2024)\n",
    "print(my_new_car.get_descriptive_name())\n",
    "my_new_car.odometer_reading = 23 #直接将里程表读数设置为 23\n",
    "my_new_car.read_odometer()"
   ]
  },
  {
   "cell_type": "code",
   "execution_count": 17,
   "id": "7b188f36",
   "metadata": {},
   "outputs": [
    {
     "name": "stdout",
     "output_type": "stream",
     "text": [
      "2024 Audi A4\n",
      "This car has 23 miles on it.\n"
     ]
    }
   ],
   "source": [
    "#通过方法修改属性的值\n",
    "#update_odometer() 方法\n",
    "class Car:\n",
    "    \"\"\"一次模拟汽车的简单尝试\"\"\"\n",
    "    def __init__(self, make, model, year):\n",
    "        \"\"\"初始化描述汽车的属性\"\"\"\n",
    "        self.make = make\n",
    "        self.model = model\n",
    "        self.year = year\n",
    "        self.odometer_reading = 0\n",
    "    def get_descriptive_name(self):\n",
    "        \"\"\"返回格式规范的描述性信息\"\"\"\n",
    "        long_name = f\"{self.year} {self.make} {self.model}\"\n",
    "        return long_name.title()\n",
    "    def read_odometer(self):\n",
    "        \"\"\"打印一条指出汽车行驶里程的消息\"\"\"\n",
    "        print(f\"This car has {self.odometer_reading} miles on it.\")\n",
    "    def update_odometer(self, mileage):\n",
    "        \"\"\"将里程表读数设置为指定的值\"\"\"\n",
    "        self.odometer_reading = mileage\n",
    "\n",
    "my_new_car = Car('audi', 'a4', 2024)\n",
    "print(my_new_car.get_descriptive_name())\n",
    "my_new_car.update_odometer(23) #添加了 update_odometer() 方法。这个方法接受一个里程值，并将其赋给 self.odometer_reading。\n",
    "my_new_car.read_odometer()"
   ]
  },
  {
   "cell_type": "code",
   "execution_count": 18,
   "id": "e94f8690",
   "metadata": {},
   "outputs": [
    {
     "name": "stdout",
     "output_type": "stream",
     "text": [
      "2019 Subaru Outback\n",
      "This car has 23500 miles on it.\n",
      "This car has 23600 miles on it.\n"
     ]
    }
   ],
   "source": [
    "#通过方法让属性的值递增\n",
    "class Car:\n",
    "    \"\"\"一次模拟汽车的简单尝试\"\"\"\n",
    "    def __init__(self, make, model, year):\n",
    "        \"\"\"初始化描述汽车的属性\"\"\"\n",
    "        self.make = make\n",
    "        self.model = model\n",
    "        self.year = year\n",
    "        self.odometer_reading = 0\n",
    "    def get_descriptive_name(self):\n",
    "        \"\"\"返回格式规范的描述性信息\"\"\"\n",
    "        long_name = f\"{self.year} {self.make} {self.model}\"\n",
    "        return long_name.title()\n",
    "    def read_odometer(self):\n",
    "        \"\"\"打印一条指出汽车行驶里程的消息\"\"\"\n",
    "        print(f\"This car has {self.odometer_reading} miles on it.\")\n",
    "    def update_odometer(self, mileage):\n",
    "        \"\"\"将里程表读数设置为指定的值\"\"\"\n",
    "        self.odometer_reading = mileage\n",
    "    def increment_odometer(self, miles):\n",
    "        \"\"\"让里程表读数增加指定的量\"\"\"\n",
    "        self.odometer_reading += miles\n",
    "        \n",
    "my_used_car = Car('subaru', 'outback', 2019)\n",
    "print(my_used_car.get_descriptive_name())\n",
    "my_used_car.update_odometer(23_500)\n",
    "my_used_car.read_odometer()\n",
    "my_used_car.increment_odometer(100)\n",
    "my_used_car.read_odometer()"
   ]
  },
  {
   "cell_type": "markdown",
   "id": "db06c2dd",
   "metadata": {},
   "source": [
    "## 9.3 继承"
   ]
  },
  {
   "cell_type": "code",
   "execution_count": 20,
   "id": "e21e1182",
   "metadata": {},
   "outputs": [],
   "source": [
    "#如果要编写的类是一个既有的类的特殊版本，可使用继承（inheritance）\n",
    "#原有的类称为父类（parent class）\n",
    "#新类称为子类（child class）。子类不仅继承了父类的所有属性和方法，还可定义自己的属性和方法。"
   ]
  },
  {
   "cell_type": "markdown",
   "id": "202d5436",
   "metadata": {},
   "source": [
    "### 9.3.1 子类的 __init__() 方法"
   ]
  },
  {
   "cell_type": "code",
   "execution_count": 21,
   "id": "86f624fc",
   "metadata": {},
   "outputs": [
    {
     "name": "stdout",
     "output_type": "stream",
     "text": [
      "2024 Tesla Model Y\n"
     ]
    }
   ],
   "source": [
    "class ElectricCar(Car):\n",
    "    \"\"\"电动汽车的独特之处\"\"\"\n",
    "    def __init__(self, make, model, year):\n",
    "        \"\"\"初始化父类的属性\"\"\"\n",
    "        super().__init__(make, model, year)\n",
    "        \n",
    "my_ev = ElectricCar('Tesla', 'Model Y', 2024)\n",
    "print(my_ev.get_descriptive_name())"
   ]
  },
  {
   "cell_type": "markdown",
   "id": "42c9fc4f",
   "metadata": {},
   "source": [
    "### 9.3.2 给子类定义属性和方法"
   ]
  },
  {
   "cell_type": "code",
   "execution_count": 23,
   "id": "809ea239",
   "metadata": {},
   "outputs": [
    {
     "name": "stdout",
     "output_type": "stream",
     "text": [
      "2024 Tesla Model Y\n",
      "This car has a 40-kWh battery.\n"
     ]
    }
   ],
   "source": [
    "class ElectricCar(Car):\n",
    "    \"\"\"电动汽车的独特之处\"\"\"\n",
    "    def __init__(self, make, model, year):\n",
    "        \"\"\"初始化父类的属性\"\"\"\n",
    "        super().__init__(make, model, year)\n",
    "        self.battery_size = 40\n",
    "    def describe_battery(self):\n",
    "        \"\"\"打印一条描述电池容量的消息\"\"\"\n",
    "        print(f\"This car has a {self.battery_size}-kWh battery.\")\n",
    "        \n",
    "my_ev = ElectricCar('Tesla', 'Model Y', 2024)\n",
    "print(my_ev.get_descriptive_name())\n",
    "my_ev.describe_battery()"
   ]
  },
  {
   "cell_type": "markdown",
   "id": "621765bd",
   "metadata": {},
   "source": [
    "### 9.3.3 重写父类中的方法"
   ]
  },
  {
   "cell_type": "code",
   "execution_count": null,
   "id": "c7c3238a",
   "metadata": {},
   "outputs": [],
   "source": [
    "class ElectricCar(Car):\n",
    "    --snip--\n",
    "    def fill_gas_tank(self):\n",
    "        \"\"\"电动汽车没有油箱\"\"\"\n",
    "        print(\"This car doesn't have a gas tank!\")"
   ]
  },
  {
   "cell_type": "markdown",
   "id": "213bd8e9",
   "metadata": {},
   "source": [
    "### 9.3.4 将实例用作属性"
   ]
  },
  {
   "cell_type": "code",
   "execution_count": 5,
   "id": "efc9e3e3",
   "metadata": {},
   "outputs": [
    {
     "name": "stdout",
     "output_type": "stream",
     "text": [
      "2024 Nissan Leaf\n",
      "This car has a 40-kWh battery.\n"
     ]
    }
   ],
   "source": [
    "#将大型类拆分成多个协同工作的小类，这种方法称为组合（composition）\n",
    "#在不断给 ElectricCar 类添加细节时，我们可能会发现其中包含很多专门针对汽车电池的属性和方法。在这种情况下，可将这些属性和方法提取出来，放到一个名为 Battery 的类中，并将一个 Battery 实例作为 ElectricCar 类的属性\n",
    "\n",
    "class Car:\n",
    "    \"\"\"一次模拟汽车的简单尝试\"\"\"\n",
    "    def __init__(self, make, model, year):\n",
    "        \"\"\"初始化描述汽车的属性\"\"\"\n",
    "        self.make = make\n",
    "        self.model = model\n",
    "        self.year = year\n",
    "        self.odometer_reading = 0\n",
    "    def get_descriptive_name(self):\n",
    "        \"\"\"返回格式规范的描述性信息\"\"\"\n",
    "        long_name = f\"{self.year} {self.make} {self.model}\"\n",
    "        return long_name.title()\n",
    "    def read_odometer(self):\n",
    "        \"\"\"打印一条指出汽车行驶里程的消息\"\"\"\n",
    "        print(f\"This car has {self.odometer_reading} miles on it.\")\n",
    "    def update_odometer(self, mileage):\n",
    "        \"\"\"将里程表读数设置为指定的值\"\"\"\n",
    "        self.odometer_reading = mileage\n",
    "        \n",
    "class Battery:\n",
    "    \"\"\"一次模拟电动汽车电池的简单尝试\"\"\"\n",
    "    #定义了一个名为 Battery 的新类\n",
    "    def __init__(self, battery_size=40):\n",
    "        \"\"\"初始化电池的属性\"\"\"\n",
    "        self.battery_size = battery_size\n",
    "    def describe_battery(self):\n",
    "        \"\"\"打印一条描述电池容量的消息\"\"\"\n",
    "        print(f\"This car has a {self.battery_size}-kWh battery.\")\n",
    "    \n",
    "class ElectricCar(Car):\n",
    "    \"\"\"电动汽车的独特之处\"\"\"\n",
    "    def __init__(self, make, model, year):\n",
    "        \"\"\"\n",
    "        先初始化父类的属性，再初始化电动汽车特有的属性\n",
    "        \"\"\"\n",
    "        super().__init__(make, model, year)\n",
    "        self.battery = Battery()\n",
    "        \n",
    "my_leaf = ElectricCar('nissan', 'leaf', 2024)\n",
    "print(my_leaf.get_descriptive_name())\n",
    "my_leaf.battery.describe_battery()"
   ]
  },
  {
   "cell_type": "markdown",
   "id": "dda2a0c4",
   "metadata": {},
   "source": [
    "## 9.4 导入类"
   ]
  },
  {
   "cell_type": "markdown",
   "id": "76dea17a",
   "metadata": {},
   "source": [
    "### 9.4.1 导入单个类"
   ]
  },
  {
   "cell_type": "code",
   "execution_count": null,
   "id": "7cc0caaf",
   "metadata": {},
   "outputs": [],
   "source": [
    "#存储类 Car.py\n",
    "\"\"\"一个用来表示汽车的类\"\"\"\n",
    "class Car:\n",
    "    \"\"\"一次模拟汽车的简单尝试\"\"\"\n",
    "    def __init__(self, make, model, year):\n",
    "        \"\"\"初始化描述汽车的属性\"\"\"\n",
    "        self.make = make\n",
    "        self.model = model\n",
    "        self.year = year\n",
    "        self.odometer_reading = 0\n",
    "    def get_descriptive_name(self):\n",
    "        \"\"\"返回格式规范的描述性名称\"\"\"\n",
    "        long_name = f\"{self.year} {self.make} {self.model}\"\n",
    "        return long_name.title()\n",
    "    def read_odometer(self):\n",
    "        \"\"\"打印一条消息，指出汽车的行驶里程\"\"\"\n",
    "        print(f\"This car has {self.odometer_reading} miles on it.\")\n",
    "    def update_odometer(self, mileage):\n",
    "        \"\"\"\n",
    "        将里程表读数设置为指定的值\n",
    "        拒绝将里程表往回调\n",
    "        \"\"\"\n",
    "        if mileage >= self.odometer_reading:\n",
    "            self.odometer_reading = mileage\n",
    "        else:\n",
    "            print(\"You can't roll back an odometer!\")\n",
    "    def increment_odometer(self, miles):\n",
    "        \"\"\"让里程表读数增加指定的量\"\"\"\n",
    "        self.odometer_reading += miles\n",
    "\n",
    "#创建另一个文件——my_car.py，在其中导入 Car 类并创建其实例：\n",
    "from car import Car\n",
    "my_new_car = Car('audi', 'a4', 2024)\n",
    "print(my_new_car.get_descriptive_name())\n",
    "my_new_car.odometer_reading = 23\n",
    "my_new_car.read_odometer()"
   ]
  },
  {
   "cell_type": "markdown",
   "id": "0b0f4774",
   "metadata": {},
   "source": [
    "### 9.4.2 在一个模块中存储多个类"
   ]
  },
  {
   "cell_type": "code",
   "execution_count": null,
   "id": "0b220b6d",
   "metadata": {},
   "outputs": [],
   "source": [
    "\"\"\"一组用于表示燃油汽车和电动汽车的类\"\"\"\n",
    "class Car:\n",
    "    --snip--\n",
    "class Battery:\n",
    "    \"\"\"一次模拟电动汽车电瓶的简单尝试\"\"\"\n",
    "    def __init__(self, battery_size=40):\n",
    "        \"\"\"初始化电池的属性\"\"\"\n",
    "        self.battery_size = battery_size\n",
    "    def describe_battery(self):\n",
    "        \"\"\"打印一条描述电池容量的消息\"\"\"\n",
    "        print(f\"This car has a {self.battery_size}-kWh battery.\")\n",
    "    def get_range(self):\n",
    "        \"\"\"打印一条描述电池续航里程的消息\"\"\"\n",
    "        if self.battery_size == 40:\n",
    "            range = 150\n",
    "        elif self.battery_size == 65:\n",
    "            range = 225\n",
    "        print(f\"This car can go about {range} miles on a full charge.\")\n",
    "\n",
    "class ElectricCar(Car):\n",
    "    \"\"\"模拟电动汽车的独特之处\"\"\"\n",
    "    def __init__(self, make, model, year):\n",
    "    \"\"\"\n",
    "    先初始化父类的属性，再初始化电动汽车特有的属性\n",
    "    \"\"\"\n",
    "    super().__init__(make, model, year)\n",
    "    self.battery = Battery()"
   ]
  },
  {
   "cell_type": "markdown",
   "id": "9655d9cf",
   "metadata": {},
   "source": [
    "### 9.4.3 从一个模块中导入多个类"
   ]
  },
  {
   "cell_type": "code",
   "execution_count": null,
   "id": "ac79e751",
   "metadata": {},
   "outputs": [],
   "source": [
    "#可以根据需要在程序文件中导入任意数量的类\n",
    "#如果要在同一个程序中创建燃油汽车和电动汽车，就需要将 Car 类和 ElectricCar 类都导入\n",
    "\n",
    "from car import Car, ElectricCar #当从一个模块中导入多个类时，用逗号分隔各个类\n",
    "my_mustang = Car('ford', 'mustang', 2024)\n",
    "print(my_mustang.get_descriptive_name())\n",
    "my_leaf = ElectricCar('nissan', 'leaf', 2024)\n",
    "print(my_leaf.get_descriptive_name())"
   ]
  },
  {
   "cell_type": "markdown",
   "id": "ec8fc08b",
   "metadata": {},
   "source": [
    "### 9.4.4 导入整个模块"
   ]
  },
  {
   "cell_type": "code",
   "execution_count": null,
   "id": "d3c0fcca",
   "metadata": {},
   "outputs": [],
   "source": [
    "import car\n",
    "my_mustang = car.Car('ford', 'mustang', 2024)\n",
    "print(my_mustang.get_descriptive_name())\n",
    "my_leaf = car.ElectricCar('nissan', 'leaf',2024)\n",
    "print(my_leaf.get_descriptive_name())"
   ]
  },
  {
   "cell_type": "markdown",
   "id": "ffc4dce6",
   "metadata": {},
   "source": [
    "### 9.4.5 导入模块中的所有类"
   ]
  },
  {
   "cell_type": "code",
   "execution_count": 12,
   "id": "36885e66",
   "metadata": {},
   "outputs": [],
   "source": [
    "#要导入模块中的每个类，可使用\n",
    "from module_name import *"
   ]
  },
  {
   "cell_type": "markdown",
   "id": "03b1c76a",
   "metadata": {},
   "source": [
    "### 9.4.6 在一个模块中导入另一个模块"
   ]
  },
  {
   "cell_type": "code",
   "execution_count": null,
   "id": "73a89d76",
   "metadata": {},
   "outputs": [],
   "source": [
    "#将 Car 类存储在一个模块中，并将 ElectricCar 和 Battery 类存储在另一个模块中。\n",
    "#将第二个模块命名为 electric_car.py（这将覆盖前面创建的文件 electric_car.py），并将 Battery 类和 ElectricCar 类复制到这个模块中：\n",
    "\n",
    "# electric_car.py\n",
    "\"\"\"一组可用于表示电动汽车的类\"\"\"\n",
    "from car import Car\n",
    "class Battery:\n",
    "--snip--\n",
    "class ElectricCar(Car):\n",
    "--snip--\n",
    "\n",
    "# car.py\n",
    "\"\"\"一个可用于表示汽车的类\"\"\"\n",
    "class Car:\n",
    "--snip--\n",
    "\n",
    "#分别从每个模板中导入类\n",
    "#my_cars.py\n",
    "from car import Car\n",
    "from electric_car import ElectricCar\n",
    "my_mustang = Car('ford', 'mustang', 2024)\n",
    "print(my_mustang.get_descriptive_name())\n",
    "my_leaf = ElectricCar('nissan', 'leaf', 2024)\n",
    "print(my_leaf.get_descriptive_name())"
   ]
  },
  {
   "cell_type": "markdown",
   "id": "d9565678",
   "metadata": {},
   "source": [
    "### 9.4.7 使用别名"
   ]
  },
  {
   "cell_type": "code",
   "execution_count": null,
   "id": "99c3dc80",
   "metadata": {},
   "outputs": [],
   "source": [
    "#在导入类时，也可以给它指定别名\n",
    "\n",
    "from electric_car import ElectricCar as EC\n",
    "my_leaf = EC('nissan', 'leaf', 2024)\n",
    "\n",
    "#还可以给模块指定别名\n",
    "import electric_car as ec\n",
    "my_leaf = ec.ElectricCar('nissan', 'leaf', 2024)"
   ]
  },
  {
   "cell_type": "markdown",
   "id": "74d0a66c",
   "metadata": {},
   "source": [
    "## 9.5 Python 标准库"
   ]
  },
  {
   "cell_type": "code",
   "execution_count": 19,
   "id": "d65ca25b",
   "metadata": {},
   "outputs": [
    {
     "data": {
      "text/plain": [
       "4"
      ]
     },
     "execution_count": 19,
     "metadata": {},
     "output_type": "execute_result"
    }
   ],
   "source": [
    "#函数randint() 将两个整数作为参数，并随机返回一个位于这两个整数之间（含）的整数\n",
    "\n",
    "#如何生成一个位于 1 和 6 之间的随机整数\n",
    "from random import randint\n",
    "randint(1, 6)"
   ]
  },
  {
   "cell_type": "code",
   "execution_count": 20,
   "id": "77443e78",
   "metadata": {},
   "outputs": [
    {
     "data": {
      "text/plain": [
       "'martina'"
      ]
     },
     "execution_count": 20,
     "metadata": {},
     "output_type": "execute_result"
    }
   ],
   "source": [
    "#函数choice() 将一个列表或元组作为参数，并随机返回其中的一个元素：\n",
    "from random import choice\n",
    "players = ['charles', 'martina', 'michael', 'florence', 'eli']\n",
    "first_up = choice(players)\n",
    "first_up"
   ]
  },
  {
   "cell_type": "markdown",
   "id": "4146f5ea",
   "metadata": {},
   "source": [
    "## 练习"
   ]
  },
  {
   "cell_type": "code",
   "execution_count": 4,
   "id": "78a5d37c",
   "metadata": {},
   "outputs": [
    {
     "name": "stdout",
     "output_type": "stream",
     "text": [
      "Domino\n",
      "pizza\n",
      "The restaurant Domino serves wonderful pizza.\n",
      "The restaurant Domino is now open.\n"
     ]
    }
   ],
   "source": [
    "# 练习9.1\n",
    "class Restaurant:\n",
    "    def __init__(self, restaurant_name, cuisine_type):\n",
    "        self.restaurant_name = restaurant_name\n",
    "        self.cuisine_type = cuisine_type\n",
    "    def describe_restaurant(self):\n",
    "        print(f\"The restaurant {self.restaurant_name} serves wonderful {self.cuisine_type}.\")\n",
    "    def open_restaurant(self):\n",
    "        print(f\"The restaurant {self.restaurant_name} is now open.\")\n",
    "\n",
    "restaurant = Restaurant('Domino', 'pizza')\n",
    "print(restaurant.restaurant_name)\n",
    "print(restaurant.cuisine_type)\n",
    "restaurant.describe_restaurant()\n",
    "restaurant.open_restaurant()"
   ]
  },
  {
   "cell_type": "code",
   "execution_count": 5,
   "id": "838b6afa",
   "metadata": {},
   "outputs": [
    {
     "name": "stdout",
     "output_type": "stream",
     "text": [
      "The restaurant Domino serves wonderful pizza.\n",
      "The restaurant Domino is now open.\n",
      "The restaurant McDonald serves wonderful hamburger.\n",
      "The restaurant McDonald is now open.\n",
      "The restaurant Saizeriya serves wonderful Italian.\n",
      "The restaurant Saizeriya is now open.\n"
     ]
    }
   ],
   "source": [
    "# 练习9.2\n",
    "class Restaurant:\n",
    "    def __init__(self, restaurant_name, cuisine_type):\n",
    "        self.restaurant_name = restaurant_name\n",
    "        self.cuisine_type = cuisine_type\n",
    "    def describe_restaurant(self):\n",
    "        print(f\"The restaurant {self.restaurant_name} serves wonderful {self.cuisine_type}.\")\n",
    "    def open_restaurant(self):\n",
    "        print(f\"The restaurant {self.restaurant_name} is now open.\")\n",
    "\n",
    "restaurant_1 = Restaurant('Domino', 'pizza')\n",
    "restaurant_1.describe_restaurant()\n",
    "restaurant_1.open_restaurant()\n",
    "\n",
    "restaurant_2 = Restaurant('McDonald', 'hamburger')\n",
    "restaurant_2.describe_restaurant()\n",
    "restaurant_2.open_restaurant()\n",
    "\n",
    "restaurant_3 = Restaurant('Saizeriya', 'Italian')\n",
    "restaurant_3.describe_restaurant()\n",
    "restaurant_3.open_restaurant()"
   ]
  },
  {
   "cell_type": "code",
   "execution_count": 6,
   "id": "b30d0497",
   "metadata": {},
   "outputs": [
    {
     "name": "stdout",
     "output_type": "stream",
     "text": [
      "User's full name: Amy White\n",
      "age: 18\n",
      "location: New York\n",
      "Hello, Amy White! \n",
      "User's full name: Jane Brown\n",
      "age: 25\n",
      "location: Beijing\n",
      "occupation: Teacher\n",
      "Hello, Jane Brown! \n",
      "User's full name: Emily Jones\n",
      "age: 40\n",
      "location: Texas\n",
      "hobby: Gardening\n",
      "Hello, Emily Jones! \n"
     ]
    }
   ],
   "source": [
    "# 练习9.3\n",
    "class User:\n",
    "    def __init__(self, first_name, last_name, **other_info):\n",
    "        self.first_name = first_name\n",
    "        self.last_name = last_name\n",
    "        self.other_info = other_info\n",
    "    def describe_user(self):\n",
    "        print(f\"User's full name: {self.first_name} {self.last_name}\")\n",
    "        for key, value in self.other_info.items():\n",
    "            print(f\"{key}: {value}\")\n",
    "    def greet_user(self):\n",
    "        print(f\"Hello, {self.first_name} {self.last_name}! \")\n",
    "        \n",
    "user1 = User('Amy', 'White', age=18, location='New York')\n",
    "user1.describe_user()\n",
    "user1.greet_user()\n",
    "\n",
    "user2 = User('Jane', 'Brown', age=25, location='Beijing', occupation='Teacher')\n",
    "user2.describe_user()\n",
    "user2.greet_user()\n",
    "\n",
    "user3 = User('Emily', 'Jones', age=40, location='Texas', hobby='Gardening')\n",
    "user3.describe_user()\n",
    "user3.greet_user()"
   ]
  },
  {
   "cell_type": "code",
   "execution_count": 10,
   "id": "19823045",
   "metadata": {},
   "outputs": [
    {
     "name": "stdout",
     "output_type": "stream",
     "text": [
      "This restaurant has served 0 people today.\n",
      "This restaurant has served 88 people today.\n"
     ]
    }
   ],
   "source": [
    "# 练习9.4\n",
    "class Restaurant:\n",
    "    def __init__(self, restaurant_name, cuisine_type):\n",
    "        self.restaurant_name = restaurant_name\n",
    "        self.cuisine_type = cuisine_type\n",
    "        self.number_served = 0\n",
    "    def describe_restaurant(self):\n",
    "        print(f\"The restaurant {self.restaurant_name} serves wonderful {self.cuisine_type}.\")\n",
    "    def open_restaurant(self):\n",
    "        print(f\"The restaurant {self.restaurant_name} is now open.\")\n",
    "    def read_serve_number(self):\n",
    "        print(f\"This restaurant has served {self.number_served} people today.\")\n",
    "        \n",
    "restaurant = Restaurant('Domino', 'pizza')\n",
    "restaurant.read_serve_number()\n",
    "\n",
    "restaurant.number_served = 88\n",
    "restaurant.read_serve_number()"
   ]
  },
  {
   "cell_type": "code",
   "execution_count": 6,
   "id": "37973fea",
   "metadata": {},
   "outputs": [
    {
     "name": "stdout",
     "output_type": "stream",
     "text": [
      "Login attempts: 3\n",
      "Login attempts: 0\n"
     ]
    }
   ],
   "source": [
    "# 练习9.5\n",
    "class User:\n",
    "    def __init__(self, first_name, last_name, **other_info):\n",
    "        self.first_name = first_name\n",
    "        self.last_name = last_name\n",
    "        self.other_info = other_info\n",
    "        self.login_attempts = 0 #新增的login_attempts属性，初始值为0\n",
    "    def describe_user(self):\n",
    "        print(f\"User's full name: {self.first_name} {self.last_name}\")\n",
    "        for key, value in self.other_info.items():\n",
    "            print(f\"{key}: {value}\")\n",
    "    def greet_user(self):\n",
    "        print(f\"Hello, {self.first_name} {self.last_name}! \")\n",
    "    def increment_login_attempts(self):\n",
    "        self.login_attempts += 1\n",
    "    def reset_login_attempts(self):\n",
    "        self.login_attempts = 0\n",
    "        \n",
    "#创建User类的一个实例        \n",
    "user = User('Jane', 'Brown', age=25, location='Beijing', occupation='Teacher')\n",
    "\n",
    "#多次调用increment_login_attempts方法来递增login_attempts属性\n",
    "user.increment_login_attempts()\n",
    "user.increment_login_attempts()\n",
    "user.increment_login_attempts()\n",
    "\n",
    "# 打印递增后的login_attempts属性\n",
    "print(f\"Login attempts: {user.login_attempts}\")\n",
    "\n",
    "# 调用reset_login_attempts方法将login_attempts属性重置为0\n",
    "user.reset_login_attempts()\n",
    "\n",
    "# 打印重置后的login_attempts属性\n",
    "print(f\"Login attempts: {user.login_attempts}\")        "
   ]
  },
  {
   "cell_type": "code",
   "execution_count": 7,
   "id": "14a619aa",
   "metadata": {},
   "outputs": [
    {
     "name": "stdout",
     "output_type": "stream",
     "text": [
      "The restaurant La Piazza serves wonderful Italian.\n",
      "The restaurant Cool Treats serves wonderful Ice Cream.\n",
      "We have the following flavors of ice cream:\n",
      "- Vanilla\n",
      "- Chocolate\n",
      "- Strawberry\n",
      "- Mint Chip\n"
     ]
    }
   ],
   "source": [
    "# 练习9.6\n",
    "class Restaurant:\n",
    "    def __init__(self, restaurant_name, cuisine_type):\n",
    "        self.restaurant_name = restaurant_name\n",
    "        self.cuisine_type = cuisine_type\n",
    "        self.number_served = 0\n",
    "    def describe_restaurant(self):\n",
    "        print(f\"The restaurant {self.restaurant_name} serves wonderful {self.cuisine_type}.\")\n",
    "    def open_restaurant(self):\n",
    "        print(f\"The restaurant {self.restaurant_name} is now open.\")\n",
    "    def read_serve_number(self):\n",
    "        print(f\"This restaurant has served {self.number_served} people today.\")\n",
    "        \n",
    "class IceCreamStand(Restaurant):\n",
    "    def __init__(self, restaurant_name, cuisine_type):\n",
    "        super().__init__(restaurant_name, cuisine_type)\n",
    "        self.flavors = []\n",
    "    def display_flavors(self):\n",
    "        print(\"We have the following flavors of ice cream:\")\n",
    "        for flavor in self.flavors:\n",
    "            print(f\"- {flavor}\")\n",
    "            \n",
    "my_restaurant = Restaurant(\"La Piazza\", \"Italian\")\n",
    "my_restaurant.describe_restaurant()\n",
    "my_ice_cream_stand = IceCreamStand(\"Cool Treats\", \"Ice Cream\")\n",
    "my_ice_cream_stand.describe_restaurant()\n",
    "my_ice_cream_stand.flavors = [\"Vanilla\", \"Chocolate\", \"Strawberry\", \"Mint Chip\"]\n",
    "my_ice_cream_stand.display_flavors()"
   ]
  },
  {
   "cell_type": "code",
   "execution_count": 8,
   "id": "51c65dc5",
   "metadata": {},
   "outputs": [
    {
     "name": "stdout",
     "output_type": "stream",
     "text": [
      "Admin privileges:\n",
      "- can add post\n",
      "- can delete post\n",
      "- can ban user\n"
     ]
    }
   ],
   "source": [
    "# 练习9.7\n",
    "class User:\n",
    "    def __init__(self, first_name, last_name, age, gender, location):\n",
    "        self.first_name = first_name\n",
    "        self.last_name = last_name\n",
    "        self.age = age\n",
    "        self.gender = gender\n",
    "        self.location = location\n",
    "    def describe_user(self):\n",
    "        print(\"User information:\")\n",
    "        print(\"Name: \" + self.first_name.title() + \" \" + self.last_name.title())\n",
    "        print(\"Age: \" + str(self.age))\n",
    "        print(\"Gender: \" + self.gender.title())\n",
    "        print(\"Location: \" + self.location.title())\n",
    "    def greet_user(self):\n",
    "        print(\"Hello, \" + self.first_name.title() + \" \" + self.last_name.title() + \"!\")\n",
    "# 继承 User 类\n",
    "class Admin(User):\n",
    "    def __init__(self, first_name, last_name, age, gender, location):\n",
    "        super().__init__(first_name, last_name, age, gender, location)\n",
    "        self.privileges = [\"can add post\", \"can delete post\", \"can ban user\"]\n",
    "    def show_privileges(self):\n",
    "        print(\"Admin privileges:\")\n",
    "        for privilege in self.privileges:\n",
    "            print(\"- \" + privilege)\n",
    "            \n",
    "admin = Admin(\"Tom\", \"Smith\", 30, \"male\", \"New York\")\n",
    "admin.show_privileges()"
   ]
  },
  {
   "cell_type": "code",
   "execution_count": 9,
   "id": "3fb21277",
   "metadata": {},
   "outputs": [
    {
     "name": "stdout",
     "output_type": "stream",
     "text": [
      "Admin privileges:\n",
      "- can add post\n",
      "- can delete post\n",
      "- can ban user\n"
     ]
    }
   ],
   "source": [
    "# 练习9.8\n",
    "class User:\n",
    "    def __init__(self, first_name, last_name, age, gender, location):\n",
    "        self.first_name = first_name\n",
    "        self.last_name = last_name\n",
    "        self.age = age\n",
    "        self.gender = gender\n",
    "        self.location = location\n",
    "    def describe_user(self):\n",
    "        print(\"User information:\")\n",
    "        print(\"Name: \" + self.first_name.title() + \" \" + self.last_name.title())\n",
    "        print(\"Age: \" + str(self.age))\n",
    "        print(\"Gender: \" + self.gender.title())\n",
    "        print(\"Location: \" + self.location.title())\n",
    "    def greet_user(self):\n",
    "        print(\"Hello, \" + self.first_name.title() + \" \" + self.last_name.title() + \"!\")\n",
    "class Privileges:\n",
    "    def __init__(self):\n",
    "        self.privileges = [\"can add post\", \"can delete post\", \"can ban user\"]\n",
    "    def show_privileges(self):\n",
    "        print(\"Admin privileges:\")\n",
    "        for privilege in self.privileges:\n",
    "            print(\"- \" + privilege)\n",
    "class Admin(User):\n",
    "    def __init__(self, first_name, last_name, age, gender, location):\n",
    "        super().__init__(first_name, last_name, age, gender, location)\n",
    "        self.privileges = Privileges()\n",
    "        \n",
    "admin = Admin(\"Tom\", \"Smith\", 30, \"male\", \"New York\")\n",
    "admin.privileges.show_privileges()"
   ]
  },
  {
   "cell_type": "code",
   "execution_count": 10,
   "id": "25f68583",
   "metadata": {},
   "outputs": [
    {
     "name": "stdout",
     "output_type": "stream",
     "text": [
      "------Electric car with default battery capacity------\n",
      "This car can go about 150 miles on a full charge.\n",
      "\n",
      "------Upgrade battery and check the range again------\n",
      "This car can go about 225 miles on a full charge.\n"
     ]
    }
   ],
   "source": [
    "# 练习9.9\n",
    "class Car:\n",
    "    # 一次模拟汽车的简单尝试\n",
    "    def __init__(self, make, model, year):\n",
    "        self.make = make\n",
    "        self.model = model\n",
    "        self.year = year\n",
    "        self.odometer_reading = 0\n",
    "    def get_describe_name(self):\n",
    "        long_name = f\"{self.year} {self.make} {self.model}\"\n",
    "        return long_name.title()\n",
    "    def read_odometer(self):\n",
    "        print(f\"This car has {self.odometer_reading} miles on it\")\n",
    "    def update_odometer(self, mileage):\n",
    "        if mileage >= self.odometer_reading:\n",
    "            self.odometer_reading = mileage\n",
    "        else:\n",
    "            print(\"You can't roll back an odometer!\")\n",
    "    def increment_odometer(self, miles):\n",
    "        self.odometer_reading += miles\n",
    "class Battery:\n",
    "    def __init__(self, battery_size=40):\n",
    "        self.battery_size = battery_size\n",
    "    def describe_battery(self):\n",
    "        print(f\"This car has a {self.battery_size}-kWh battery.\")\n",
    "    def get_range(self):\n",
    "        if self.battery_size == 40:\n",
    "            range = 150\n",
    "        elif self.battery_size == 65:\n",
    "            range = 225\n",
    "        print(f\"This car can go about {range} miles on a full charge.\")\n",
    "    def upgrade_battery(self):\n",
    "        if self.battery_size != 65:\n",
    "            self.battery_size = 65\n",
    "class ElectricCar(Car):\n",
    "    def __init__(self, make, model, year):\n",
    "        super().__init__(make, model, year)\n",
    "        self.battery = Battery()\n",
    "        \n",
    "# 创建一辆默认容量为40的电动汽车，并调用get_range()方法\n",
    "my_electric_car = ElectricCar(\"Tesla\", \"Model S\", 2022)\n",
    "print(\"------Electric car with default battery capacity------\")\n",
    "my_electric_car.battery.get_range()\n",
    "\n",
    "# 升级电池并再次调用get_range()\n",
    "print(\"\\n------Upgrade battery and check the range again------\")\n",
    "my_electric_car.battery.upgrade_battery()\n",
    "my_electric_car.battery.get_range()"
   ]
  },
  {
   "cell_type": "code",
   "execution_count": 14,
   "id": "5962c0f7",
   "metadata": {},
   "outputs": [
    {
     "name": "stdout",
     "output_type": "stream",
     "text": [
      "Welcome to Pizza Hut!\n",
      "Our cuisine type is Italian.\n"
     ]
    }
   ],
   "source": [
    "# 练习9.10\n",
    "from restaurant import Restaurant\n",
    "# 创建一个 Restaurant 实例\n",
    "my_restaurant = Restaurant(\"Pizza Hut\", \"Italian\")\n",
    "# 调用 describe_restaurant 方法确认导入和实例化工作正常\n",
    "my_restaurant.describe_restaurant()"
   ]
  },
  {
   "cell_type": "code",
   "execution_count": 15,
   "id": "18ddae16",
   "metadata": {},
   "outputs": [
    {
     "name": "stdout",
     "output_type": "stream",
     "text": [
      "Admin privileges:\n",
      "- can add post\n",
      "- can delete post\n",
      "- can ban user\n"
     ]
    }
   ],
   "source": [
    "# 练习9.11\n",
    "from users import Admin\n",
    "admin = Admin(\"Tom\", \"Smith\", 30, \"male\", \"New York\")\n",
    "admin.privileges.show_privileges()"
   ]
  },
  {
   "cell_type": "code",
   "execution_count": 17,
   "id": "123fdfbe",
   "metadata": {},
   "outputs": [
    {
     "name": "stdout",
     "output_type": "stream",
     "text": [
      "Admin privileges:\n",
      "- can add post\n",
      "- can delete post\n",
      "- can ban user\n"
     ]
    }
   ],
   "source": [
    "# 练习9.12\n",
    "class User:\n",
    "    def __init__(self, first_name, last_name, age, gender, location):\n",
    "        self.first_name = first_name\n",
    "        self.last_name = last_name\n",
    "        self.age = age\n",
    "        self.gender = gender\n",
    "        self.location = location\n",
    "    def describe_user(self):\n",
    "        print(\"User information:\")\n",
    "        print(\"Name: \" + self.first_name.title() + \" \" + self.last_name.title())\n",
    "        print(\"Age: \" + str(self.age))\n",
    "        print(\"Gender: \" + self.gender.title())\n",
    "        print(\"Location: \" + self.location.title())\n",
    "    def greet_user(self):\n",
    "        print(\"Hello, \" + self.first_name.title() + \" \" + self.last_name.title() + \"!\")\n",
    "        \n",
    "from users import User\n",
    "class Privileges:\n",
    "    def __init__(self):\n",
    "        self.privileges = [\"can add post\", \"can delete post\", \"can ban user\"]\n",
    "    def show_privileges(self):\n",
    "        print(\"Admin privileges:\")\n",
    "        for privilege in self.privileges:\n",
    "            print(\"- \" + privilege)\n",
    "class Admin(User):\n",
    "    def __init__(self, first_name, last_name, age, gender, location):\n",
    "        super().__init__(first_name, last_name, age, gender, location)\n",
    "        self.privileges = Privileges()\n",
    "\n",
    "from PrivilegesAdmin import Admin\n",
    "admin = Admin(\"Tom\", \"Smith\", 30, \"male\", \"New York\")\n",
    "admin.privileges.show_privileges()"
   ]
  },
  {
   "cell_type": "code",
   "execution_count": 18,
   "id": "f9a1601b",
   "metadata": {},
   "outputs": [
    {
     "name": "stdout",
     "output_type": "stream",
     "text": [
      "Rolling a 6-sided die:\n",
      "2\n",
      "3\n",
      "2\n",
      "3\n",
      "1\n",
      "3\n",
      "1\n",
      "3\n",
      "5\n",
      "2\n",
      "\n",
      "Rolling a 10-sided die:\n",
      "6\n",
      "9\n",
      "5\n",
      "6\n",
      "10\n",
      "10\n",
      "4\n",
      "8\n",
      "1\n",
      "4\n",
      "\n",
      "Rolling a 20-sided die:\n",
      "17\n",
      "10\n",
      "3\n",
      "5\n",
      "2\n",
      "11\n",
      "11\n",
      "4\n",
      "10\n",
      "6\n"
     ]
    }
   ],
   "source": [
    "# 练习9.13\n",
    "from random import randint\n",
    "class Die:\n",
    "    def __init__(self, sides=6):\n",
    "        self.sides = sides\n",
    "    def roll_die(self):\n",
    "        print(randint(1, self.sides))\n",
    "# 创建一个 6 面的骰子并掷 10 次\n",
    "die6 = Die()\n",
    "print(\"Rolling a 6-sided die:\")\n",
    "for i in range(10):\n",
    "    die6.roll_die()\n",
    "print()\n",
    "# 创建一个 10 面的骰子并掷 10 次\n",
    "die10 = Die(10)\n",
    "print(\"Rolling a 10-sided die:\")\n",
    "for i in range(10):\n",
    "    die10.roll_die()\n",
    "print()\n",
    "# 创建一个 20 面的骰子并掷 10 次\n",
    "die20 = Die(20)\n",
    "print(\"Rolling a 20-sided die:\")\n",
    "for i in range(10):\n",
    "    die20.roll_die()"
   ]
  },
  {
   "cell_type": "code",
   "execution_count": 23,
   "id": "d5b2895c",
   "metadata": {},
   "outputs": [
    {
     "name": "stdout",
     "output_type": "stream",
     "text": [
      "winning numbers：[7, 5, 'A', 8]\n",
      "If your ticket has these 4 numbers or letters on it, then congratulations on winning the jackpot!\n"
     ]
    }
   ],
   "source": [
    "# 练习9.14\n",
    "from random import choice\n",
    "options = [1, 2, 3, 4, 5, 6, 7, 8, 9, 0, 'A', 'B', 'C', 'D', 'E']\n",
    "ticket = [choice(options) for _ in range(4)]\n",
    "print(f\"winning numbers：{ticket}\")\n",
    "print(\"If your ticket has these 4 numbers or letters on it, then congratulations on winning the jackpot!\")"
   ]
  },
  {
   "cell_type": "code",
   "execution_count": 24,
   "id": "8893d54a",
   "metadata": {},
   "outputs": [
    {
     "name": "stdout",
     "output_type": "stream",
     "text": [
      "It took 46730 times to win the jackpot.\n"
     ]
    }
   ],
   "source": [
    "# 练习9.15\n",
    "from random import choice\n",
    "options = [1, 2, 3, 4, 5, 6, 7, 8, 9, 0, 'A', 'B', 'C', 'D', 'E']\n",
    "my_ticket = [1, 'A', 2, 'D']\n",
    "num_attempts = 0\n",
    "while True:\n",
    "    ticket = [choice(options) for _ in range(4)]\n",
    "    num_attempts += 1\n",
    "    if ticket == my_ticket:\n",
    "        break\n",
    "print(f\"It took {num_attempts} times to win the jackpot.\")"
   ]
  }
 ],
 "metadata": {
  "kernelspec": {
   "display_name": "Python 3 (ipykernel)",
   "language": "python",
   "name": "python3"
  },
  "language_info": {
   "codemirror_mode": {
    "name": "ipython",
    "version": 3
   },
   "file_extension": ".py",
   "mimetype": "text/x-python",
   "name": "python",
   "nbconvert_exporter": "python",
   "pygments_lexer": "ipython3",
   "version": "3.11.5"
  }
 },
 "nbformat": 4,
 "nbformat_minor": 5
}
