{
 "cells": [
  {
   "cell_type": "markdown",
   "id": "9f28ab0f",
   "metadata": {},
   "source": [
    "# 第10章"
   ]
  },
  {
   "cell_type": "markdown",
   "id": "758f4b02",
   "metadata": {},
   "source": [
    "## 10.1 读取文件"
   ]
  },
  {
   "cell_type": "markdown",
   "id": "fd2ff4d7",
   "metadata": {},
   "source": [
    "### 10.1.1 读取文件的全部内容"
   ]
  },
  {
   "cell_type": "code",
   "execution_count": 7,
   "id": "bdd09ad2",
   "metadata": {},
   "outputs": [
    {
     "name": "stdout",
     "output_type": "stream",
     "text": [
      "3.1415926535\n",
      "8979323846\n",
      "2643383279\n"
     ]
    }
   ],
   "source": [
    "#要读取文件，需要一个包含若干行文本的文件\n",
    "\n",
    "from pathlib import Path #先从 pathlib 模块导入 Path 类\n",
    "path = Path('chapter10/pi_digits.txt') #使用 read_text() 方法来读取这个文件的全部内容\n",
    "contents = path.read_text()\n",
    "print(contents)"
   ]
  },
  {
   "cell_type": "markdown",
   "id": "21eedd85",
   "metadata": {},
   "source": [
    "### 10.1.2 相对文件路径和绝对文件路径"
   ]
  },
  {
   "cell_type": "code",
   "execution_count": null,
   "id": "6a5de1cd",
   "metadata": {},
   "outputs": [],
   "source": [
    "#相对文件路径让 Python 到相对于当前运行的程序所在目录的指定位置去查找\n",
    "path = Path('text_files/filename.txt')\n",
    "\n",
    "#绝对路径以系统的根文件夹为起点,以将文件在计算机中的准确位置告诉 Python\n",
    "path = Path('/home/eric/data_files/text_files/filename.txt')\n",
    "\n",
    "#在显示文件路径时，Windows 系统使用反斜杠（\\）而不是斜杠（/）。但是你在代码中应该始终使用斜杠，即便在 Windows 系统中也是如此。\n",
    "#在与你或其他用户的系统交互时，pathlib 库会自动使用正确的路径表示方法。"
   ]
  },
  {
   "cell_type": "markdown",
   "id": "67ccb324",
   "metadata": {},
   "source": [
    "### 10.1.3 访问文件中的各行"
   ]
  },
  {
   "cell_type": "code",
   "execution_count": 7,
   "id": "92e72ea1",
   "metadata": {},
   "outputs": [
    {
     "name": "stdout",
     "output_type": "stream",
     "text": [
      "['3.1415926535', '8979323846', '2643383279']\n",
      "3.1415926535\n",
      "8979323846\n",
      "2643383279\n"
     ]
    }
   ],
   "source": [
    "#可以使用 splitlines() 方法将冗长的字符串转换为一系列行，再使用for 循环以每次一行的方式检查文件中的各行\n",
    "\n",
    "from pathlib import Path\n",
    "path = Path('pi_digits.txt')\n",
    "contents = path.read_text()\n",
    "lines = contents.splitlines()\n",
    "print(lines)\n",
    "\n",
    "for line in lines:\n",
    "    print(line)"
   ]
  },
  {
   "cell_type": "markdown",
   "id": "196c3535",
   "metadata": {},
   "source": [
    "### 10.1.4 使用文件的内容"
   ]
  },
  {
   "cell_type": "code",
   "execution_count": 4,
   "id": "4bc9ccab",
   "metadata": {},
   "outputs": [
    {
     "name": "stdout",
     "output_type": "stream",
     "text": [
      "3.141592653589793238462643383279\n",
      "32\n"
     ]
    }
   ],
   "source": [
    "from pathlib import Path\n",
    "path = Path('pi_digits.txt')\n",
    "contents = path.read_text()\n",
    "lines = contents.splitlines()\n",
    "pi_string = ''\n",
    "for line in lines:\n",
    "    pi_string += line\n",
    "print(pi_string)\n",
    "print(len(pi_string))"
   ]
  },
  {
   "cell_type": "markdown",
   "id": "eb938f19",
   "metadata": {},
   "source": [
    "### 10.1.5 包含 100 万位的大型文件"
   ]
  },
  {
   "cell_type": "code",
   "execution_count": 11,
   "id": "290c49d8",
   "metadata": {},
   "outputs": [
    {
     "name": "stdout",
     "output_type": "stream",
     "text": [
      "3.14159265358979323846264338327950288419716939937510...\n",
      "1000002\n"
     ]
    }
   ],
   "source": [
    "from pathlib import Path\n",
    "path = Path('chapter10/pi_million_digits.txt')\n",
    "contents = path.read_text()\n",
    "lines = contents.splitlines()\n",
    "pi_string = ''\n",
    "for line in lines:\n",
    "    pi_string += line.lstrip()\n",
    "print(f\"{pi_string[:52]}...\")\n",
    "print(len(pi_string))"
   ]
  },
  {
   "cell_type": "markdown",
   "id": "d0d7684f",
   "metadata": {},
   "source": [
    "### 10.1.6 圆周率值中包含你的生日吗"
   ]
  },
  {
   "cell_type": "code",
   "execution_count": 17,
   "id": "861edcc2",
   "metadata": {},
   "outputs": [
    {
     "name": "stdout",
     "output_type": "stream",
     "text": [
      "Enter your birthday, in the form mmddyy: 101602\n",
      "Your birthday appears in the first million digits of pi!\n"
     ]
    }
   ],
   "source": [
    "from pathlib import Path\n",
    "path = Path('chapter10/pi_million_digits.txt')\n",
    "contents = path.read_text()\n",
    "lines = contents.splitlines()\n",
    "pi_string = ''\n",
    "for line in lines:\n",
    "    pi_string += line.strip()\n",
    "birthday = input(\"Enter your birthday, in the form mmddyy: \")\n",
    "if birthday in pi_string:\n",
    "    print(\"Your birthday appears in the first million digits of pi!\")\n",
    "else:\n",
    "    print(\"Your birthday does not appear in the first million digits of pi.\")"
   ]
  },
  {
   "cell_type": "markdown",
   "id": "9a8309dd",
   "metadata": {},
   "source": [
    "## 10.2 写入文件"
   ]
  },
  {
   "cell_type": "markdown",
   "id": "30840622",
   "metadata": {},
   "source": [
    "### 10.2.1 写入一行"
   ]
  },
  {
   "cell_type": "code",
   "execution_count": 24,
   "id": "e873cab6",
   "metadata": {},
   "outputs": [
    {
     "data": {
      "text/plain": [
       "19"
      ]
     },
     "execution_count": 24,
     "metadata": {},
     "output_type": "execute_result"
    }
   ],
   "source": [
    "#定义一个文件的路径后，就可使用 write_text() 将数据写入该文件\n",
    "from pathlib import Path\n",
    "path = Path('chapter10/programming.txt')\n",
    "path.write_text(\"I love programming.\")"
   ]
  },
  {
   "cell_type": "markdown",
   "id": "8cbbc4f5",
   "metadata": {},
   "source": [
    "### 10.2.2 写入多行"
   ]
  },
  {
   "cell_type": "code",
   "execution_count": 25,
   "id": "c2ccf0ff",
   "metadata": {},
   "outputs": [
    {
     "data": {
      "text/plain": [
       "78"
      ]
     },
     "execution_count": 25,
     "metadata": {},
     "output_type": "execute_result"
    }
   ],
   "source": [
    "#write_text() 方法会在幕后完成几项工作。首先，如果 path 变量对应的路径指向的文件不存在，就创建它。\n",
    "#其次，将字符串写入文件后，它会确保文件得以妥善地关闭。\n",
    "\n",
    "from pathlib import Path\n",
    "contents = \"I love programming.\\n\"\n",
    "contents += \"I love creating new games.\\n\"\n",
    "contents += \"I also love working with data.\\n\"\n",
    "path = Path('chapter10/programming.txt')\n",
    "path.write_text(contents)\n",
    "\n",
    "#在对 path 对象调用 write_text() 方法时，务必谨慎。如果指定的文件已存在， write_text() 将删除其内容，并将指定的内容写入其中"
   ]
  },
  {
   "cell_type": "markdown",
   "id": "3cea95b1",
   "metadata": {},
   "source": [
    "## 10.3 异常"
   ]
  },
  {
   "cell_type": "code",
   "execution_count": null,
   "id": "635c47b7",
   "metadata": {},
   "outputs": [],
   "source": [
    "#中断：内中断（异常）和外中断\n",
    "#traceback包含有关异常的报告\n",
    "#try-except 代码块让 Python执行指定的操作，同时告诉 Python 在发生异常时应该怎么办"
   ]
  },
  {
   "cell_type": "markdown",
   "id": "bd611744",
   "metadata": {},
   "source": [
    "### 10.3.1 处理 ZeroDivisionError 异常"
   ]
  },
  {
   "cell_type": "code",
   "execution_count": 1,
   "id": "89b81413",
   "metadata": {},
   "outputs": [
    {
     "ename": "ZeroDivisionError",
     "evalue": "division by zero",
     "output_type": "error",
     "traceback": [
      "\u001b[1;31m---------------------------------------------------------------------------\u001b[0m",
      "\u001b[1;31mZeroDivisionError\u001b[0m                         Traceback (most recent call last)",
      "Cell \u001b[1;32mIn[1], line 1\u001b[0m\n\u001b[1;32m----> 1\u001b[0m \u001b[38;5;28mprint\u001b[39m(\u001b[38;5;241m5\u001b[39m\u001b[38;5;241m/\u001b[39m\u001b[38;5;241m0\u001b[39m)\n",
      "\u001b[1;31mZeroDivisionError\u001b[0m: division by zero"
     ]
    }
   ],
   "source": [
    "print(5/0)"
   ]
  },
  {
   "cell_type": "markdown",
   "id": "36023a3e",
   "metadata": {},
   "source": [
    "### 10.3.2 使用 try-except 代码块"
   ]
  },
  {
   "cell_type": "code",
   "execution_count": 3,
   "id": "ce8fb1a8",
   "metadata": {},
   "outputs": [
    {
     "name": "stdout",
     "output_type": "stream",
     "text": [
      "2.5\n",
      "Continue!\n"
     ]
    }
   ],
   "source": [
    "#将导致错误的代码行 print(5/0) 放在一个 try 代码块中\n",
    "try:\n",
    "    print(5/2) #如果 try代码块中的代码运行起来没有问题，Python 将跳过 except 代码块\n",
    "except ZeroDivisionError:\n",
    "    print(\"You can't divide by zero!\")\n",
    "print(\"Continue!\")"
   ]
  },
  {
   "cell_type": "code",
   "execution_count": 2,
   "id": "4bf38161",
   "metadata": {},
   "outputs": [
    {
     "name": "stdout",
     "output_type": "stream",
     "text": [
      "You can't divide by zero!\n",
      "Continue!\n"
     ]
    }
   ],
   "source": [
    "try:\n",
    "    print(5/0) #如果try 代码块中的代码导致错误，Python 将查找与之匹配的 except 代码块并运行其中的代码。\n",
    "except ZeroDivisionError:\n",
    "    print(\"You can't divide by zero!\")\n",
    "print(\"Continue!\")"
   ]
  },
  {
   "cell_type": "markdown",
   "id": "6f7b190f",
   "metadata": {},
   "source": [
    "### 10.3.3 使用异常避免崩溃"
   ]
  },
  {
   "cell_type": "code",
   "execution_count": 8,
   "id": "2b15dcec",
   "metadata": {
    "scrolled": true
   },
   "outputs": [
    {
     "name": "stdout",
     "output_type": "stream",
     "text": [
      "Give me two numbers, and I'll divide them.\n",
      "Enter 'q' to quit.\n",
      "\n",
      "First number: 8\n",
      "Second number: 0\n",
      "You can't divide by zero!\n",
      "\n",
      "First number: 7\n",
      "Second number: 2\n",
      "2.0\n",
      "2.0\n",
      "\n",
      "First number: 9\n",
      "Second number: 3\n",
      "2.0\n",
      "2.0\n",
      "\n",
      "First number: q\n"
     ]
    }
   ],
   "source": [
    "print(\"Give me two numbers, and I'll divide them.\")\n",
    "print(\"Enter 'q' to quit.\")\n",
    "while True:\n",
    "    first_number = input(\"\\nFirst number: \")\n",
    "    if first_number == 'q':\n",
    "        break\n",
    "    second_number = input(\"Second number: \")\n",
    "    if second_number == 'q':\n",
    "        break\n",
    "    try:\n",
    "        int(first_number) / int(second_number)\n",
    "        print(answer)\n",
    "    except ZeroDivisionError:\n",
    "        print(\"You can't divide by zero!\")\n",
    "    else:\n",
    "        print(answer)"
   ]
  },
  {
   "cell_type": "markdown",
   "id": "68acb1cd",
   "metadata": {},
   "source": [
    "### 10.3.4 else 代码块"
   ]
  },
  {
   "cell_type": "code",
   "execution_count": 9,
   "id": "2e00520b",
   "metadata": {},
   "outputs": [
    {
     "name": "stdout",
     "output_type": "stream",
     "text": [
      "Give me two numbers, and I'll divide them.\n",
      "Enter 'q' to quit.\n",
      "\n",
      "First number: 3\n",
      "Second number: 0\n",
      "You can't divide by zero!\n",
      "\n",
      "First number: q\n"
     ]
    }
   ],
   "source": [
    "print(\"Give me two numbers, and I'll divide them.\")\n",
    "print(\"Enter 'q' to quit.\")\n",
    "while True:\n",
    "    first_number = input(\"\\nFirst number: \")\n",
    "    if first_number == 'q':\n",
    "        break\n",
    "    second_number = input(\"Second number: \")\n",
    "    if second_number == 'q':\n",
    "        break\n",
    "    try:\n",
    "        int(first_number) / int(second_number)\n",
    "        print(answer)\n",
    "    except ZeroDivisionError:\n",
    "        print(\"You can't divide by zero!\")\n",
    "    else:\n",
    "        print(answer)"
   ]
  },
  {
   "cell_type": "markdown",
   "id": "191967b9",
   "metadata": {},
   "source": [
    "### 10.3.5 处理 FileNotFoundError 异常"
   ]
  },
  {
   "cell_type": "code",
   "execution_count": 5,
   "id": "a41e7405",
   "metadata": {},
   "outputs": [
    {
     "ename": "FileNotFoundError",
     "evalue": "[Errno 2] No such file or directory: 'alice.txt'",
     "output_type": "error",
     "traceback": [
      "\u001b[1;31m---------------------------------------------------------------------------\u001b[0m",
      "\u001b[1;31mFileNotFoundError\u001b[0m                         Traceback (most recent call last)",
      "Cell \u001b[1;32mIn[5], line 4\u001b[0m\n\u001b[0;32m      2\u001b[0m \u001b[38;5;28;01mfrom\u001b[39;00m \u001b[38;5;21;01mpathlib\u001b[39;00m \u001b[38;5;28;01mimport\u001b[39;00m Path\n\u001b[0;32m      3\u001b[0m path \u001b[38;5;241m=\u001b[39m Path(\u001b[38;5;124m'\u001b[39m\u001b[38;5;124malice.txt\u001b[39m\u001b[38;5;124m'\u001b[39m)\n\u001b[1;32m----> 4\u001b[0m contents \u001b[38;5;241m=\u001b[39m path\u001b[38;5;241m.\u001b[39mread_text(encoding\u001b[38;5;241m=\u001b[39m\u001b[38;5;124m'\u001b[39m\u001b[38;5;124mutf-8\u001b[39m\u001b[38;5;124m'\u001b[39m)\n",
      "File \u001b[1;32m~\\anaconda3\\Lib\\pathlib.py:1058\u001b[0m, in \u001b[0;36mPath.read_text\u001b[1;34m(self, encoding, errors)\u001b[0m\n\u001b[0;32m   1054\u001b[0m \u001b[38;5;250m\u001b[39m\u001b[38;5;124;03m\"\"\"\u001b[39;00m\n\u001b[0;32m   1055\u001b[0m \u001b[38;5;124;03mOpen the file in text mode, read it, and close the file.\u001b[39;00m\n\u001b[0;32m   1056\u001b[0m \u001b[38;5;124;03m\"\"\"\u001b[39;00m\n\u001b[0;32m   1057\u001b[0m encoding \u001b[38;5;241m=\u001b[39m io\u001b[38;5;241m.\u001b[39mtext_encoding(encoding)\n\u001b[1;32m-> 1058\u001b[0m \u001b[38;5;28;01mwith\u001b[39;00m \u001b[38;5;28mself\u001b[39m\u001b[38;5;241m.\u001b[39mopen(mode\u001b[38;5;241m=\u001b[39m\u001b[38;5;124m'\u001b[39m\u001b[38;5;124mr\u001b[39m\u001b[38;5;124m'\u001b[39m, encoding\u001b[38;5;241m=\u001b[39mencoding, errors\u001b[38;5;241m=\u001b[39merrors) \u001b[38;5;28;01mas\u001b[39;00m f:\n\u001b[0;32m   1059\u001b[0m     \u001b[38;5;28;01mreturn\u001b[39;00m f\u001b[38;5;241m.\u001b[39mread()\n",
      "File \u001b[1;32m~\\anaconda3\\Lib\\pathlib.py:1044\u001b[0m, in \u001b[0;36mPath.open\u001b[1;34m(self, mode, buffering, encoding, errors, newline)\u001b[0m\n\u001b[0;32m   1042\u001b[0m \u001b[38;5;28;01mif\u001b[39;00m \u001b[38;5;124m\"\u001b[39m\u001b[38;5;124mb\u001b[39m\u001b[38;5;124m\"\u001b[39m \u001b[38;5;129;01mnot\u001b[39;00m \u001b[38;5;129;01min\u001b[39;00m mode:\n\u001b[0;32m   1043\u001b[0m     encoding \u001b[38;5;241m=\u001b[39m io\u001b[38;5;241m.\u001b[39mtext_encoding(encoding)\n\u001b[1;32m-> 1044\u001b[0m \u001b[38;5;28;01mreturn\u001b[39;00m io\u001b[38;5;241m.\u001b[39mopen(\u001b[38;5;28mself\u001b[39m, mode, buffering, encoding, errors, newline)\n",
      "\u001b[1;31mFileNotFoundError\u001b[0m: [Errno 2] No such file or directory: 'alice.txt'"
     ]
    }
   ],
   "source": [
    "#一种常见的问题 找不到文件：要查找的文件可能在其他地方，文件名可能不正确，或者这个文件根本就不存在\n",
    "from pathlib import Path\n",
    "path = Path('alice.txt')\n",
    "contents = path.read_text(encoding='utf-8')#encoding表示编码方式，现在文件一般的编码方式都是utf-8"
   ]
  },
  {
   "cell_type": "markdown",
   "id": "93353143",
   "metadata": {},
   "source": [
    "### 10.3.6 分析文本"
   ]
  },
  {
   "cell_type": "code",
   "execution_count": 19,
   "id": "e14c0883",
   "metadata": {},
   "outputs": [
    {
     "name": "stdout",
     "output_type": "stream",
     "text": [
      "The file chapter10\\alice.txt has about 29594 words.\n"
     ]
    }
   ],
   "source": [
    "#split() 方法默认以空白为分隔符将字符串分拆成多个部分\n",
    "from pathlib import Path\n",
    "path = Path('chapter10/alice.txt')\n",
    "try:\n",
    "    contents = path.read_text(encoding='utf-8')\n",
    "except FileNotFoundError:\n",
    "    print(f\"Sorry, the file {path} does not exist.\")\n",
    "else:\n",
    "#计算文件大致包含多少个单词\n",
    "    words = contents.split()\n",
    "    num_words = len(words)\n",
    "    print(f\"The file {path} has about {num_words} words.\")"
   ]
  },
  {
   "cell_type": "markdown",
   "id": "05362bee",
   "metadata": {},
   "source": [
    "### 10.3.7 使用多个文件"
   ]
  },
  {
   "cell_type": "code",
   "execution_count": 6,
   "id": "380a9e57",
   "metadata": {},
   "outputs": [
    {
     "name": "stdout",
     "output_type": "stream",
     "text": [
      "Sorry, the file alice.txt does not exist.\n"
     ]
    }
   ],
   "source": [
    "from pathlib import Path\n",
    "def count_words(path):\n",
    "     \"\"\"计算一个文件大致包含多少个单词\"\"\"\n",
    "try:\n",
    "    contents = path.read_text(encoding='utf-8')\n",
    "except FileNotFoundError:\n",
    "    print(f\"Sorry, the file {path} does not exist.\")\n",
    "else:\n",
    "    # 计算文件大致包含多少个单词\n",
    "    words = contents.split()\n",
    "    num_words = len(words)\n",
    "    print(f\"The file {path} has about {num_words} words.\")\n",
    "path = Path('alice.txt')\n",
    "count_words(path)"
   ]
  },
  {
   "cell_type": "markdown",
   "id": "f9ba9595",
   "metadata": {},
   "source": [
    "### 10.3.8 静默失败"
   ]
  },
  {
   "cell_type": "code",
   "execution_count": 8,
   "id": "95f3b19b",
   "metadata": {},
   "outputs": [
    {
     "name": "stdout",
     "output_type": "stream",
     "text": [
      "The file moby_dick.txt has about 215864 words.\n"
     ]
    }
   ],
   "source": [
    "from pathlib import Path\n",
    "def count_words(path):\n",
    "     \"\"\"计算一个文件大致包含多少个单词\"\"\"\n",
    "try:\n",
    "    contents = path.read_text(encoding='utf-8')\n",
    "except FileNotFoundError:\n",
    "    pass\n",
    "else:\n",
    "    # 计算文件大致包含多少个单词\n",
    "    words = contents.split()\n",
    "    num_words = len(words)\n",
    "    print(f\"The file {path} has about {num_words} words.\")\n",
    "path = Path('alice.txt')\n",
    "count_words(path)\n",
    "path = Path('moby_dick.txt')\n",
    "count_words(path)"
   ]
  },
  {
   "cell_type": "markdown",
   "id": "a317e17b",
   "metadata": {},
   "source": [
    "## 10.4 存储数据"
   ]
  },
  {
   "cell_type": "markdown",
   "id": "3aa2fad2",
   "metadata": {},
   "source": [
    "### 10.4.1 使用 json.dumps() 和 json.loads()"
   ]
  },
  {
   "cell_type": "code",
   "execution_count": 1,
   "id": "38a45e50",
   "metadata": {},
   "outputs": [
    {
     "data": {
      "text/plain": [
       "20"
      ]
     },
     "execution_count": 1,
     "metadata": {},
     "output_type": "execute_result"
    }
   ],
   "source": [
    "#先编写一个存储一组数的简短程序，再编写一个将这些数读取到内存中的程序\n",
    "#使用 json.dumps() 来存储这组数，使用 json.loads() 来读取\n",
    "\n",
    "from pathlib import Path\n",
    "import json\n",
    "numbers = [2, 3, 5, 7, 11, 13]\n",
    "path = Path('numbers.json') #选择一个文件名，指定要将该数值列表存储到哪个文件中\n",
    "contents = json.dumps(numbers) #使用 json.dumps() 函数生成一个字符串\n",
    "path.write_text(contents)"
   ]
  },
  {
   "cell_type": "code",
   "execution_count": 2,
   "id": "e42396d2",
   "metadata": {},
   "outputs": [
    {
     "name": "stdout",
     "output_type": "stream",
     "text": [
      "[2, 3, 5, 7, 11, 13]\n"
     ]
    }
   ],
   "source": [
    "#编写一个程序，使用 json.loads() 将这个列表读取到内存中\n",
    "from pathlib import Path\n",
    "import json\n",
    "path = Path('numbers.json') #确保读取的是前面写入的文件\n",
    "contents = path.read_text() #使用 read_text() 方法来读取它\n",
    "numbers = json.loads(contents) #将这个文件的内容传递给 json.loads()\n",
    "print(numbers)"
   ]
  },
  {
   "cell_type": "markdown",
   "id": "3d6dbbed",
   "metadata": {},
   "source": [
    "### 10.4.2 保存和读取用户生成的数据"
   ]
  },
  {
   "cell_type": "code",
   "execution_count": 4,
   "id": "6f6f8ee9",
   "metadata": {},
   "outputs": [
    {
     "name": "stdout",
     "output_type": "stream",
     "text": [
      "What is your name? Daria\n",
      "We'll remember you when you come back, Daria!\n"
     ]
    }
   ],
   "source": [
    "#存储用户名\n",
    "from pathlib import Path\n",
    "import json\n",
    "username = input(\"What is your name? \")\n",
    "path = Path('username.json')\n",
    "contents = json.dumps(username) #将收集到的数据写入文件username.json\n",
    "path.write_text(contents)\n",
    "print(f\"We'll remember you when you come back, {username}!\")"
   ]
  },
  {
   "cell_type": "code",
   "execution_count": 5,
   "id": "4f7a094b",
   "metadata": {},
   "outputs": [
    {
     "name": "stdout",
     "output_type": "stream",
     "text": [
      "Welcome back, Daria!\n"
     ]
    }
   ],
   "source": [
    "#编写一个程序，向名字已被存储的用户发出问候\n",
    "from pathlib import Path\n",
    "import json\n",
    "path = Path('username.json')\n",
    "contents = path.read_text()\n",
    "username = json.loads(contents)\n",
    "print(f\"Welcome back, {username}!\")"
   ]
  },
  {
   "cell_type": "code",
   "execution_count": 6,
   "id": "06d697d5",
   "metadata": {},
   "outputs": [
    {
     "name": "stdout",
     "output_type": "stream",
     "text": [
      "Welcome back, Daria!\n"
     ]
    }
   ],
   "source": [
    "#将这两个程序合并到一个程序（remember_me.py）中。在这个程序运行时，将尝试从内存中获取用户的用户名。\n",
    "#如果没有找到，就提示用户输入用户名，并将其存储到文件 username.json 中，以供下次使用。\n",
    "from pathlib import Path\n",
    "import json\n",
    "path = Path('username.json')\n",
    "if path.exists():\n",
    "    contents = path.read_text()\n",
    "    username = json.loads(contents)\n",
    "    print(f\"Welcome back, {username}!\")\n",
    "else:\n",
    "    username = input(\"What is your name? \")\n",
    "    contents = json.dumps(username)\n",
    "    path.write_text(contents)\n",
    "    print(f\"We'll remember you when you come back, {username}!\")"
   ]
  },
  {
   "cell_type": "markdown",
   "id": "498af269",
   "metadata": {},
   "source": [
    "### 10.4.3 重构"
   ]
  },
  {
   "cell_type": "code",
   "execution_count": 7,
   "id": "b6766034",
   "metadata": {},
   "outputs": [
    {
     "name": "stdout",
     "output_type": "stream",
     "text": [
      "Welcome back, Daria!\n"
     ]
    }
   ],
   "source": [
    "#重构：将代码划分为一系列完成具体工作的函数来进行改进\n",
    "from pathlib import Path\n",
    "import json\n",
    "def greet_user():\n",
    "    \"\"\"问候用户，并指出其名字\"\"\"\n",
    "    path = Path('username.json')\n",
    "    if path.exists():\n",
    "        contents = path.read_text()\n",
    "        username = json.loads(contents)\n",
    "        print(f\"Welcome back, {username}!\")\n",
    "    else:\n",
    "        username = input(\"What is your name? \")\n",
    "        contents = json.dumps(username)\n",
    "        path.write_text(contents)\n",
    "        print(f\"We'll remember you when you come back, {username}!\")\n",
    "greet_user()"
   ]
  },
  {
   "cell_type": "code",
   "execution_count": 8,
   "id": "753f2c6c",
   "metadata": {},
   "outputs": [
    {
     "name": "stdout",
     "output_type": "stream",
     "text": [
      "Welcome back, Daria!\n"
     ]
    }
   ],
   "source": [
    "from pathlib import Path\n",
    "import json\n",
    "def get_stored_username(path):\n",
    "    \"\"\"如果存储了用户名，就获取它\"\"\"\n",
    "    if path.exists():\n",
    "        contents = path.read_text()\n",
    "        username = json.loads(contents)\n",
    "        return username\n",
    "    else:\n",
    "        return None\n",
    "def greet_user():\n",
    "    \"\"\"问候用户，并指出其名字\"\"\"\n",
    "    path = Path('username.json')\n",
    "    username = get_stored_username(path)\n",
    "    if username:\n",
    "        print(f\"Welcome back, {username}!\")\n",
    "    else:\n",
    "        username = input(\"What is your name? \")\n",
    "        contents = json.dumps(username)\n",
    "        path.write_text(contents)\n",
    "        print(f\"We'll remember you when you come back, {username}!\")\n",
    "greet_user()"
   ]
  },
  {
   "cell_type": "code",
   "execution_count": 10,
   "id": "1e59aa63",
   "metadata": {},
   "outputs": [
    {
     "name": "stdout",
     "output_type": "stream",
     "text": [
      "Welcome back, Daria!\n"
     ]
    }
   ],
   "source": [
    "from pathlib import Path\n",
    "import json\n",
    "def get_stored_username(path):\n",
    "    \"\"\"如果存储了用户名，就获取它\"\"\"\n",
    "    if path.exists():\n",
    "        contents = path.read_text()\n",
    "        username = json.loads(contents)\n",
    "        return username\n",
    "    else:\n",
    "        return None\n",
    "def get_new_username(path):\n",
    "    \"\"\"提示用户输入用户名\"\"\"\n",
    "    username = input(\"What is your name? \")\n",
    "    contents = json.dumps(username)\n",
    "    path.write_text(contents)\n",
    "    return username\n",
    "def greet_user():\n",
    "    \"\"\"问候用户，并指出其名字\"\"\"\n",
    "    path = Path('username.json')\n",
    "    username = get_stored_username(path)\n",
    "    if username:\n",
    "        print(f\"Welcome back, {username}!\")\n",
    "    else:\n",
    "        username = get_new_username(path)\n",
    "        print(f\"We'll remember you when you come back, {username}!\")\n",
    "greet_user()"
   ]
  },
  {
   "cell_type": "markdown",
   "id": "1690a116",
   "metadata": {},
   "source": [
    "## 练习"
   ]
  },
  {
   "cell_type": "code",
   "execution_count": 20,
   "id": "9d89051a",
   "metadata": {},
   "outputs": [
    {
     "name": "stdout",
     "output_type": "stream",
     "text": [
      "In Python you can store as much information as you want.\n",
      "In Python you can connect pieces of information.\n",
      "In Python you can model real-world situations.\n",
      "In Python you can store as much information as you want.\n",
      "In Python you can connect pieces of information.\n",
      "In Python you can model real-world situations.\n"
     ]
    }
   ],
   "source": [
    "# 练习10.1\n",
    "from pathlib import Path\n",
    "path=Path('chapter10/learning_python.txt')\n",
    "contents=path.read_text()\n",
    "print(contents)\n",
    "\n",
    "lines=contents.splitlines()\n",
    "for line in lines:\n",
    "    print(line)"
   ]
  },
  {
   "cell_type": "code",
   "execution_count": 21,
   "id": "a669b81f",
   "metadata": {},
   "outputs": [
    {
     "name": "stdout",
     "output_type": "stream",
     "text": [
      "In C you can store as much information as you want.\n",
      "In C you can connect pieces of information.\n",
      "In C you can model real-world situations.\n"
     ]
    }
   ],
   "source": [
    "# 练习10.2\n",
    "from pathlib import Path\n",
    "path=Path('chapter10/learning_python.txt')\n",
    "contents=path.read_text()\n",
    "contents=contents.replace('Python', 'C')\n",
    "print(contents)"
   ]
  },
  {
   "cell_type": "code",
   "execution_count": 22,
   "id": "d139c701",
   "metadata": {},
   "outputs": [
    {
     "name": "stdout",
     "output_type": "stream",
     "text": [
      "In Python you can store as much information as you want.\n",
      "In Python you can connect pieces of information.\n",
      "In Python you can model real-world situations.\n"
     ]
    }
   ],
   "source": [
    "# 练习10.3\n",
    "from pathlib import Path\n",
    "path=Path('chapter10/learning_python.txt')\n",
    "contents=path.read_text()\n",
    "for line in contents.splitlines():\n",
    "    print(line)"
   ]
  },
  {
   "cell_type": "code",
   "execution_count": 26,
   "id": "7ee1f071",
   "metadata": {},
   "outputs": [
    {
     "name": "stdout",
     "output_type": "stream",
     "text": [
      "What's your name? Amy\n"
     ]
    },
    {
     "data": {
      "text/plain": [
       "3"
      ]
     },
     "execution_count": 26,
     "metadata": {},
     "output_type": "execute_result"
    }
   ],
   "source": [
    "# 练习10.4\n",
    "from pathlib import Path\n",
    "path = Path('chapter10/guest.txt')\n",
    "name = input(\"What's your name? \")\n",
    "path.write_text(name)"
   ]
  },
  {
   "cell_type": "code",
   "execution_count": 27,
   "id": "88495822",
   "metadata": {},
   "outputs": [
    {
     "name": "stdout",
     "output_type": "stream",
     "text": [
      "What's your name? Amy\n",
      "What's your name? Tom\n",
      "What's your name? John\n",
      "What's your name? q\n"
     ]
    },
    {
     "data": {
      "text/plain": [
       "1"
      ]
     },
     "execution_count": 27,
     "metadata": {},
     "output_type": "execute_result"
    }
   ],
   "source": [
    "# 练习10.5\n",
    "from pathlib import Path\n",
    "name = \"\"\n",
    "while True:\n",
    "    name = input(\"What's your name? \")\n",
    "    if name == 'q':\n",
    "        break\n",
    "    name += f\"{name}\\n\"\n",
    "path = Path(\"chapter10/guest.txt\")\n",
    "path.write_text(name)"
   ]
  },
  {
   "cell_type": "code",
   "execution_count": 11,
   "id": "325ae6fb",
   "metadata": {},
   "outputs": [
    {
     "name": "stdout",
     "output_type": "stream",
     "text": [
      "Give me a number: 23\n",
      "Give me another number: 88\n",
      "The sum of 23 and 88 is 111.\n"
     ]
    }
   ],
   "source": [
    "# 练习10.6\n",
    "try:\n",
    "    x = input(\"Give me a number: \")\n",
    "    x = int(x)\n",
    "    y = input(\"Give me another number: \")\n",
    "    y = int(y)\n",
    "except ValueError:\n",
    "    print(\"Sorry, I need a number.\")\n",
    "else:\n",
    "    sum = x + y\n",
    "    print(f\"The sum of {x} and {y} is {sum}.\")"
   ]
  },
  {
   "cell_type": "code",
   "execution_count": 12,
   "id": "1423a8a0",
   "metadata": {},
   "outputs": [
    {
     "name": "stdout",
     "output_type": "stream",
     "text": [
      "Give me a number: a\n",
      "Sorry, I need a number.\n"
     ]
    }
   ],
   "source": [
    "try:\n",
    "    x = input(\"Give me a number: \")\n",
    "    x = int(x)\n",
    "    y = input(\"Give me another number: \")\n",
    "    y = int(y)\n",
    "except ValueError:\n",
    "    print(\"Sorry, I need a number.\")\n",
    "else:\n",
    "    sum = x + y\n",
    "    print(f\"The sum of {x} and {y} is {sum}.\")"
   ]
  },
  {
   "cell_type": "code",
   "execution_count": 14,
   "id": "cdeb8a07",
   "metadata": {},
   "outputs": [
    {
     "name": "stdout",
     "output_type": "stream",
     "text": [
      "Enter 'q' at any time to quit.\n",
      "\n",
      "\n",
      "Give me a number: 22\n",
      "Give me another number: b\n",
      "Sorry, I really needed a number.\n",
      "\n",
      "Give me a number: 77\n",
      "Give me another number: 33\n",
      "The sum of 77 and 33 is 110.\n",
      "\n",
      "Give me a number: q\n"
     ]
    }
   ],
   "source": [
    "# 练习10.7\n",
    "print(\"Enter 'q' at any time to quit.\\n\")\n",
    "while True:\n",
    "    try:\n",
    "        x = input(\"\\nGive me a number: \")\n",
    "        if x == 'q':\n",
    "            break\n",
    "        x = int(x)\n",
    "        y = input(\"Give me another number: \")\n",
    "        if y == 'q':\n",
    "            break\n",
    "        y = int(y)\n",
    "    except ValueError:\n",
    "        print(\"Sorry, I really needed a number.\")\n",
    "    else:\n",
    "        sum = x + y\n",
    "        print(f\"The sum of {x} and {y} is {sum}.\")"
   ]
  },
  {
   "cell_type": "code",
   "execution_count": 15,
   "id": "d2f2cb96",
   "metadata": {},
   "outputs": [
    {
     "name": "stdout",
     "output_type": "stream",
     "text": [
      "\n",
      "Reading file: cats.txt\n",
      "henry\n",
      "clarence\n",
      "mildred\n",
      "\n",
      "Reading file: dogs.txt\n",
      "willie\n",
      "annahootz\n",
      "summit\n"
     ]
    }
   ],
   "source": [
    "# 练习10.8\n",
    "from pathlib import Path\n",
    "filenames = ['cats.txt', 'dogs.txt']\n",
    "for filename in filenames:\n",
    "    print(f\"\\nReading file: {filename}\")\n",
    "    path = Path(filename)\n",
    "    try:\n",
    "        contents = path.read_text()\n",
    "    except FileNotFoundError:\n",
    "        print(\" Sorry, I can't find that file.\")\n",
    "    else:\n",
    "        print(contents)"
   ]
  },
  {
   "cell_type": "code",
   "execution_count": 16,
   "id": "9cd6f08f",
   "metadata": {},
   "outputs": [
    {
     "name": "stdout",
     "output_type": "stream",
     "text": [
      "\n",
      "Reading file: cats.txt\n",
      "henry\n",
      "clarence\n",
      "mildred\n",
      "\n",
      "Reading file: dogs.txt\n",
      "willie\n",
      "annahootz\n",
      "summit\n"
     ]
    }
   ],
   "source": [
    "# 练习10.9\n",
    "from pathlib import Path\n",
    "filenames = ['cats.txt', 'dogs.txt']\n",
    "for filename in filenames:\n",
    "    path = Path(filename)\n",
    "    try:\n",
    "        contents = path.read_text()\n",
    "    except FileNotFoundError:\n",
    "        pass\n",
    "    else:\n",
    "        print(f\"\\nReading file: {filename}\")\n",
    "        print(contents)"
   ]
  },
  {
   "cell_type": "code",
   "execution_count": 35,
   "id": "4c39dc0a",
   "metadata": {},
   "outputs": [],
   "source": [
    "# 练习10.10\n",
    "from pathlib import Path\n",
    "def count_common_words(filename, word):\n",
    "    \"\"\"计算指定的单词在图书中出现了多少次\"\"\"\n",
    "    path = Path(filename)\n",
    "    try:\n",
    "        contents = path.read_text()\n",
    "    except FileNotFoundError:\n",
    "        pass\n",
    "    else:\n",
    "        word_count = contents.lower().count(word)\n",
    "        msg = f\"'{word}' appears in {filename} about {word_count} times.\"\n",
    "        print(msg)\n",
    "filename = 'alice.txt'\n",
    "count_common_words(filename, 'the')"
   ]
  },
  {
   "cell_type": "code",
   "execution_count": 36,
   "id": "20bebca8",
   "metadata": {},
   "outputs": [
    {
     "name": "stdout",
     "output_type": "stream",
     "text": [
      "What's your favorite number? 15\n",
      "Thanks! I'll remember that number.\n"
     ]
    }
   ],
   "source": [
    "# 练习10.11\n",
    "from pathlib import Path\n",
    "import json\n",
    "number = input(\"What's your favorite number? \")\n",
    "path = Path('favorite_number.json')\n",
    "contents = json.dumps(number)\n",
    "path.write_text(contents)\n",
    "print(\"Thanks! I'll remember that number.\")"
   ]
  },
  {
   "cell_type": "code",
   "execution_count": 37,
   "id": "130b302e",
   "metadata": {},
   "outputs": [
    {
     "name": "stdout",
     "output_type": "stream",
     "text": [
      "I know your favorite number! It's 15.\n"
     ]
    }
   ],
   "source": [
    "from pathlib import Path\n",
    "import json\n",
    "path = Path('favorite_number.json')\n",
    "contents = path.read_text()\n",
    "number = json.loads(contents)\n",
    "print(f\"I know your favorite number! It's {number}.\")"
   ]
  },
  {
   "cell_type": "code",
   "execution_count": 38,
   "id": "2a69458c",
   "metadata": {},
   "outputs": [
    {
     "name": "stdout",
     "output_type": "stream",
     "text": [
      "I know your favorite number! It's 15.\n"
     ]
    }
   ],
   "source": [
    "# 练习10.12\n",
    "from pathlib import Path\n",
    "import json\n",
    "path = Path('favorite_number.json')\n",
    "try:\n",
    "    contents = path.read_text()\n",
    "except FileNotFoundError:\n",
    "    number = input(\"What's your favorite number? \")\n",
    "    contents = json.dumps(number)\n",
    "    path.write_text(contents)\n",
    "    print(\"Thanks, I'll remember that.\")\n",
    "else:\n",
    "    number = json.loads(contents)\n",
    "    print(f\"I know your favorite number! It's {number}.\")"
   ]
  },
  {
   "cell_type": "code",
   "execution_count": 40,
   "id": "451529d8",
   "metadata": {},
   "outputs": [
    {
     "name": "stdout",
     "output_type": "stream",
     "text": [
      "What is your name? Amy\n",
      "What's your favorite game? LOL\n",
      "What's your favorite animal? Dog\n",
      "We'll remember you when you return, Amy!\n"
     ]
    }
   ],
   "source": [
    "# 练习10.13\n",
    "from pathlib import Path\n",
    "import json\n",
    "def get_stored_user_info(path):\n",
    "    \"\"\"获取存储的用户信息\"\"\"\n",
    "    if path.exists():\n",
    "        contents = path.read_text()\n",
    "        user_dict = json.loads(contents)\n",
    "        return user_dict\n",
    "    else:\n",
    "        return None\n",
    "def get_new_user_info(path):\n",
    "    \"\"\"从新用户那里获取信息\"\"\"\n",
    "    username = input(\"What is your name? \")\n",
    "    game = input(\"What's your favorite game? \")\n",
    "    animal = input(\"What's your favorite animal? \")\n",
    "    user_dict = {'username': username,'game': game,'animal': animal}\n",
    "    contents = json.dumps(user_dict)\n",
    "    path.write_text(contents)\n",
    "    return user_dict\n",
    "def greet_user():\n",
    "    \"\"\"根据用户的新老情况发出不同的问候，并在用户为老用户时显示其信息\"\"\"\n",
    "    path = Path('user_info.json')\n",
    "    user_dict = get_stored_user_info(path)\n",
    "    if user_dict:\n",
    "        print(f\"Welcome back, {user_dict['username']}!\")\n",
    "        print(f\"Hope you've been playing some {user_dict['game']}. \")\n",
    "        print(f\"Have you seen a {user_dict['animal']} recently?\")\n",
    "    else:\n",
    "        user_dict = get_new_user_info(path)\n",
    "        msg = f\"We'll remember you when you return, {user_dict['username']}!\"\n",
    "        print(msg)\n",
    "greet_user()"
   ]
  },
  {
   "cell_type": "code",
   "execution_count": 41,
   "id": "f03f6719",
   "metadata": {},
   "outputs": [
    {
     "name": "stdout",
     "output_type": "stream",
     "text": [
      "Welcome back, Amy!\n",
      "Hope you've been playing some LOL. \n",
      "Have you seen a Dog recently?\n"
     ]
    }
   ],
   "source": [
    "from pathlib import Path\n",
    "import json\n",
    "def get_stored_user_info(path):\n",
    "    \"\"\"获取存储的用户信息\"\"\"\n",
    "    if path.exists():\n",
    "        contents = path.read_text()\n",
    "        user_dict = json.loads(contents)\n",
    "        return user_dict\n",
    "    else:\n",
    "        return None\n",
    "def get_new_user_info(path):\n",
    "    \"\"\"从新用户那里获取信息\"\"\"\n",
    "    username = input(\"What is your name? \")\n",
    "    game = input(\"What's your favorite game? \")\n",
    "    animal = input(\"What's your favorite animal? \")\n",
    "    user_dict = {'username': username,'game': game,'animal': animal}\n",
    "    contents = json.dumps(user_dict)\n",
    "    path.write_text(contents)\n",
    "    return user_dict\n",
    "def greet_user():\n",
    "    \"\"\"根据用户的新老情况发出不同的问候，并在用户为老用户时显示其信息\"\"\"\n",
    "    path = Path('user_info.json')\n",
    "    user_dict = get_stored_user_info(path)\n",
    "    if user_dict:\n",
    "        print(f\"Welcome back, {user_dict['username']}!\")\n",
    "        print(f\"Hope you've been playing some {user_dict['game']}. \")\n",
    "        print(f\"Have you seen a {user_dict['animal']} recently?\")\n",
    "    else:\n",
    "        user_dict = get_new_user_info(path)\n",
    "        msg = f\"We'll remember you when you return, {user_dict['username']}!\"\n",
    "        print(msg)\n",
    "greet_user()"
   ]
  },
  {
   "cell_type": "code",
   "execution_count": 44,
   "id": "6c7d7591",
   "metadata": {},
   "outputs": [
    {
     "name": "stdout",
     "output_type": "stream",
     "text": [
      "Are you Daria? (y/n) n\n",
      "What is your name? Amy\n",
      "We'll remember you when you come back, Amy!\n"
     ]
    }
   ],
   "source": [
    "# 练习10.14\n",
    "from pathlib import Path\n",
    "import json\n",
    "def get_stored_username(path):\n",
    "    \"\"\"获取存储的用户名\"\"\"\n",
    "    if path.exists():\n",
    "        contents = path.read_text()\n",
    "        username = json.loads(contents)\n",
    "        return username\n",
    "    else:\n",
    "        return None\n",
    "def get_new_username(path):\n",
    "    \"\"\"提示用户输入用户名\"\"\"\n",
    "    username = input(\"What is your name? \")\n",
    "    contents = json.dumps(username)\n",
    "    path.write_text(contents)\n",
    "    return username\n",
    "def greet_user():\n",
    "    \"\"\"基于用户名问候用户\"\"\"\n",
    "    path = Path('username.json')\n",
    "    username = get_stored_username(path)\n",
    "    if username:\n",
    "        correct = input(f\"Are you {username}? (y/n) \")\n",
    "        if correct == 'y':\n",
    "            print(f\"Welcome back, {username}!\")\n",
    "        else:\n",
    "            username = get_new_username(path)\n",
    "            print(f\"We'll remember you when you come back, {username}!\")\n",
    "    else:\n",
    "        username = get_new_username(path)\n",
    "        print(f\"We'll remember you when you come back, {username}!\")\n",
    "greet_user()"
   ]
  }
 ],
 "metadata": {
  "kernelspec": {
   "display_name": "Python 3 (ipykernel)",
   "language": "python",
   "name": "python3"
  },
  "language_info": {
   "codemirror_mode": {
    "name": "ipython",
    "version": 3
   },
   "file_extension": ".py",
   "mimetype": "text/x-python",
   "name": "python",
   "nbconvert_exporter": "python",
   "pygments_lexer": "ipython3",
   "version": "3.11.5"
  }
 },
 "nbformat": 4,
 "nbformat_minor": 5
}
