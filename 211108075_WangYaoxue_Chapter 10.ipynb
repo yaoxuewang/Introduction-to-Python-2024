{
 "cells": [
  {
   "cell_type": "markdown",
   "id": "9f28ab0f",
   "metadata": {},
   "source": [
    "# 第10章"
   ]
  },
  {
   "cell_type": "markdown",
   "id": "758f4b02",
   "metadata": {},
   "source": [
    "## 10.1 读取文件"
   ]
  },
  {
   "cell_type": "markdown",
   "id": "fd2ff4d7",
   "metadata": {},
   "source": [
    "### 10.1.1 读取文件的全部内容"
   ]
  },
  {
   "cell_type": "code",
   "execution_count": 1,
   "id": "bdd09ad2",
   "metadata": {},
   "outputs": [
    {
     "name": "stdout",
     "output_type": "stream",
     "text": [
      "3.1415926535\n",
      "8979323846\n",
      "2643383279\n"
     ]
    }
   ],
   "source": [
    "#要读取文件，需要一个包含若干行文本的文件\n",
    "\n",
    "from pathlib import Path #先从 pathlib 模块导入 Path 类\n",
    "path = Path('pi_digits.txt') #使用 read_text() 方法来读取这个文件的全部内容\n",
    "contents = path.read_text()\n",
    "print(contents)"
   ]
  },
  {
   "cell_type": "markdown",
   "id": "21eedd85",
   "metadata": {},
   "source": [
    "### 10.1.2 相对文件路径和绝对文件路径"
   ]
  },
  {
   "cell_type": "code",
   "execution_count": null,
   "id": "6a5de1cd",
   "metadata": {},
   "outputs": [],
   "source": [
    "#相对文件路径让 Python 到相对于当前运行的程序所在目录的指定位置去查找\n",
    "path = Path('text_files/filename.txt')\n",
    "\n",
    "#绝对路径以系统的根文件夹为起点,以将文件在计算机中的准确位置告诉 Python\n",
    "path = Path('/home/eric/data_files/text_files/filename.txt')"
   ]
  },
  {
   "cell_type": "markdown",
   "id": "67ccb324",
   "metadata": {},
   "source": [
    "### 10.1.3 访问文件中的各行"
   ]
  },
  {
   "cell_type": "code",
   "execution_count": 7,
   "id": "92e72ea1",
   "metadata": {},
   "outputs": [
    {
     "name": "stdout",
     "output_type": "stream",
     "text": [
      "['3.1415926535', '8979323846', '2643383279']\n",
      "3.1415926535\n",
      "8979323846\n",
      "2643383279\n"
     ]
    }
   ],
   "source": [
    "#可以使用 splitlines() 方法将冗长的字符串转换为一系列行，再使用for 循环以每次一行的方式检查文件中的各行\n",
    "\n",
    "from pathlib import Path\n",
    "path = Path('pi_digits.txt')\n",
    "contents = path.read_text()\n",
    "lines = contents.splitlines()\n",
    "print(lines)\n",
    "\n",
    "for line in lines:\n",
    "    print(line)"
   ]
  },
  {
   "cell_type": "markdown",
   "id": "196c3535",
   "metadata": {},
   "source": [
    "### 10.1.4 使用文件的内容"
   ]
  },
  {
   "cell_type": "code",
   "execution_count": 4,
   "id": "4bc9ccab",
   "metadata": {},
   "outputs": [
    {
     "name": "stdout",
     "output_type": "stream",
     "text": [
      "3.141592653589793238462643383279\n",
      "32\n"
     ]
    }
   ],
   "source": [
    "from pathlib import Path\n",
    "path = Path('pi_digits.txt')\n",
    "contents = path.read_text()\n",
    "lines = contents.splitlines()\n",
    "pi_string = ''\n",
    "for line in lines:\n",
    "    pi_string += line\n",
    "print(pi_string)\n",
    "print(len(pi_string))"
   ]
  },
  {
   "cell_type": "markdown",
   "id": "eb938f19",
   "metadata": {},
   "source": [
    "### 10.1.5 包含 100 万位的大型文件"
   ]
  },
  {
   "cell_type": "code",
   "execution_count": 11,
   "id": "290c49d8",
   "metadata": {},
   "outputs": [
    {
     "name": "stdout",
     "output_type": "stream",
     "text": [
      "3.14159265358979323846264338327950288419716939937510...\n",
      "1000002\n"
     ]
    }
   ],
   "source": [
    "from pathlib import Path\n",
    "path = Path('chapter10/pi_million_digits.txt')\n",
    "contents = path.read_text()\n",
    "lines = contents.splitlines()\n",
    "pi_string = ''\n",
    "for line in lines:\n",
    "    pi_string += line.lstrip()\n",
    "print(f\"{pi_string[:52]}...\")\n",
    "print(len(pi_string))"
   ]
  },
  {
   "cell_type": "markdown",
   "id": "d0d7684f",
   "metadata": {},
   "source": [
    "### 10.1.6 圆周率值中包含你的生日吗"
   ]
  },
  {
   "cell_type": "code",
   "execution_count": 17,
   "id": "861edcc2",
   "metadata": {},
   "outputs": [
    {
     "name": "stdout",
     "output_type": "stream",
     "text": [
      "Enter your birthday, in the form mmddyy: 101602\n",
      "Your birthday appears in the first million digits of pi!\n"
     ]
    }
   ],
   "source": [
    "from pathlib import Path\n",
    "path = Path('chapter10/pi_million_digits.txt')\n",
    "contents = path.read_text()\n",
    "lines = contents.splitlines()\n",
    "pi_string = ''\n",
    "for line in lines:\n",
    "    pi_string += line.strip()\n",
    "birthday = input(\"Enter your birthday, in the form mmddyy: \")\n",
    "if birthday in pi_string:\n",
    "    print(\"Your birthday appears in the first million digits of pi!\")\n",
    "else:\n",
    "    print(\"Your birthday does not appear in the first million digits of pi.\")"
   ]
  },
  {
   "cell_type": "markdown",
   "id": "9a8309dd",
   "metadata": {},
   "source": [
    "## 10.2 写入文件"
   ]
  },
  {
   "cell_type": "markdown",
   "id": "30840622",
   "metadata": {},
   "source": [
    "### 10.2.1 写入一行"
   ]
  },
  {
   "cell_type": "code",
   "execution_count": 24,
   "id": "e873cab6",
   "metadata": {},
   "outputs": [
    {
     "data": {
      "text/plain": [
       "19"
      ]
     },
     "execution_count": 24,
     "metadata": {},
     "output_type": "execute_result"
    }
   ],
   "source": [
    "#定义一个文件的路径后，就可使用 write_text() 将数据写入该文件\n",
    "from pathlib import Path\n",
    "path = Path('chapter10/programming.txt')\n",
    "path.write_text(\"I love programming.\")"
   ]
  },
  {
   "cell_type": "markdown",
   "id": "8cbbc4f5",
   "metadata": {},
   "source": [
    "### 10.2.2 写入多行"
   ]
  },
  {
   "cell_type": "code",
   "execution_count": 25,
   "id": "c2ccf0ff",
   "metadata": {},
   "outputs": [
    {
     "data": {
      "text/plain": [
       "78"
      ]
     },
     "execution_count": 25,
     "metadata": {},
     "output_type": "execute_result"
    }
   ],
   "source": [
    "#write_text() 方法会在幕后完成几项工作。首先，如果 path 变量对应的路径指向的文件不存在，就创建它。\n",
    "#其次，将字符串写入文件后，它会确保文件得以妥善地关闭。\n",
    "\n",
    "from pathlib import Path\n",
    "contents = \"I love programming.\\n\"\n",
    "contents += \"I love creating new games.\\n\"\n",
    "contents += \"I also love working with data.\\n\"\n",
    "path = Path('chapter10/programming.txt')\n",
    "path.write_text(contents)\n",
    "\n",
    "#在对 path 对象调用 write_text() 方法时，务必谨慎。如果指定的文件已存在， write_text() 将删除其内容，并将指定的内容写入其中"
   ]
  },
  {
   "cell_type": "markdown",
   "id": "3cea95b1",
   "metadata": {},
   "source": [
    "## 10.3 异常"
   ]
  },
  {
   "cell_type": "code",
   "execution_count": null,
   "id": "635c47b7",
   "metadata": {},
   "outputs": [],
   "source": []
  },
  {
   "cell_type": "code",
   "execution_count": null,
   "id": "69ebe388",
   "metadata": {},
   "outputs": [],
   "source": []
  },
  {
   "cell_type": "code",
   "execution_count": null,
   "id": "89b81413",
   "metadata": {},
   "outputs": [],
   "source": []
  },
  {
   "cell_type": "markdown",
   "id": "1690a116",
   "metadata": {},
   "source": [
    "## 练习"
   ]
  },
  {
   "cell_type": "code",
   "execution_count": 20,
   "id": "9d89051a",
   "metadata": {},
   "outputs": [
    {
     "name": "stdout",
     "output_type": "stream",
     "text": [
      "In Python you can store as much information as you want.\n",
      "In Python you can connect pieces of information.\n",
      "In Python you can model real-world situations.\n",
      "In Python you can store as much information as you want.\n",
      "In Python you can connect pieces of information.\n",
      "In Python you can model real-world situations.\n"
     ]
    }
   ],
   "source": [
    "# 练习10.1\n",
    "from pathlib import Path\n",
    "path=Path('chapter10/learning_python.txt')\n",
    "contents=path.read_text()\n",
    "print(contents)\n",
    "\n",
    "lines=contents.splitlines()\n",
    "for line in lines:\n",
    "    print(line)"
   ]
  },
  {
   "cell_type": "code",
   "execution_count": 21,
   "id": "a669b81f",
   "metadata": {},
   "outputs": [
    {
     "name": "stdout",
     "output_type": "stream",
     "text": [
      "In C you can store as much information as you want.\n",
      "In C you can connect pieces of information.\n",
      "In C you can model real-world situations.\n"
     ]
    }
   ],
   "source": [
    "# 练习10.2\n",
    "from pathlib import Path\n",
    "path=Path('chapter10/learning_python.txt')\n",
    "contents=path.read_text()\n",
    "contents=contents.replace('Python', 'C')\n",
    "print(contents)"
   ]
  },
  {
   "cell_type": "code",
   "execution_count": 22,
   "id": "d139c701",
   "metadata": {},
   "outputs": [
    {
     "name": "stdout",
     "output_type": "stream",
     "text": [
      "In Python you can store as much information as you want.\n",
      "In Python you can connect pieces of information.\n",
      "In Python you can model real-world situations.\n"
     ]
    }
   ],
   "source": [
    "# 练习10.3\n",
    "from pathlib import Path\n",
    "path=Path('chapter10/learning_python.txt')\n",
    "contents=path.read_text()\n",
    "for line in contents.splitlines():\n",
    "    print(line)"
   ]
  },
  {
   "cell_type": "code",
   "execution_count": 26,
   "id": "7ee1f071",
   "metadata": {},
   "outputs": [
    {
     "name": "stdout",
     "output_type": "stream",
     "text": [
      "What's your name? Amy\n"
     ]
    },
    {
     "data": {
      "text/plain": [
       "3"
      ]
     },
     "execution_count": 26,
     "metadata": {},
     "output_type": "execute_result"
    }
   ],
   "source": [
    "# 练习10.4\n",
    "from pathlib import Path\n",
    "path = Path('chapter10/guest.txt')\n",
    "name = input(\"What's your name? \")\n",
    "path.write_text(name)"
   ]
  },
  {
   "cell_type": "code",
   "execution_count": 27,
   "id": "88495822",
   "metadata": {},
   "outputs": [
    {
     "name": "stdout",
     "output_type": "stream",
     "text": [
      "What's your name? Amy\n",
      "What's your name? Tom\n",
      "What's your name? John\n",
      "What's your name? q\n"
     ]
    },
    {
     "data": {
      "text/plain": [
       "1"
      ]
     },
     "execution_count": 27,
     "metadata": {},
     "output_type": "execute_result"
    }
   ],
   "source": [
    "# 练习10.5\n",
    "from pathlib import Path\n",
    "name = \"\"\n",
    "while True:\n",
    "    name = input(\"What's your name? \")\n",
    "    if name == 'q':\n",
    "        break\n",
    "    name += f\"{name}\\n\"\n",
    "path = Path(\"chapter10/guest.txt\")\n",
    "path.write_text(name)"
   ]
  },
  {
   "cell_type": "code",
   "execution_count": null,
   "id": "325ae6fb",
   "metadata": {},
   "outputs": [],
   "source": []
  }
 ],
 "metadata": {
  "kernelspec": {
   "display_name": "Python 3 (ipykernel)",
   "language": "python",
   "name": "python3"
  },
  "language_info": {
   "codemirror_mode": {
    "name": "ipython",
    "version": 3
   },
   "file_extension": ".py",
   "mimetype": "text/x-python",
   "name": "python",
   "nbconvert_exporter": "python",
   "pygments_lexer": "ipython3",
   "version": "3.11.5"
  }
 },
 "nbformat": 4,
 "nbformat_minor": 5
}
