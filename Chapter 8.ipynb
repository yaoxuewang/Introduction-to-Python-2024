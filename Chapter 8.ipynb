{
 "cells": [
  {
   "cell_type": "markdown",
   "id": "792ccea4",
   "metadata": {},
   "source": [
    "# 第8章 函数"
   ]
  },
  {
   "cell_type": "markdown",
   "id": "06c52bfc",
   "metadata": {},
   "source": [
    "## 8.1 定义函数"
   ]
  },
  {
   "cell_type": "code",
   "execution_count": 4,
   "id": "220a0b15",
   "metadata": {},
   "outputs": [
    {
     "name": "stdout",
     "output_type": "stream",
     "text": [
      "Hello!\n"
     ]
    }
   ],
   "source": [
    "def greet_user():\n",
    "    \"\"\"显示简单的问候语\"\"\"\n",
    "    print(\"Hello!\")\n",
    "greet_user()\n",
    "\n",
    "#【def】（define）告诉Python你要定义一个函数，后面跟函数定义\n",
    "#向python指出函数名，此处【函数名】为greet_user()  括号不可少！\n",
    "#定义以冒号结尾\n",
    "\n",
    "#二三行所有缩进行构成了【函数体】\n",
    "#第二行的文本是称为文档字符串（docstring）的注释，描述了函数是做什么的。\n",
    "#代码行 print(\"Hello!\") 是函数体内的唯一一行代码，因此greet_user() 只做一项工作：打印 Hello!。"
   ]
  },
  {
   "cell_type": "markdown",
   "id": "187decd7",
   "metadata": {},
   "source": [
    "### 8.1.1 向函数传递信息"
   ]
  },
  {
   "cell_type": "code",
   "execution_count": 1,
   "id": "c5f13f45",
   "metadata": {},
   "outputs": [
    {
     "name": "stdout",
     "output_type": "stream",
     "text": [
      "Hello, Jesse!\n"
     ]
    }
   ],
   "source": [
    "def greet_user(username):\n",
    "    \"\"\"显示简单的问候语\"\"\"\n",
    "    print(f\"Hello, {username.title()}!\")\n",
    "greet_user('jesse')"
   ]
  },
  {
   "cell_type": "markdown",
   "id": "61692850",
   "metadata": {},
   "source": [
    "### 8.1.2 实参和形参"
   ]
  },
  {
   "cell_type": "code",
   "execution_count": null,
   "id": "59e5cbc5",
   "metadata": {},
   "outputs": [],
   "source": [
    "#在 greet_user() 函数的定义中，变量 username 是一个形参（parameter），即函数完成工作所需的信息\n",
    "#在代码greet_user('jesse') 中，值 'jesse' 是一个实参（argument），即在调用函数时传递给函数的信息\n",
    "#在 greet_user('jesse') 中，我们将实参'jesse' 传递给函数 greet_user()，这个值被赋给了形参username"
   ]
  },
  {
   "cell_type": "markdown",
   "id": "968d370e",
   "metadata": {},
   "source": [
    "## 8.2 传递实参"
   ]
  },
  {
   "cell_type": "markdown",
   "id": "9c494067",
   "metadata": {},
   "source": [
    "### 8.2.1 位置实参"
   ]
  },
  {
   "cell_type": "code",
   "execution_count": 6,
   "id": "93063227",
   "metadata": {},
   "outputs": [
    {
     "name": "stdout",
     "output_type": "stream",
     "text": [
      "\n",
      "I have a hamster.\n",
      "My hamster's name is Harry.\n",
      "\n",
      "I have a dog.\n",
      "My dog's name is Willie.\n",
      "\n",
      "I have a willie.\n",
      "My willie's name is Dog.\n"
     ]
    }
   ],
   "source": [
    "#位置实参：基于实参的顺序进行关联\n",
    "def describe_pet(animal_type, pet_name):\n",
    "    \"\"\"显示宠物的信息\"\"\"\n",
    "    print(f\"\\nI have a {animal_type}.\")\n",
    "    print(f\"My {animal_type}'s name is {pet_name.title()}.\")\n",
    "describe_pet('hamster', 'harry')\n",
    "describe_pet('dog', 'willie')#顺序不要搞错了！！\n",
    "describe_pet('willie', 'dog')"
   ]
  },
  {
   "cell_type": "markdown",
   "id": "af4406f5",
   "metadata": {},
   "source": [
    "### 8.2.2 关键字实参"
   ]
  },
  {
   "cell_type": "code",
   "execution_count": 8,
   "id": "6ab1bcc7",
   "metadata": {},
   "outputs": [
    {
     "name": "stdout",
     "output_type": "stream",
     "text": [
      "\n",
      "I have a hamster.\n",
      "My hamster's name is Harry.\n"
     ]
    }
   ],
   "source": [
    "#关键字实参：直接在实参中将名称和值关联起来，不用考虑实参顺序\n",
    "def describe_pet(animal_type, pet_name):\n",
    "    \"\"\"显示宠物的信息\"\"\"\n",
    "    print(f\"\\nI have a {animal_type}.\")\n",
    "    print(f\"My {animal_type}'s name is {pet_name.title()}.\")\n",
    "describe_pet(animal_type='hamster', pet_name='harry')"
   ]
  },
  {
   "cell_type": "markdown",
   "id": "e3f956b6",
   "metadata": {},
   "source": [
    "### 8.2.3 默认值"
   ]
  },
  {
   "cell_type": "code",
   "execution_count": 10,
   "id": "23bae744",
   "metadata": {},
   "outputs": [
    {
     "name": "stdout",
     "output_type": "stream",
     "text": [
      "\n",
      "I have a dog.\n",
      "My dog's name is Willie.\n",
      "\n",
      "I have a hamster.\n",
      "My hamster's name is Harry.\n"
     ]
    }
   ],
   "source": [
    "#给形参指定默认值后，可在函数调用中省略相应的实参\n",
    "def describe_pet(pet_name, animal_type='dog'):\n",
    "    \"\"\"显示宠物的信息\"\"\"\n",
    "    print(f\"\\nI have a {animal_type}.\")\n",
    "    print(f\"My {animal_type}'s name is {pet_name.title()}.\")\n",
    "describe_pet(pet_name='willie')\n",
    "\n",
    "describe_pet(pet_name='harry', animal_type='hamster')#于显式地给 animal_type 提供了实参，Python 将忽略这个形参的默认值"
   ]
  },
  {
   "cell_type": "markdown",
   "id": "ad126123",
   "metadata": {},
   "source": [
    "### 8.2.4 等效的函数调用"
   ]
  },
  {
   "cell_type": "code",
   "execution_count": 6,
   "id": "12ba1f3e",
   "metadata": {},
   "outputs": [
    {
     "name": "stdout",
     "output_type": "stream",
     "text": [
      "\n",
      "I have a dog.\n",
      "My dog's name is Willie.\n",
      "\n",
      "I have a cat.\n",
      "My cat's name is Willie.\n",
      "\n",
      "I have a cat.\n",
      "My cat's name is Willie.\n",
      "\n",
      "I have a cat.\n",
      "My cat's name is Willie.\n"
     ]
    }
   ],
   "source": [
    "def describe_pet(pet_name, animal_type='dog'):\n",
    "    \"\"\"显示宠物的信息\"\"\"\n",
    "    print(f\"\\nI have a {animal_type}.\")\n",
    "    print(f\"My {animal_type}'s name is {pet_name.title()}.\")\n",
    "    \n",
    "describe_pet('Willie')\n",
    "describe_pet('Willie', 'cat')\n",
    "describe_pet(pet_name = 'Willie', animal_type = 'cat')\n",
    "describe_pet(animal_type = 'cat', pet_name = 'Willie')\n",
    "#这四种调用方式都可以"
   ]
  },
  {
   "cell_type": "markdown",
   "id": "c4f8843f",
   "metadata": {},
   "source": [
    "## 8.3 返回值"
   ]
  },
  {
   "cell_type": "markdown",
   "id": "03e6587b",
   "metadata": {},
   "source": [
    "### 8.3.1 返回简单的值"
   ]
  },
  {
   "cell_type": "code",
   "execution_count": 11,
   "id": "c78cf49c",
   "metadata": {},
   "outputs": [
    {
     "name": "stdout",
     "output_type": "stream",
     "text": [
      "Jimi Hendrix\n"
     ]
    }
   ],
   "source": [
    "#函数返回的值称为返回值。在函数中，可以使用 return 语句将值返回到调用函数的那行代码\n",
    "\n",
    "def get_formatted_name(first_name, last_name):\n",
    "    \"\"\"返回标准格式的姓名\"\"\"\n",
    "    full_name = f\"{first_name} {last_name}\"\n",
    "    return full_name.title()\n",
    "musician = get_formatted_name('jimi', 'hendrix')\n",
    "print(musician)"
   ]
  },
  {
   "cell_type": "markdown",
   "id": "a2974267",
   "metadata": {},
   "source": [
    "### 8.3.2 让实参变成可选的"
   ]
  },
  {
   "cell_type": "code",
   "execution_count": 54,
   "id": "70e810fe",
   "metadata": {},
   "outputs": [
    {
     "name": "stdout",
     "output_type": "stream",
     "text": [
      "John Lee Hooker\n"
     ]
    }
   ],
   "source": [
    "def get_formatted_name(first_name, middle_name, last_name):\n",
    "    \"\"\"返回标准格式的姓名\"\"\"\n",
    "    full_name = f\"{first_name} {middle_name} {last_name}\"\n",
    "    return full_name.title()\n",
    "musician = get_formatted_name('john', 'lee', 'hooker')\n",
    "print(musician)"
   ]
  },
  {
   "cell_type": "code",
   "execution_count": 55,
   "id": "26ff6b9f",
   "metadata": {},
   "outputs": [
    {
     "name": "stdout",
     "output_type": "stream",
     "text": [
      "Jimi Hendrix\n",
      "John Lee Hooker\n"
     ]
    }
   ],
   "source": [
    "#并非所有人都有中间名\n",
    "#为让中间名变成可选的，可给形参 middle_name 指定默认值（空字符串），并将其移到形参列表的末尾,在用户不提供中间名时不使用这个形参\n",
    "\n",
    "def get_formatted_name(first_name, last_name, middle_name=''):\n",
    "    \"\"\"返回标准格式的姓名\"\"\"\n",
    "    if middle_name:\n",
    "    #Python 将非空字符串解读为 True.如果提供了中间名，条件测试 if middle_name 将为 True\n",
    "        full_name = f\"{first_name} {middle_name} {last_name}\"\n",
    "    else:\n",
    "        full_name = f\"{first_name} {last_name}\"\n",
    "    return full_name.title()\n",
    "\n",
    "musician = get_formatted_name('jimi', 'hendrix')\n",
    "print(musician)\n",
    "\n",
    "musician = get_formatted_name('john', 'hooker', 'lee')\n",
    "print(musician)"
   ]
  },
  {
   "cell_type": "markdown",
   "id": "4c8220a8",
   "metadata": {},
   "source": [
    "### 8.3.3 返回字典"
   ]
  },
  {
   "cell_type": "code",
   "execution_count": 56,
   "id": "bc34a9c7",
   "metadata": {},
   "outputs": [
    {
     "name": "stdout",
     "output_type": "stream",
     "text": [
      "{'first': 'jimi', 'last': 'hendrix'}\n"
     ]
    }
   ],
   "source": [
    "def build_person(first_name, last_name):\n",
    "    \"\"\"返回一个字典，其中包含有关一个人的信息\"\"\"\n",
    "    person = {'first': first_name, 'last': last_name}\n",
    "    return person\n",
    "musician = build_person('jimi', 'hendrix')\n",
    "print(musician)"
   ]
  },
  {
   "cell_type": "code",
   "execution_count": 57,
   "id": "bd28fec9",
   "metadata": {},
   "outputs": [
    {
     "name": "stdout",
     "output_type": "stream",
     "text": [
      "{'first': 'jimi', 'last': 'hendrix', 'age': 27}\n"
     ]
    }
   ],
   "source": [
    "#新增了一个可选形参 age\n",
    "#None 为占位值\n",
    "def build_person(first_name, last_name, age=None):\n",
    "    \"\"\"返回一个字典，其中包含有关一个人的信息\"\"\"\n",
    "    person = {'first': first_name, 'last': last_name}\n",
    "    if age:\n",
    "        person['age'] = age\n",
    "    return person\n",
    "musician = build_person('jimi', 'hendrix', age=27)\n",
    "print(musician)"
   ]
  },
  {
   "cell_type": "markdown",
   "id": "066dbc15",
   "metadata": {},
   "source": [
    "### 8.3.4 结合使用函数和 while 循环"
   ]
  },
  {
   "cell_type": "code",
   "execution_count": 13,
   "id": "e0e6a3be",
   "metadata": {},
   "outputs": [
    {
     "name": "stdout",
     "output_type": "stream",
     "text": [
      "\n",
      "Please tell me your name:\n",
      "(enter 'q' at any time to quit)\n",
      "First name: amy\n",
      "Last name: wang\n",
      "\n",
      "Hello, Amy Wang!\n",
      "\n",
      "Please tell me your name:\n",
      "(enter 'q' at any time to quit)\n",
      "First name: tom\n",
      "Last name: jamme\n",
      "\n",
      "Hello, Tom Jamme!\n",
      "\n",
      "Please tell me your name:\n",
      "(enter 'q' at any time to quit)\n",
      "First name: q\n"
     ]
    }
   ],
   "source": [
    "def get_formatted_name(first_name, last_name):\n",
    "    \"\"\"返回规范格式的姓名\"\"\"\n",
    "    full_name = f\"{first_name} {last_name}\"\n",
    "    return full_name.title()\n",
    "\n",
    "while True:\n",
    "    print(\"\\nPlease tell me your name:\")\n",
    "    print(\"(enter 'q' at any time to quit)\")\n",
    "    f_name = input(\"First name: \")\n",
    "    if f_name == 'q':\n",
    "        break\n",
    "    l_name = input(\"Last name: \")\n",
    "    if l_name == 'q':\n",
    "        break\n",
    "    formatted_name = get_formatted_name(f_name, l_name)\n",
    "    print(f\"\\nHello, {formatted_name}!\")"
   ]
  },
  {
   "cell_type": "markdown",
   "id": "aa142d1f",
   "metadata": {},
   "source": [
    "## 8.4 传递列表"
   ]
  },
  {
   "cell_type": "code",
   "execution_count": 14,
   "id": "144938a6",
   "metadata": {},
   "outputs": [
    {
     "name": "stdout",
     "output_type": "stream",
     "text": [
      "Hello, Hannah!\n",
      "Hello, Ty!\n",
      "Hello, Margot!\n"
     ]
    }
   ],
   "source": [
    "#可向函数传递名字列表、数值列表或更复杂的对象列表（如字典）\n",
    "\n",
    "def greet_users(names):\n",
    "    \"\"\"向列表中的每个用户发出简单的问候\"\"\"\n",
    "    for name in names:\n",
    "        msg = f\"Hello, {name.title()}!\"\n",
    "        print(msg)\n",
    "usernames = ['hannah', 'ty', 'margot']\n",
    "greet_users(usernames)"
   ]
  },
  {
   "cell_type": "markdown",
   "id": "0a97f41a",
   "metadata": {},
   "source": [
    "### 8.4.1 在函数中修改列表"
   ]
  },
  {
   "cell_type": "code",
   "execution_count": 15,
   "id": "b5017bda",
   "metadata": {},
   "outputs": [
    {
     "name": "stdout",
     "output_type": "stream",
     "text": [
      "Printing model: dodecahedron\n",
      "Printing model: robot pendant\n",
      "Printing model: phone case\n",
      "\n",
      "The following models have been printed:\n",
      "dodecahedron\n",
      "robot pendant\n",
      "phone case\n"
     ]
    }
   ],
   "source": [
    "def print_models(unprinted_designs, completed_models):\n",
    "    \"\"\"\n",
    "    模拟打印每个设计，直到没有未打印的设计为止\n",
    "    打印每个设计后，都将其移到列表 completed_models 中\n",
    "    \"\"\"\n",
    "    while unprinted_designs:\n",
    "        current_design = unprinted_designs.pop()\n",
    "        print(f\"Printing model: {current_design}\")\n",
    "        completed_models.append(current_design)\n",
    "def show_completed_models(completed_models):\n",
    "    \"\"\"显示打印好的所有模型\"\"\"\n",
    "    print(\"\\nThe following models have been printed:\")\n",
    "    for completed_model in completed_models:\n",
    "        print(completed_model)\n",
    "\n",
    "unprinted_designs = ['phone case', 'robot pendant', 'dodecahedron']\n",
    "completed_models = []\n",
    "\n",
    "print_models(unprinted_designs, completed_models)\n",
    "show_completed_models(completed_models)"
   ]
  },
  {
   "cell_type": "code",
   "execution_count": 29,
   "id": "276b7e21",
   "metadata": {},
   "outputs": [
    {
     "name": "stdout",
     "output_type": "stream",
     "text": [
      "Verifying user: Candace\n",
      "Verifying user: Brian\n",
      "Verifying user: Alice\n",
      "\n",
      "The following users have been confirmed:\n",
      "Candace\n",
      "Brian\n",
      "Alice\n",
      "[]\n"
     ]
    }
   ],
   "source": [
    "def verify_users(unconfirmed_users, confirmed_users):\n",
    "    \"\"\"验证每个用户 将每个经过验证的用户都移到已验证用户列表中\"\"\"\n",
    "    while unconfirmed_users:\n",
    "        current_user = unconfirmed_users.pop()\n",
    "        print(f\"Verifying user: {current_user.title()}\")\n",
    "        confirmed_users.append(current_user)\n",
    "\n",
    "        \n",
    "def show_verified_users(confirmed_users):\n",
    "    \"\"\"展示验证用户\"\"\"\n",
    "    print(\"\\nThe following users have been confirmed:\")\n",
    "    for confirmed_user in confirmed_users:\n",
    "        print(confirmed_user.title())\n",
    "        \n",
    "        \n",
    "unconfirmed_users = ['alice', 'brian', 'candace']\n",
    "confirmed_users = []\n",
    "\n",
    "verify_users(unconfirmed_users, confirmed_users)\n",
    "show_verified_users(confirmed_users)\n",
    "print(unconfirmed_users)"
   ]
  },
  {
   "cell_type": "markdown",
   "id": "656b5f10",
   "metadata": {},
   "source": [
    "### 8.4.2 禁止函数修改列表"
   ]
  },
  {
   "cell_type": "code",
   "execution_count": 37,
   "id": "1d38fde6",
   "metadata": {},
   "outputs": [
    {
     "name": "stdout",
     "output_type": "stream",
     "text": [
      "Verifying user: Candace\n",
      "Verifying user: Brian\n",
      "Verifying user: Alice\n",
      "\n",
      "The following users have been confirmed:\n",
      "Candace\n",
      "Brian\n",
      "Alice\n",
      "['alice', 'brian', 'candace'] ['candace', 'brian', 'alice']\n"
     ]
    }
   ],
   "source": [
    "def verify_users(unconfirmed_users, confirmed_users):\n",
    "    \"\"\"验证每个用户 将每个经过验证的用户都移到已验证用户列表中\"\"\"\n",
    "    while unconfirmed_users:\n",
    "        current_user = unconfirmed_users.pop()\n",
    "        print(f\"Verifying user: {current_user.title()}\")\n",
    "        confirmed_users.append(current_user)\n",
    "\n",
    "        \n",
    "def show_verified_users(confirmed_users):\n",
    "    \"\"\"展示验证用户\"\"\"\n",
    "    print(\"\\nThe following users have been confirmed:\")\n",
    "    for confirmed_user in confirmed_users:\n",
    "        print(confirmed_user.title())\n",
    "        \n",
    "        \n",
    "unconfirmed_users = ['alice', 'brian', 'candace']\n",
    "confirmed_users = []\n",
    "\n",
    "verify_users(unconfirmed_users[:], confirmed_users)#使用列表的副本\n",
    "show_verified_users(confirmed_users)\n",
    "print(unconfirmed_users, confirmed_users)# 列表unconfirmed_users 没变，列表 confirmed_users 经过函数后增加了"
   ]
  },
  {
   "cell_type": "markdown",
   "id": "74e06c7b",
   "metadata": {},
   "source": [
    "## 8.5 传递任意数量的实参"
   ]
  },
  {
   "cell_type": "code",
   "execution_count": 38,
   "id": "b87eb473",
   "metadata": {},
   "outputs": [
    {
     "name": "stdout",
     "output_type": "stream",
     "text": [
      "('pepperoni',)\n",
      "('mushrooms', 'green peppers', 'extra cheese')\n"
     ]
    }
   ],
   "source": [
    "#形参名 *toppings 中的星号让 Python 创建一个名为 toppings 的元组，该元组包含函数收到的所有值。\n",
    "#函数体内的函数调用 print() 生成的输出证明，Python 既能处理使用一个值调用函数的情形，也能处理使用三个值调用函数的情形。\n",
    "\n",
    "def make_pizza(*toppings):\n",
    "    \"\"\"打印顾客点的所有配料\"\"\"\n",
    "    print(toppings)\n",
    "make_pizza('pepperoni')\n",
    "make_pizza('mushrooms', 'green peppers', 'extra cheese')"
   ]
  },
  {
   "cell_type": "code",
   "execution_count": 39,
   "id": "d1a2256c",
   "metadata": {},
   "outputs": [
    {
     "name": "stdout",
     "output_type": "stream",
     "text": [
      "pepperoni\n"
     ]
    },
    {
     "ename": "TypeError",
     "evalue": "make_pizza() takes 1 positional argument but 3 were given",
     "output_type": "error",
     "traceback": [
      "\u001b[1;31m---------------------------------------------------------------------------\u001b[0m",
      "\u001b[1;31mTypeError\u001b[0m                                 Traceback (most recent call last)",
      "Cell \u001b[1;32mIn[39], line 5\u001b[0m\n\u001b[0;32m      3\u001b[0m     \u001b[38;5;28mprint\u001b[39m(toppings)\n\u001b[0;32m      4\u001b[0m make_pizza(\u001b[38;5;124m'\u001b[39m\u001b[38;5;124mpepperoni\u001b[39m\u001b[38;5;124m'\u001b[39m)\n\u001b[1;32m----> 5\u001b[0m make_pizza(\u001b[38;5;124m'\u001b[39m\u001b[38;5;124mmushrooms\u001b[39m\u001b[38;5;124m'\u001b[39m, \u001b[38;5;124m'\u001b[39m\u001b[38;5;124mgreen peppers\u001b[39m\u001b[38;5;124m'\u001b[39m, \u001b[38;5;124m'\u001b[39m\u001b[38;5;124mextra cheese\u001b[39m\u001b[38;5;124m'\u001b[39m)\n",
      "\u001b[1;31mTypeError\u001b[0m: make_pizza() takes 1 positional argument but 3 were given"
     ]
    }
   ],
   "source": [
    "#没有使用 * 时，无法接受任意实参\n",
    "def make_pizza(toppings):\n",
    "    \"\"\"打印顾客点的所有配料\"\"\"\n",
    "    print(toppings)\n",
    "make_pizza('pepperoni')\n",
    "make_pizza('mushrooms', 'green peppers', 'extra cheese')"
   ]
  },
  {
   "cell_type": "markdown",
   "id": "e11319de",
   "metadata": {},
   "source": [
    "### 8.5.1 结合使用位置实参和任意数量的实参"
   ]
  },
  {
   "cell_type": "code",
   "execution_count": 41,
   "id": "92ab2e29",
   "metadata": {},
   "outputs": [
    {
     "name": "stdout",
     "output_type": "stream",
     "text": [
      "\n",
      "Making a 16-inch pizza with the following toppings:\n",
      "- pepperoni\n",
      "\n",
      "Making a 12-inch pizza with the following toppings:\n",
      "- mushrooms\n",
      "- green peppers\n",
      "- extra cheese\n"
     ]
    }
   ],
   "source": [
    "#如果要让函数接受不同类型的实参，必须在函数定义中将接纳任意数量实参的形参放在最后（有*的放最后）\n",
    "\n",
    "def make_pizza(size, *toppings):\n",
    "    \"\"\"概述要制作的比萨\"\"\"\n",
    "    print(f\"\\nMaking a {size}-inch pizza with the following toppings:\")\n",
    "    for topping in toppings:\n",
    "        print(f\"- {topping}\")\n",
    "make_pizza(16, 'pepperoni')\n",
    "make_pizza(12, 'mushrooms', 'green peppers', 'extra cheese')"
   ]
  },
  {
   "cell_type": "markdown",
   "id": "a31c884a",
   "metadata": {},
   "source": [
    "### 8.5.2 使用任意数量的关键字实参"
   ]
  },
  {
   "cell_type": "code",
   "execution_count": 43,
   "id": "a9792863",
   "metadata": {},
   "outputs": [
    {
     "name": "stdout",
     "output_type": "stream",
     "text": [
      "{'location': 'princeton', 'field': 'physics', 'first_name': 'albert', 'last_name': 'einstein'}\n"
     ]
    }
   ],
   "source": [
    "#可将函数编写成能够接受任意数量的键值对——调用语句提供了多少就接受多少\n",
    "\n",
    "def build_profile(first, last, **user_info):\n",
    "    \"\"\"创建一个字典，其中包含我们知道的有关用户的一切\"\"\"\n",
    "    user_info['first_name'] = first\n",
    "    user_info['last_name'] = last\n",
    "    return user_info\n",
    "user_profile = build_profile('albert', 'einstein',\n",
    "                             location='princeton',\n",
    "                             field='physics')\n",
    "print(user_profile)"
   ]
  },
  {
   "cell_type": "markdown",
   "id": "61a6a0b8",
   "metadata": {},
   "source": [
    "## 8.6 将函数存储在模块中"
   ]
  },
  {
   "cell_type": "markdown",
   "id": "e087bf92",
   "metadata": {},
   "source": [
    "### 8.6.1 导入整个模块"
   ]
  },
  {
   "cell_type": "code",
   "execution_count": 44,
   "id": "c5aad979",
   "metadata": {},
   "outputs": [],
   "source": [
    "#首先创建模块，模块是扩展名为 .py 的文件，包含要导入程序的代码。\n",
    "\n",
    "#例：创建一个名为pizza.py的文件\n",
    "def make_pizza(size, *toppings):\n",
    "    \"\"\"概述要制作的比萨\"\"\"\n",
    "    print(f\"\\nMaking a {size}-inch pizza with the following toppings:\")\n",
    "    for topping in toppings:\n",
    "        print(f\"- {topping}\")\n",
    "        \n",
    "#在 pizza.py 所在的目录中创建一个名为 making_pizzas.py 的文件\n",
    "#这个文件先导入刚创建的模块，再调用 make_pizza() 两次：\n",
    "import pizza #编写一条 import 语句并在其中指定模块名\n",
    "pizza.make_pizza(16, 'pepperoni') #被导入模块的名称 pizza 和函数名make_pizza()，并用【句点】隔开\n",
    "pizza.make_pizza(12, 'mushrooms', 'green peppers', 'extra cheese')"
   ]
  },
  {
   "cell_type": "markdown",
   "id": "b427e6ed",
   "metadata": {},
   "source": [
    "### 8.6.2 导入特定的函数"
   ]
  },
  {
   "cell_type": "code",
   "execution_count": null,
   "id": "1290a60f",
   "metadata": {},
   "outputs": [],
   "source": [
    "#可以只导入模块中的特定函数，语法如下：\n",
    "from module_name import function_name\n",
    "\n",
    "#用逗号分隔函数名，可根据需要从模块中导入任意数量的函数：\n",
    "from module_name import function_0, function_1, function_2\n",
    "\n",
    "from pizza import make_pizza\n",
    "make_pizza(16, 'pepperoni')\n",
    "make_pizza(12, 'mushrooms', 'green peppers', 'extra cheese')"
   ]
  },
  {
   "cell_type": "markdown",
   "id": "57e70276",
   "metadata": {},
   "source": [
    "### 8.6.3 使用 as 给函数指定别名"
   ]
  },
  {
   "cell_type": "code",
   "execution_count": null,
   "id": "ae529abf",
   "metadata": {},
   "outputs": [],
   "source": [
    "#如果要导入的函数的名称太长或者可能与程序中既有的名称冲突，可指定简短而独一无二的别名（alias）\n",
    "\n",
    "#给 make_pizza() 函数指定了别名 mp()\n",
    "from pizza import make_pizza as mp\n",
    "mp(16, 'pepperoni')\n",
    "mp(12, 'mushrooms', 'green peppers', 'extra cheese')\n",
    "\n",
    "\n",
    "#指定别名的通用语法如下：\n",
    "from module_name import function_name as fn"
   ]
  },
  {
   "cell_type": "markdown",
   "id": "bb188b9c",
   "metadata": {},
   "source": [
    "### 8.6.4 使用 as 给模块指定别名"
   ]
  },
  {
   "cell_type": "code",
   "execution_count": null,
   "id": "3bf0f045",
   "metadata": {},
   "outputs": [],
   "source": [
    "#给 pizza 模块指定了别名 p\n",
    "import pizza as p\n",
    "p.make_pizza(16, 'pepperoni')\n",
    "p.make_pizza(12, 'mushrooms', 'green peppers', 'extra cheese')\n",
    "\n",
    "#给模块指定别名的通用语法如下：\n",
    "import module_name as mn"
   ]
  },
  {
   "cell_type": "markdown",
   "id": "d41d02bf",
   "metadata": {},
   "source": [
    "### 8.6.5 导入模块中的所有函数"
   ]
  },
  {
   "cell_type": "code",
   "execution_count": null,
   "id": "1ff21d53",
   "metadata": {},
   "outputs": [],
   "source": [
    "#使用星号（*）运算符可让 Python 导入模块中的所有函数\n",
    "#由于导入了每个函数，可通过名称来调用每个函数，无须使用点号\n",
    "from pizza import *\n",
    "make_pizza(16, 'pepperoni')\n",
    "make_pizza(12, 'mushrooms', 'green peppers', 'extra cheese')"
   ]
  },
  {
   "cell_type": "markdown",
   "id": "d75d7420",
   "metadata": {},
   "source": [
    "## 练习"
   ]
  },
  {
   "cell_type": "code",
   "execution_count": 46,
   "id": "a7b9cbf4",
   "metadata": {},
   "outputs": [
    {
     "name": "stdout",
     "output_type": "stream",
     "text": [
      "The theme of this chapter is function.\n"
     ]
    }
   ],
   "source": [
    "# 练习8.1\n",
    "def display_message():\n",
    "    \"\"\"指出本章的主题是什么\"\"\"\n",
    "    print(\"The theme of this chapter is function.\")\n",
    "\n",
    "display_message()"
   ]
  },
  {
   "cell_type": "code",
   "execution_count": 48,
   "id": "45df3942",
   "metadata": {},
   "outputs": [
    {
     "name": "stdout",
     "output_type": "stream",
     "text": [
      "One of my favorite books is Flipped.\n"
     ]
    }
   ],
   "source": [
    "# 练习8.2\n",
    "def favorite_book(book_name):\n",
    "    \"\"\"表达自己喜欢的书籍\"\"\"\n",
    "    print(f\"One of my favorite books is {book_name.title()}.\")\n",
    "    \n",
    "favorite_book('flipped')"
   ]
  },
  {
   "cell_type": "code",
   "execution_count": 51,
   "id": "28ebe515",
   "metadata": {},
   "outputs": [
    {
     "name": "stdout",
     "output_type": "stream",
     "text": [
      "Make a shirt in size M with 'Happy Everyday' printed on it.\n",
      "Make a shirt in size M with 'Happy Everyday' printed on it.\n"
     ]
    }
   ],
   "source": [
    "# 练习8.3\n",
    "def make_shirt(size, msg):\n",
    "    print(f\"Make a shirt in size {size.title()} with '{msg.title()}' printed on it.\")\n",
    "\n",
    "#位置实参\n",
    "make_shirt('m', 'happy everyday')\n",
    "\n",
    "#关键字实参\n",
    "make_shirt(size = 'm', msg = 'happy everyday')"
   ]
  },
  {
   "cell_type": "code",
   "execution_count": 52,
   "id": "e9481b2d",
   "metadata": {},
   "outputs": [
    {
     "name": "stdout",
     "output_type": "stream",
     "text": [
      "Make a shirt in size L with 'I Love Python' printed on it.\n",
      "Make a shirt in size M with 'I Love Python' printed on it.\n",
      "Make a shirt in size L with 'Love And Peace' printed on it.\n"
     ]
    }
   ],
   "source": [
    "# 练习8.4\n",
    "def make_shirt(size = 'l', msg = 'I love Python'):\n",
    "    print(f\"Make a shirt in size {size.title()} with '{msg.title()}' printed on it.\")\n",
    "\n",
    "make_shirt()\n",
    "make_shirt('m')\n",
    "make_shirt(msg = 'love and peace')"
   ]
  },
  {
   "cell_type": "code",
   "execution_count": 53,
   "id": "68855e7b",
   "metadata": {},
   "outputs": [
    {
     "name": "stdout",
     "output_type": "stream",
     "text": [
      "Beijing is in China.\n",
      "Shanghai is in China.\n",
      "Seoul is in South Korea.\n"
     ]
    }
   ],
   "source": [
    "# 练习8.5\n",
    "def describe_city(name, country = 'china'):\n",
    "    print(f\"{name.title()} is in {country.title()}.\")\n",
    "\n",
    "describe_city('beijing')\n",
    "describe_city('shanghai')\n",
    "describe_city('seoul','south korea')"
   ]
  },
  {
   "cell_type": "code",
   "execution_count": 59,
   "id": "c37d6238",
   "metadata": {},
   "outputs": [
    {
     "name": "stdout",
     "output_type": "stream",
     "text": [
      "Beijing, China\n",
      "Tokyo, Japan\n",
      "Paris, France\n"
     ]
    }
   ],
   "source": [
    "# 练习8.6\n",
    "def city_country(name, country):\n",
    "    msg = f\"{name}, {country}\"\n",
    "    return  msg.title()\n",
    "\n",
    "city_msg1=city_country('Beijing', 'China')\n",
    "print(city_msg1)\n",
    "city_msg2=city_country('Tokyo', 'Japan')\n",
    "print(city_msg2)\n",
    "city_msg3=city_country('Paris', 'France')\n",
    "print(city_msg3)"
   ]
  },
  {
   "cell_type": "code",
   "execution_count": 67,
   "id": "b38e84e5",
   "metadata": {},
   "outputs": [
    {
     "name": "stdout",
     "output_type": "stream",
     "text": [
      "{'artist': 'Taylor Swift', 'album': '1989'}\n",
      "{'artist': 'Ed Sheeran', 'album': 'Divide', 'num_songs': 12}\n",
      "{'artist': 'Zerobaseone', 'album': 'In Bloom'}\n"
     ]
    }
   ],
   "source": [
    "# 练习8.7\n",
    "def make_album(artist, album, num_songs = None):\n",
    "    album_info = {'artist': artist, 'album': album}\n",
    "    if num_songs:\n",
    "        album_info['num_songs'] = num_songs\n",
    "    return album_info\n",
    "\n",
    "album1 = make_album('Taylor Swift', '1989')\n",
    "album2 = make_album('Ed Sheeran', 'Divide', 12)\n",
    "album3 = make_album('Zerobaseone', 'In Bloom')\n",
    "print(album1)\n",
    "print(album2)\n",
    "print(album3)"
   ]
  },
  {
   "cell_type": "code",
   "execution_count": 68,
   "id": "7d2c71c2",
   "metadata": {},
   "outputs": [
    {
     "name": "stdout",
     "output_type": "stream",
     "text": [
      "Please enter your favorite artist: (enter 'q' to quit)Zerobaseone\n",
      "Please enter your favorite artist's best album: (enter 'q' to quit)Yura Yura\n",
      "Please enter your favorite artist: (enter 'q' to quit)Ed Sheeran\n",
      "Please enter your favorite artist's best album: (enter 'q' to quit)Perfect\n",
      "Please enter your favorite artist: (enter 'q' to quit)q\n",
      "{'artist': 'Zerobaseone', 'album': 'Yura Yura'}\n",
      "{'artist': 'Ed Sheeran', 'album': 'Perfect'}\n"
     ]
    }
   ],
   "source": [
    "# 练习8.8\n",
    "def make_album(artist, album, num_songs = None):\n",
    "    album_info = {'artist': artist, 'album': album}\n",
    "    if num_songs:\n",
    "        album_info['num_songs'] = num_songs\n",
    "    return album_info\n",
    "\n",
    "albums = []\n",
    "while True:\n",
    "    artist = input(\"Please enter your favorite artist: (enter 'q' to quit)\")\n",
    "    if artist == 'q':\n",
    "        break\n",
    "        \n",
    "    album = input(\"Please enter your favorite artist's best album: (enter 'q' to quit)\")\n",
    "    if album == 'q':\n",
    "        break\n",
    "        \n",
    "    album_info = make_album(artist, album)\n",
    "    albums.append(album_info)\n",
    "    \n",
    "for album in albums:\n",
    "    print(album)"
   ]
  },
  {
   "cell_type": "code",
   "execution_count": 70,
   "id": "ea126332",
   "metadata": {},
   "outputs": [
    {
     "name": "stdout",
     "output_type": "stream",
     "text": [
      "Hello.\n",
      "I feel sad.\n",
      "See you at school.\n"
     ]
    }
   ],
   "source": [
    "# 练习8.9\n",
    "def show_messages(msges):\n",
    "    for msg in msges:\n",
    "        print(f\"{msg}.\")\n",
    "msges = ['Hello', 'I feel sad', 'See you at school']\n",
    "show_messages(msges)"
   ]
  },
  {
   "cell_type": "code",
   "execution_count": 74,
   "id": "5577b691",
   "metadata": {},
   "outputs": [
    {
     "name": "stdout",
     "output_type": "stream",
     "text": [
      "Sending message: See you at school.\n",
      "Sending message: I feel sad.\n",
      "Sending message: Hello.\n",
      "[]\n",
      "['See you at school', 'I feel sad', 'Hello']\n"
     ]
    }
   ],
   "source": [
    "# 练习8.10\n",
    "def send_messages(unsend_msg, sent_msg):\n",
    "    while unsend_msg:\n",
    "        current_msg = unsend_msg.pop()\n",
    "        print(f\"Sending message: {current_msg}.\")\n",
    "        sent_msg.append(current_msg)\n",
    "        \n",
    "unsend_msg = ['Hello', 'I feel sad', 'See you at school']\n",
    "sent_msg = []\n",
    "send_messages(unsend_msg, sent_msg)\n",
    "print(unsend_msg)\n",
    "print(sent_msg)"
   ]
  },
  {
   "cell_type": "code",
   "execution_count": 75,
   "id": "73b2bc1c",
   "metadata": {},
   "outputs": [
    {
     "name": "stdout",
     "output_type": "stream",
     "text": [
      "Sending message: See you at school.\n",
      "Sending message: I feel sad.\n",
      "Sending message: Hello.\n",
      "['Hello', 'I feel sad', 'See you at school']\n",
      "['See you at school', 'I feel sad', 'Hello']\n"
     ]
    }
   ],
   "source": [
    "# 练习8.11\n",
    "def send_messages(unsend_msg, sent_msg):\n",
    "    while unsend_msg:\n",
    "        current_msg = unsend_msg.pop()\n",
    "        print(f\"Sending message: {current_msg}.\")\n",
    "        sent_msg.append(current_msg)\n",
    "        \n",
    "unsend_msg = ['Hello', 'I feel sad', 'See you at school']\n",
    "sent_msg = []\n",
    "send_messages(unsend_msg[:], sent_msg)\n",
    "print(unsend_msg)\n",
    "print(sent_msg)"
   ]
  },
  {
   "cell_type": "code",
   "execution_count": 79,
   "id": "abb8540c",
   "metadata": {},
   "outputs": [
    {
     "name": "stdout",
     "output_type": "stream",
     "text": [
      "\n",
      "You've ordered a sandwich with:\n",
      "apple\n",
      "\n",
      "You've ordered a sandwich with:\n",
      "cheese\n",
      "beef\n",
      "\n",
      "You've ordered a sandwich with:\n",
      "beef\n",
      "chicken\n",
      "onion\n"
     ]
    }
   ],
   "source": [
    "# 练习8.12\n",
    "def make_sandwich(*toppings):\n",
    "    print(f\"\\nYou've ordered a sandwich with:\")\n",
    "    for topping in toppings:\n",
    "        print(topping)\n",
    "make_sandwich('apple')\n",
    "make_sandwich('cheese', 'beef')\n",
    "make_sandwich('beef', 'chicken', 'onion')"
   ]
  },
  {
   "cell_type": "code",
   "execution_count": 83,
   "id": "71aa08c7",
   "metadata": {},
   "outputs": [
    {
     "name": "stdout",
     "output_type": "stream",
     "text": [
      "{'first_name': 'yaoxue', 'last_name': 'wang', 'location': 'nanjing', 'field': 'korea', 'age': 22, 'gender': 'female', 'habit': 'sleep'}\n"
     ]
    }
   ],
   "source": [
    "# 练习8.13\n",
    "def build_profile(first_name, last_name, **user_info):\n",
    "    profile = {}\n",
    "    profile['first_name'] = first_name\n",
    "    profile['last_name'] = last_name\n",
    "    for key, value in user_info.items():\n",
    "        profile[key] = value\n",
    "    return profile\n",
    "my_profile = build_profile('yaoxue', 'wang',\n",
    "                             location='nanjing',\n",
    "                             field='korea',\n",
    "                             age=22,\n",
    "                             gender='female',\n",
    "                             habit='sleep')\n",
    "print(my_profile) "
   ]
  },
  {
   "cell_type": "code",
   "execution_count": 84,
   "id": "07c22e39",
   "metadata": {},
   "outputs": [
    {
     "name": "stdout",
     "output_type": "stream",
     "text": [
      "{'manufacturer': 'subaru', 'model': 'outback', 'color': 'blue', 'tow_package': True}\n"
     ]
    }
   ],
   "source": [
    "# 练习8.14\n",
    "def make_car(manufacturer, model, **options):\n",
    "    car_dict = {}\n",
    "    car_dict['manufacturer'] = manufacturer\n",
    "    car_dict['model'] = model\n",
    "    for key, value in options.items():\n",
    "        car_dict[key] = value\n",
    "    return car_dict\n",
    "car = make_car('subaru', 'outback', color='blue', tow_package=True)\n",
    "print(car)"
   ]
  }
 ],
 "metadata": {
  "kernelspec": {
   "display_name": "Python 3 (ipykernel)",
   "language": "python",
   "name": "python3"
  },
  "language_info": {
   "codemirror_mode": {
    "name": "ipython",
    "version": 3
   },
   "file_extension": ".py",
   "mimetype": "text/x-python",
   "name": "python",
   "nbconvert_exporter": "python",
   "pygments_lexer": "ipython3",
   "version": "3.11.5"
  }
 },
 "nbformat": 4,
 "nbformat_minor": 5
}
