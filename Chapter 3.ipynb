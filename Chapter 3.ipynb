{
 "cells": [
  {
   "cell_type": "markdown",
   "id": "af1a832c",
   "metadata": {},
   "source": [
    "# 第3章 列表简介"
   ]
  },
  {
   "cell_type": "markdown",
   "id": "9dbe6d03",
   "metadata": {},
   "source": [
    "## 3.1 列表"
   ]
  },
  {
   "cell_type": "code",
   "execution_count": 1,
   "id": "f3fd92fb",
   "metadata": {},
   "outputs": [
    {
     "name": "stdout",
     "output_type": "stream",
     "text": [
      "['trek', 'cannondale', 'redline', 'specialized']\n"
     ]
    }
   ],
   "source": [
    "bicycles = ['trek', 'cannondale', 'redline', 'specialized']\n",
    "print(bicycles)"
   ]
  },
  {
   "cell_type": "markdown",
   "id": "9fbf3eb2",
   "metadata": {},
   "source": [
    "### 3.1.1 访问列表"
   ]
  },
  {
   "cell_type": "code",
   "execution_count": 8,
   "id": "d0bff82f",
   "metadata": {},
   "outputs": [
    {
     "name": "stdout",
     "output_type": "stream",
     "text": [
      "trek\n",
      "specialized\n",
      "cannondale\n"
     ]
    }
   ],
   "source": [
    "bicycles = ['trek', 'cannondale', 'redline', 'specialized']\n",
    "print(bicycles[0])\n",
    "print(bicycles[-1])\n",
    "print(bicycles[-3])"
   ]
  },
  {
   "cell_type": "markdown",
   "id": "bf05d8dd",
   "metadata": {},
   "source": [
    "### 3.1.2 使用列表中的各个值"
   ]
  },
  {
   "cell_type": "code",
   "execution_count": 3,
   "id": "05ad4264",
   "metadata": {},
   "outputs": [
    {
     "name": "stdout",
     "output_type": "stream",
     "text": [
      "My favorite bicycle was a Cannondale.\n"
     ]
    }
   ],
   "source": [
    "bicycles = ['trek', 'cannondale', 'redline', 'specialized']\n",
    "msg=f\"My favorite bicycle was a {bicycles[1].title()}.\"\n",
    "print(msg)"
   ]
  },
  {
   "cell_type": "markdown",
   "id": "39d75819",
   "metadata": {},
   "source": [
    "### 3.2.1 修改列表元素"
   ]
  },
  {
   "cell_type": "code",
   "execution_count": 4,
   "id": "d5ab1a86",
   "metadata": {},
   "outputs": [
    {
     "name": "stdout",
     "output_type": "stream",
     "text": [
      "['honda', 'yamaha', 'suzuki']\n",
      "['ducati', 'yamaha', 'suzuki']\n"
     ]
    }
   ],
   "source": [
    "motorcycles = ['honda', 'yamaha', 'suzuki']\n",
    "print(motorcycles)\n",
    "motorcycles[0] = 'ducati'\n",
    "print(motorcycles)"
   ]
  },
  {
   "cell_type": "markdown",
   "id": "787f2bce",
   "metadata": {},
   "source": [
    "### 3.2.2 在列表中添加元素"
   ]
  },
  {
   "cell_type": "code",
   "execution_count": 5,
   "id": "172d96d3",
   "metadata": {},
   "outputs": [
    {
     "name": "stdout",
     "output_type": "stream",
     "text": [
      "['honda', 'yamaha', 'suzuki']\n",
      "['honda', 'yamaha', 'suzuki', 'ducati']\n"
     ]
    }
   ],
   "source": [
    "motorcycles = ['honda', 'yamaha', 'suzuki']\n",
    "print(motorcycles)\n",
    "motorcycles.append('ducati')\n",
    "print(motorcycles)"
   ]
  },
  {
   "cell_type": "code",
   "execution_count": 6,
   "id": "fea6e868",
   "metadata": {},
   "outputs": [
    {
     "name": "stdout",
     "output_type": "stream",
     "text": [
      "[]\n",
      "['ducati']\n"
     ]
    }
   ],
   "source": [
    "motorcycles = []\n",
    "print(motorcycles)\n",
    "motorcycles.append('ducati')\n",
    "print(motorcycles)"
   ]
  },
  {
   "cell_type": "code",
   "execution_count": 7,
   "id": "8c52402a",
   "metadata": {},
   "outputs": [
    {
     "name": "stdout",
     "output_type": "stream",
     "text": [
      "['honda', 'yamaha', 'suzuki']\n"
     ]
    }
   ],
   "source": [
    "motorcycles = []\n",
    "motorcycles.append('honda')\n",
    "motorcycles.append('yamaha')\n",
    "motorcycles.append('suzuki')\n",
    "print(motorcycles)"
   ]
  },
  {
   "cell_type": "code",
   "execution_count": 8,
   "id": "967d4e74",
   "metadata": {},
   "outputs": [
    {
     "name": "stdout",
     "output_type": "stream",
     "text": [
      "['ducati', 'honda', 'yamaha', 'suzuki']\n"
     ]
    }
   ],
   "source": [
    "motorcycles = ['honda', 'yamaha', 'suzuki']\n",
    "motorcycles.insert(0,'ducati')\n",
    "print(motorcycles)"
   ]
  },
  {
   "cell_type": "markdown",
   "id": "65b82115",
   "metadata": {},
   "source": [
    "### 3.2.3 从列表中删除元素"
   ]
  },
  {
   "cell_type": "code",
   "execution_count": 10,
   "id": "988b0fdd",
   "metadata": {},
   "outputs": [
    {
     "name": "stdout",
     "output_type": "stream",
     "text": [
      "['cannondale', 'redline', 'specialized']\n"
     ]
    }
   ],
   "source": [
    "bicycles = ['trek', 'cannondale', 'redline', 'specialized']\n",
    "del bicycles[0]\n",
    "print(bicycles)"
   ]
  },
  {
   "cell_type": "code",
   "execution_count": 3,
   "id": "d8542d4a",
   "metadata": {},
   "outputs": [
    {
     "name": "stdout",
     "output_type": "stream",
     "text": [
      "redline\n",
      "['trek']\n",
      "giant\n"
     ]
    }
   ],
   "source": [
    "bikes = ['giant', 'trek', 'redline']\n",
    "popped_bike=bikes.pop(0)\n",
    "print(bikes.pop())\n",
    "print(bikes)\n",
    "print(popped_bike)"
   ]
  },
  {
   "cell_type": "code",
   "execution_count": 4,
   "id": "6e5437c6",
   "metadata": {},
   "outputs": [
    {
     "name": "stdout",
     "output_type": "stream",
     "text": [
      "['honda', 'yamaha', 'suzuki']\n",
      "\n",
      "A ducati is too expensive for me.\n"
     ]
    }
   ],
   "source": [
    "motorcycles = ['honda', 'yamaha', 'suzuki','ducati']\n",
    "too_expensive = 'ducati'\n",
    "motorcycles.remove(too_expensive)\n",
    "print(motorcycles)\n",
    "print(f\"\\nA {too_expensive} is too expensive for me.\")"
   ]
  },
  {
   "cell_type": "markdown",
   "id": "4370a6da",
   "metadata": {},
   "source": [
    "## 3.3 管理列表"
   ]
  },
  {
   "cell_type": "markdown",
   "id": "be8d536f",
   "metadata": {},
   "source": [
    "### 3.3.1 排序"
   ]
  },
  {
   "cell_type": "code",
   "execution_count": 5,
   "id": "b6df81ff",
   "metadata": {},
   "outputs": [
    {
     "name": "stdout",
     "output_type": "stream",
     "text": [
      "[0, 1, 5, 7, 9]\n"
     ]
    }
   ],
   "source": [
    "nums=[9, 1, 5, 7, 0]\n",
    "nums.sort()\n",
    "print(nums)#正序（永久修改列表排序）"
   ]
  },
  {
   "cell_type": "code",
   "execution_count": 1,
   "id": "4238fbc1",
   "metadata": {},
   "outputs": [
    {
     "name": "stdout",
     "output_type": "stream",
     "text": [
      "[9, 7, 5, 1, 0]\n"
     ]
    }
   ],
   "source": [
    "nums=[9, 1, 5, 7, 0]\n",
    "nums.sort(reverse=True)#指定倒序\n",
    "print(nums)"
   ]
  },
  {
   "cell_type": "markdown",
   "id": "a180d98a",
   "metadata": {},
   "source": [
    "### 3.3.2 临时排序"
   ]
  },
  {
   "cell_type": "code",
   "execution_count": 8,
   "id": "d2840321",
   "metadata": {},
   "outputs": [
    {
     "name": "stdout",
     "output_type": "stream",
     "text": [
      "[0, 1, 5, 7, 9]\n"
     ]
    }
   ],
   "source": [
    "nums=[9, 1, 5, 7, 0]\n",
    "print(sorted(nums))"
   ]
  },
  {
   "cell_type": "code",
   "execution_count": 4,
   "id": "ab16223d",
   "metadata": {},
   "outputs": [
    {
     "name": "stdout",
     "output_type": "stream",
     "text": [
      "Here is the original list:\n",
      "[9, 1, 5, 7, 0]\n",
      "\n",
      "Here is the sorted list:\n",
      "[0, 1, 5, 7, 9]\n",
      "\n",
      "Here is the original list again:\n",
      "[9, 1, 5, 7, 0]\n"
     ]
    }
   ],
   "source": [
    "nums=[9, 1, 5, 7, 0]\n",
    "print(\"Here is the original list:\")\n",
    "print(nums)\n",
    "print(\"\\nHere is the sorted list:\")\n",
    "print(sorted(nums))\n",
    "print(\"\\nHere is the original list again:\")\n",
    "print(nums)"
   ]
  },
  {
   "cell_type": "markdown",
   "id": "d52b8191",
   "metadata": {},
   "source": [
    "### 3.3.3 反转"
   ]
  },
  {
   "cell_type": "code",
   "execution_count": 8,
   "id": "461b5e75",
   "metadata": {},
   "outputs": [
    {
     "name": "stdout",
     "output_type": "stream",
     "text": [
      "[0, 7, 5, 1, 9]\n"
     ]
    }
   ],
   "source": [
    "nums=[9, 1, 5, 7, 0]\n",
    "nums.reverse() #（永久修改列表排序）\n",
    "print(nums)"
   ]
  },
  {
   "cell_type": "markdown",
   "id": "d42471bf",
   "metadata": {},
   "source": [
    "### 3.3.4 确定列表长度"
   ]
  },
  {
   "cell_type": "code",
   "execution_count": 9,
   "id": "cf25e5cb",
   "metadata": {},
   "outputs": [
    {
     "name": "stdout",
     "output_type": "stream",
     "text": [
      "4\n"
     ]
    }
   ],
   "source": [
    "cars = ['bmw', 'audi', 'toyota', 'subaru']\n",
    "print(len(cars))"
   ]
  },
  {
   "cell_type": "code",
   "execution_count": 10,
   "id": "9b6eeaae",
   "metadata": {},
   "outputs": [
    {
     "name": "stdout",
     "output_type": "stream",
     "text": [
      "['Japan', 'Korea', 'Xiamen', 'Dali']\n"
     ]
    }
   ],
   "source": [
    "travel_places=['Japan', 'Korea', 'Xiamen', 'Dali']\n",
    "print(travel_places)"
   ]
  },
  {
   "cell_type": "code",
   "execution_count": 14,
   "id": "f9799dc1",
   "metadata": {},
   "outputs": [
    {
     "name": "stdout",
     "output_type": "stream",
     "text": [
      "['Dali', 'Japan', 'Korea', 'Xiamen']\n",
      "['Xiamen', 'Korea', 'Japan', 'Dali']\n",
      "4\n"
     ]
    }
   ],
   "source": [
    "travel_places=['Japan', 'Korea', 'Xiamen', 'Dali']\n",
    "travel_places.sort()\n",
    "print(travel_places)\n",
    "travel_places.sort(reverse=True)\n",
    "print(travel_places)\n",
    "print(len(travel_places))"
   ]
  }
 ],
 "metadata": {
  "kernelspec": {
   "display_name": "Python 3 (ipykernel)",
   "language": "python",
   "name": "python3"
  },
  "language_info": {
   "codemirror_mode": {
    "name": "ipython",
    "version": 3
   },
   "file_extension": ".py",
   "mimetype": "text/x-python",
   "name": "python",
   "nbconvert_exporter": "python",
   "pygments_lexer": "ipython3",
   "version": "3.11.5"
  }
 },
 "nbformat": 4,
 "nbformat_minor": 5
}
