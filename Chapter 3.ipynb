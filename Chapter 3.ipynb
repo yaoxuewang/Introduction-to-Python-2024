{
 "cells": [
  {
   "cell_type": "markdown",
   "id": "af1a832c",
   "metadata": {},
   "source": [
    "# 第3章 列表简介"
   ]
  },
  {
   "cell_type": "markdown",
   "id": "9dbe6d03",
   "metadata": {},
   "source": [
    "## 3.1 列表"
   ]
  },
  {
   "cell_type": "code",
   "execution_count": 1,
   "id": "f3fd92fb",
   "metadata": {},
   "outputs": [
    {
     "name": "stdout",
     "output_type": "stream",
     "text": [
      "['trek', 'cannondale', 'redline', 'specialized']\n"
     ]
    }
   ],
   "source": [
    "bicycles = ['trek', 'cannondale', 'redline', 'specialized']\n",
    "print(bicycles)"
   ]
  },
  {
   "cell_type": "markdown",
   "id": "9fbf3eb2",
   "metadata": {},
   "source": [
    "### 3.1.1 访问列表"
   ]
  },
  {
   "cell_type": "code",
   "execution_count": 8,
   "id": "d0bff82f",
   "metadata": {},
   "outputs": [
    {
     "name": "stdout",
     "output_type": "stream",
     "text": [
      "trek\n",
      "specialized\n",
      "cannondale\n"
     ]
    }
   ],
   "source": [
    "bicycles = ['trek', 'cannondale', 'redline', 'specialized']\n",
    "print(bicycles[0])\n",
    "print(bicycles[-1])\n",
    "print(bicycles[-3])"
   ]
  },
  {
   "cell_type": "markdown",
   "id": "bf05d8dd",
   "metadata": {},
   "source": [
    "### 3.1.2 使用列表中的各个值"
   ]
  },
  {
   "cell_type": "code",
   "execution_count": 3,
   "id": "05ad4264",
   "metadata": {},
   "outputs": [
    {
     "name": "stdout",
     "output_type": "stream",
     "text": [
      "My favorite bicycle was a Cannondale.\n"
     ]
    }
   ],
   "source": [
    "bicycles = ['trek', 'cannondale', 'redline', 'specialized']\n",
    "msg=f\"My favorite bicycle was a {bicycles[1].title()}.\"\n",
    "print(msg)"
   ]
  },
  {
   "cell_type": "markdown",
   "id": "39d75819",
   "metadata": {},
   "source": [
    "### 3.2.1 修改列表元素"
   ]
  },
  {
   "cell_type": "code",
   "execution_count": 4,
   "id": "d5ab1a86",
   "metadata": {},
   "outputs": [
    {
     "name": "stdout",
     "output_type": "stream",
     "text": [
      "['honda', 'yamaha', 'suzuki']\n",
      "['ducati', 'yamaha', 'suzuki']\n"
     ]
    }
   ],
   "source": [
    "motorcycles = ['honda', 'yamaha', 'suzuki']\n",
    "print(motorcycles)\n",
    "motorcycles[0] = 'ducati'\n",
    "print(motorcycles)"
   ]
  },
  {
   "cell_type": "markdown",
   "id": "787f2bce",
   "metadata": {},
   "source": [
    "### 3.2.2 在列表中添加元素"
   ]
  },
  {
   "cell_type": "code",
   "execution_count": 5,
   "id": "172d96d3",
   "metadata": {},
   "outputs": [
    {
     "name": "stdout",
     "output_type": "stream",
     "text": [
      "['honda', 'yamaha', 'suzuki']\n",
      "['honda', 'yamaha', 'suzuki', 'ducati']\n"
     ]
    }
   ],
   "source": [
    "motorcycles = ['honda', 'yamaha', 'suzuki']\n",
    "print(motorcycles)\n",
    "motorcycles.append('ducati')\n",
    "print(motorcycles)"
   ]
  },
  {
   "cell_type": "code",
   "execution_count": 6,
   "id": "fea6e868",
   "metadata": {},
   "outputs": [
    {
     "name": "stdout",
     "output_type": "stream",
     "text": [
      "[]\n",
      "['ducati']\n"
     ]
    }
   ],
   "source": [
    "motorcycles = []\n",
    "print(motorcycles)\n",
    "motorcycles.append('ducati')\n",
    "print(motorcycles)"
   ]
  },
  {
   "cell_type": "code",
   "execution_count": 7,
   "id": "8c52402a",
   "metadata": {},
   "outputs": [
    {
     "name": "stdout",
     "output_type": "stream",
     "text": [
      "['honda', 'yamaha', 'suzuki']\n"
     ]
    }
   ],
   "source": [
    "motorcycles = []\n",
    "motorcycles.append('honda')\n",
    "motorcycles.append('yamaha')\n",
    "motorcycles.append('suzuki')\n",
    "print(motorcycles)"
   ]
  },
  {
   "cell_type": "code",
   "execution_count": 8,
   "id": "967d4e74",
   "metadata": {},
   "outputs": [
    {
     "name": "stdout",
     "output_type": "stream",
     "text": [
      "['ducati', 'honda', 'yamaha', 'suzuki']\n"
     ]
    }
   ],
   "source": [
    "motorcycles = ['honda', 'yamaha', 'suzuki']\n",
    "motorcycles.insert(0,'ducati')\n",
    "print(motorcycles)"
   ]
  },
  {
   "cell_type": "markdown",
   "id": "65b82115",
   "metadata": {},
   "source": [
    "### 3.2.3 从列表中删除元素"
   ]
  },
  {
   "cell_type": "code",
   "execution_count": 10,
   "id": "988b0fdd",
   "metadata": {},
   "outputs": [
    {
     "name": "stdout",
     "output_type": "stream",
     "text": [
      "['cannondale', 'redline', 'specialized']\n"
     ]
    }
   ],
   "source": [
    "bicycles = ['trek', 'cannondale', 'redline', 'specialized']\n",
    "del bicycles[0]\n",
    "print(bicycles)"
   ]
  },
  {
   "cell_type": "code",
   "execution_count": 3,
   "id": "d8542d4a",
   "metadata": {},
   "outputs": [
    {
     "name": "stdout",
     "output_type": "stream",
     "text": [
      "redline\n",
      "['trek']\n",
      "giant\n"
     ]
    }
   ],
   "source": [
    "bikes = ['giant', 'trek', 'redline']\n",
    "popped_bike=bikes.pop(0)\n",
    "print(bikes.pop())\n",
    "print(bikes)\n",
    "print(popped_bike)"
   ]
  },
  {
   "cell_type": "code",
   "execution_count": 4,
   "id": "6e5437c6",
   "metadata": {},
   "outputs": [
    {
     "name": "stdout",
     "output_type": "stream",
     "text": [
      "['honda', 'yamaha', 'suzuki']\n",
      "\n",
      "A ducati is too expensive for me.\n"
     ]
    }
   ],
   "source": [
    "motorcycles = ['honda', 'yamaha', 'suzuki','ducati']\n",
    "too_expensive = 'ducati'\n",
    "motorcycles.remove(too_expensive)\n",
    "print(motorcycles)\n",
    "print(f\"\\nA {too_expensive} is too expensive for me.\")"
   ]
  },
  {
   "cell_type": "markdown",
   "id": "4370a6da",
   "metadata": {},
   "source": [
    "## 3.3 管理列表"
   ]
  },
  {
   "cell_type": "markdown",
   "id": "be8d536f",
   "metadata": {},
   "source": [
    "### 3.3.1 排序"
   ]
  },
  {
   "cell_type": "code",
   "execution_count": 5,
   "id": "b6df81ff",
   "metadata": {},
   "outputs": [
    {
     "name": "stdout",
     "output_type": "stream",
     "text": [
      "[0, 1, 5, 7, 9]\n"
     ]
    }
   ],
   "source": [
    "nums=[9, 1, 5, 7, 0]\n",
    "nums.sort()\n",
    "print(nums)#正序（永久修改列表排序）"
   ]
  },
  {
   "cell_type": "code",
   "execution_count": 1,
   "id": "4238fbc1",
   "metadata": {},
   "outputs": [
    {
     "name": "stdout",
     "output_type": "stream",
     "text": [
      "[9, 7, 5, 1, 0]\n"
     ]
    }
   ],
   "source": [
    "nums=[9, 1, 5, 7, 0]\n",
    "nums.sort(reverse=True)#指定倒序\n",
    "print(nums)"
   ]
  },
  {
   "cell_type": "markdown",
   "id": "a180d98a",
   "metadata": {},
   "source": [
    "### 3.3.2 临时排序"
   ]
  },
  {
   "cell_type": "code",
   "execution_count": 8,
   "id": "d2840321",
   "metadata": {},
   "outputs": [
    {
     "name": "stdout",
     "output_type": "stream",
     "text": [
      "[0, 1, 5, 7, 9]\n"
     ]
    }
   ],
   "source": [
    "nums=[9, 1, 5, 7, 0]\n",
    "print(sorted(nums))"
   ]
  },
  {
   "cell_type": "code",
   "execution_count": 4,
   "id": "ab16223d",
   "metadata": {},
   "outputs": [
    {
     "name": "stdout",
     "output_type": "stream",
     "text": [
      "Here is the original list:\n",
      "[9, 1, 5, 7, 0]\n",
      "\n",
      "Here is the sorted list:\n",
      "[0, 1, 5, 7, 9]\n",
      "\n",
      "Here is the original list again:\n",
      "[9, 1, 5, 7, 0]\n"
     ]
    }
   ],
   "source": [
    "nums=[9, 1, 5, 7, 0]\n",
    "print(\"Here is the original list:\")\n",
    "print(nums)\n",
    "print(\"\\nHere is the sorted list:\")\n",
    "print(sorted(nums))\n",
    "print(\"\\nHere is the original list again:\")\n",
    "print(nums)"
   ]
  },
  {
   "cell_type": "markdown",
   "id": "d52b8191",
   "metadata": {},
   "source": [
    "### 3.3.3 反转"
   ]
  },
  {
   "cell_type": "code",
   "execution_count": 8,
   "id": "461b5e75",
   "metadata": {},
   "outputs": [
    {
     "name": "stdout",
     "output_type": "stream",
     "text": [
      "[0, 7, 5, 1, 9]\n"
     ]
    }
   ],
   "source": [
    "nums=[9, 1, 5, 7, 0]\n",
    "nums.reverse() #（永久修改列表排序）\n",
    "print(nums)"
   ]
  },
  {
   "cell_type": "markdown",
   "id": "d42471bf",
   "metadata": {},
   "source": [
    "### 3.3.4 确定列表长度"
   ]
  },
  {
   "cell_type": "code",
   "execution_count": 9,
   "id": "cf25e5cb",
   "metadata": {},
   "outputs": [
    {
     "name": "stdout",
     "output_type": "stream",
     "text": [
      "4\n"
     ]
    }
   ],
   "source": [
    "cars = ['bmw', 'audi', 'toyota', 'subaru']\n",
    "print(len(cars))"
   ]
  },
  {
   "cell_type": "code",
   "execution_count": 10,
   "id": "9b6eeaae",
   "metadata": {},
   "outputs": [
    {
     "name": "stdout",
     "output_type": "stream",
     "text": [
      "['Japan', 'Korea', 'Xiamen', 'Dali']\n"
     ]
    }
   ],
   "source": [
    "travel_places=['Japan', 'Korea', 'Xiamen', 'Dali']\n",
    "print(travel_places)"
   ]
  },
  {
   "cell_type": "code",
   "execution_count": 14,
   "id": "f9799dc1",
   "metadata": {},
   "outputs": [
    {
     "name": "stdout",
     "output_type": "stream",
     "text": [
      "['Dali', 'Japan', 'Korea', 'Xiamen']\n",
      "['Xiamen', 'Korea', 'Japan', 'Dali']\n",
      "4\n"
     ]
    }
   ],
   "source": [
    "travel_places=['Japan', 'Korea', 'Xiamen', 'Dali']\n",
    "travel_places.sort()\n",
    "print(travel_places)\n",
    "travel_places.sort(reverse=True)\n",
    "print(travel_places)\n",
    "print(len(travel_places))"
   ]
  },
  {
   "cell_type": "markdown",
   "id": "fe8ebb3b",
   "metadata": {},
   "source": [
    "## 练习"
   ]
  },
  {
   "cell_type": "code",
   "execution_count": 5,
   "id": "a7902d96",
   "metadata": {},
   "outputs": [
    {
     "name": "stdout",
     "output_type": "stream",
     "text": [
      "['Amy', 'John', 'Dacy', 'Tracy', 'Tom']\n"
     ]
    }
   ],
   "source": [
    "# 练习3.1\n",
    "names=['Amy','John','Dacy','Tracy','Tom']\n",
    "print(names)"
   ]
  },
  {
   "cell_type": "code",
   "execution_count": 6,
   "id": "5b3b71c1",
   "metadata": {},
   "outputs": [
    {
     "name": "stdout",
     "output_type": "stream",
     "text": [
      "Hello Amy, how are you?\n",
      "Hello John, how are you?\n",
      "Hello Dacy, how are you?\n",
      "Hello Tracy, how are you?\n",
      "Hello Tom, how are you?\n"
     ]
    }
   ],
   "source": [
    "# 练习3.2\n",
    "names=['Amy','John','Dacy','Tracy','Tom']\n",
    "print(f'Hello {names[0]}, how are you?')\n",
    "print(f'Hello {names[1]}, how are you?')\n",
    "print(f'Hello {names[2]}, how are you?')\n",
    "print(f'Hello {names[3]}, how are you?')\n",
    "print(f'Hello {names[4]}, how are you?')"
   ]
  },
  {
   "cell_type": "code",
   "execution_count": 7,
   "id": "0ac57073",
   "metadata": {},
   "outputs": [
    {
     "name": "stdout",
     "output_type": "stream",
     "text": [
      "I would like to own a Honda.\n"
     ]
    }
   ],
   "source": [
    "# 练习3.3\n",
    "motorcycles = ['honda', 'yamaha', 'suzuki']\n",
    "print(f'I would like to own a {motorcycles[0].title()}.')"
   ]
  },
  {
   "cell_type": "code",
   "execution_count": 8,
   "id": "07c44b7e",
   "metadata": {},
   "outputs": [
    {
     "name": "stdout",
     "output_type": "stream",
     "text": [
      "I would like to invite ['Jack Ma', 'William Li', 'Tim Cook'].\n"
     ]
    }
   ],
   "source": [
    "# 练习3.4\n",
    "guests=['Jack Ma','William Li','Tim Cook']\n",
    "print(f'I would like to invite {guests}.')"
   ]
  },
  {
   "cell_type": "code",
   "execution_count": 19,
   "id": "95bfb88b",
   "metadata": {},
   "outputs": [
    {
     "name": "stdout",
     "output_type": "stream",
     "text": [
      "I would like to invite ['Jack Ma', 'William Li', 'Tim Cook']. But William Li is unable to come.\n",
      "So I would like to invite ['Jack Ma', 'Tim Cook', 'Bill Gates'].\n"
     ]
    }
   ],
   "source": [
    "# 练习3.5\n",
    "guests=['Jack Ma','William Li','Tim Cook']\n",
    "print(f'I would like to invite {guests}. But {guests[1]} is unable to come.')\n",
    "del guests[1]\n",
    "guests.append('Bill Gates')\n",
    "print(f'So I would like to invite {guests}.')"
   ]
  },
  {
   "cell_type": "code",
   "execution_count": 25,
   "id": "8da6767b",
   "metadata": {},
   "outputs": [
    {
     "name": "stdout",
     "output_type": "stream",
     "text": [
      "['Bill Gates', 'Jack Ma', 'David', 'William Li', 'Tim Cook', 'Musk']\n",
      "\n",
      "Hello Bill Gates, I would like to invite you to join my party.\n",
      "\n",
      "Hello Jack Ma, I would like to invite you to join my party.\n",
      "\n",
      "Hello David, I would like to invite you to join my party.\n",
      "\n",
      "Hello William Li, I would like to invite you to join my party.\n",
      "\n",
      "Hello Tim Cook, I would like to invite you to join my party.\n",
      "\n",
      "Hello Musk, I would like to invite you to join my party.\n"
     ]
    }
   ],
   "source": [
    "# 练习3.6\n",
    "guests=['Jack Ma','William Li','Tim Cook']\n",
    "guests.insert(0,'Bill Gates')\n",
    "guests.insert(2,'David')\n",
    "guests.append('Musk')\n",
    "print(guests)\n",
    "for guest in guests:\n",
    "    print(f'\\nHello {guest}, I would like to invite you to join my party.')"
   ]
  },
  {
   "cell_type": "code",
   "execution_count": 39,
   "id": "184f5454",
   "metadata": {},
   "outputs": [
    {
     "name": "stdout",
     "output_type": "stream",
     "text": [
      "I would like to invite ['Bill Gates', 'Jack Ma', 'David', 'William Li', 'Tim Cook', 'Musk'] to join my party. \n",
      "But my house is so small that I can only have two guests.\n",
      "\n",
      "Sorry Bill Gates, see you next time!\n",
      "\n",
      "Sorry Jack Ma, see you next time!\n",
      "\n",
      "Sorry David, see you next time!\n",
      "\n",
      "Sorry William Li, see you next time!\n",
      "\n",
      "This is all my guests: ['Tim Cook', 'Musk'].\n",
      "\n",
      "Hello Tim Cook, I would like to invite you to join my party.\n",
      "\n",
      "Hello Musk, I would like to invite you to join my party.\n",
      "[]\n"
     ]
    }
   ],
   "source": [
    "# 练习3.7\n",
    "guests=['Bill Gates', 'Jack Ma', 'David', 'William Li', 'Tim Cook', 'Musk']\n",
    "print(f'I would like to invite {guests} to join my party. \\nBut my house is so small that I can only have two guests.')\n",
    "not_come=guests.pop(0)\n",
    "print(f'\\nSorry {not_come}, see you next time!')\n",
    "not_come=guests.pop(0)\n",
    "print(f'\\nSorry {not_come}, see you next time!')\n",
    "not_come=guests.pop(0)\n",
    "print(f'\\nSorry {not_come}, see you next time!')\n",
    "not_come=guests.pop(0)\n",
    "print(f'\\nSorry {not_come}, see you next time!')\n",
    "print(f'\\nThis is all my guests: {guests}.')\n",
    "for guest in guests:\n",
    "    print(f'\\nHello {guest}, I would like to invite you to join my party.')\n",
    "del guests[0]\n",
    "del guests[0]\n",
    "print(guests)"
   ]
  },
  {
   "cell_type": "code",
   "execution_count": 43,
   "id": "927ec2d9",
   "metadata": {},
   "outputs": [
    {
     "name": "stdout",
     "output_type": "stream",
     "text": [
      "['Japan', 'Korea', 'Xiamen', 'Dali', 'Switzerland']\n",
      "['Dali', 'Japan', 'Korea', 'Switzerland', 'Xiamen']\n",
      "['Japan', 'Korea', 'Xiamen', 'Dali', 'Switzerland']\n",
      "['Dali', 'Japan', 'Korea', 'Switzerland', 'Xiamen']\n",
      "['Xiamen', 'Switzerland', 'Korea', 'Japan', 'Dali']\n",
      "5\n"
     ]
    }
   ],
   "source": [
    "# 练习3.8\n",
    "travel_places=['Japan', 'Korea', 'Xiamen', 'Dali', 'Switzerland']\n",
    "print(travel_places)\n",
    "print(sorted(travel_places))\n",
    "print(travel_places)\n",
    "travel_places.sort()\n",
    "print(travel_places)\n",
    "travel_places.sort(reverse=True)\n",
    "print(travel_places)\n",
    "print(len(travel_places))"
   ]
  },
  {
   "cell_type": "code",
   "execution_count": 44,
   "id": "49e60b8a",
   "metadata": {},
   "outputs": [
    {
     "name": "stdout",
     "output_type": "stream",
     "text": [
      "I'm going to invite 6 guests for my party.\n"
     ]
    }
   ],
   "source": [
    "# 练习3.9\n",
    "guests=['Bill Gates', 'Jack Ma', 'David', 'William Li', 'Tim Cook', 'Musk']\n",
    "print(f\"I'm going to invite {len(guests)} guests for my party.\")"
   ]
  }
 ],
 "metadata": {
  "kernelspec": {
   "display_name": "Python 3 (ipykernel)",
   "language": "python",
   "name": "python3"
  },
  "language_info": {
   "codemirror_mode": {
    "name": "ipython",
    "version": 3
   },
   "file_extension": ".py",
   "mimetype": "text/x-python",
   "name": "python",
   "nbconvert_exporter": "python",
   "pygments_lexer": "ipython3",
   "version": "3.11.5"
  }
 },
 "nbformat": 4,
 "nbformat_minor": 5
}
