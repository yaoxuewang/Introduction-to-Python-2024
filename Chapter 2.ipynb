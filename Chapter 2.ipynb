{
 "cells": [
  {
   "cell_type": "markdown",
   "id": "0bf50231",
   "metadata": {},
   "source": [
    "# 第2章 变量与简单的数据类型"
   ]
  },
  {
   "cell_type": "code",
   "execution_count": 45,
   "id": "470c7883",
   "metadata": {},
   "outputs": [],
   "source": [
    "# 向大家问好\n",
    "msg=\"Hello Python World!\""
   ]
  },
  {
   "cell_type": "code",
   "execution_count": 2,
   "id": "57e4ed76",
   "metadata": {},
   "outputs": [
    {
     "name": "stdout",
     "output_type": "stream",
     "text": [
      "Hello Python World!\n"
     ]
    }
   ],
   "source": [
    "print(msg)"
   ]
  },
  {
   "cell_type": "code",
   "execution_count": 3,
   "id": "df971535",
   "metadata": {},
   "outputs": [],
   "source": [
    "msg=\"Hello Python World!\""
   ]
  },
  {
   "cell_type": "code",
   "execution_count": 4,
   "id": "2b821b51",
   "metadata": {},
   "outputs": [
    {
     "name": "stdout",
     "output_type": "stream",
     "text": [
      "HELLO PYTHON WORLD!\n"
     ]
    }
   ],
   "source": [
    "print(msg.upper())"
   ]
  },
  {
   "cell_type": "code",
   "execution_count": 14,
   "id": "5c550f49",
   "metadata": {},
   "outputs": [
    {
     "name": "stdout",
     "output_type": "stream",
     "text": [
      "adalovelace\n"
     ]
    }
   ],
   "source": [
    "first_name=\"ada\"\n",
    "last_name=\"lovelace\"\n",
    "full_name=f\"{first_name}{last_name}\"\n",
    "print(full_name)"
   ]
  },
  {
   "cell_type": "code",
   "execution_count": 16,
   "id": "87d93450",
   "metadata": {},
   "outputs": [
    {
     "name": "stdout",
     "output_type": "stream",
     "text": [
      "Python\n",
      "\tPython\n"
     ]
    }
   ],
   "source": [
    "print(\"Python\")\n",
    "print(\"\\tPython\")"
   ]
  },
  {
   "cell_type": "code",
   "execution_count": 17,
   "id": "a11951ca",
   "metadata": {},
   "outputs": [
    {
     "name": "stdout",
     "output_type": "stream",
     "text": [
      "Languages:\n",
      "Pyhton\n",
      "C\n",
      "Java\n"
     ]
    }
   ],
   "source": [
    "print(\"Languages:\\nPyhton\\nC\\nJava\")"
   ]
  },
  {
   "cell_type": "code",
   "execution_count": 19,
   "id": "21a8a593",
   "metadata": {},
   "outputs": [
    {
     "name": "stdout",
     "output_type": "stream",
     "text": [
      "Languages:\n",
      "\tPyhton\n",
      "\tC\n",
      "\tJava\n"
     ]
    }
   ],
   "source": [
    "print(\"Languages:\\n\\tPyhton\\n\\tC\\n\\tJava\")"
   ]
  },
  {
   "cell_type": "code",
   "execution_count": 20,
   "id": "92607d69",
   "metadata": {},
   "outputs": [
    {
     "name": "stdout",
     "output_type": "stream",
     "text": [
      "Life's pathetic. Let's pathetic.\n"
     ]
    }
   ],
   "source": [
    "msg=\"Life's pathetic. Let's pathetic.\"\n",
    "print(msg)"
   ]
  },
  {
   "cell_type": "code",
   "execution_count": 24,
   "id": "51c6c28d",
   "metadata": {},
   "outputs": [
    {
     "name": "stdout",
     "output_type": "stream",
     "text": [
      "Life's pathetic. Let's pathetic.\n"
     ]
    }
   ],
   "source": [
    "msg='Life\\'s pathetic. Let\\'s pathetic.'\n",
    "print(msg)"
   ]
  },
  {
   "cell_type": "code",
   "execution_count": 25,
   "id": "8e283680",
   "metadata": {},
   "outputs": [
    {
     "data": {
      "text/plain": [
       "'HelloiTuring'"
      ]
     },
     "execution_count": 25,
     "metadata": {},
     "output_type": "execute_result"
    }
   ],
   "source": [
    "\"Hello\"+\"iTuring\""
   ]
  },
  {
   "cell_type": "code",
   "execution_count": 26,
   "id": "d196344c",
   "metadata": {},
   "outputs": [
    {
     "data": {
      "text/plain": [
       "'Hello iTuring'"
      ]
     },
     "execution_count": 26,
     "metadata": {},
     "output_type": "execute_result"
    }
   ],
   "source": [
    "\"Hello\"+\" iTuring\""
   ]
  },
  {
   "cell_type": "code",
   "execution_count": 29,
   "id": "9ee8e802",
   "metadata": {},
   "outputs": [
    {
     "data": {
      "text/plain": [
       "'Hello Hello '"
      ]
     },
     "execution_count": 29,
     "metadata": {},
     "output_type": "execute_result"
    }
   ],
   "source": [
    "\"Hello \"*2"
   ]
  },
  {
   "cell_type": "code",
   "execution_count": 30,
   "id": "a18cc460",
   "metadata": {},
   "outputs": [
    {
     "name": "stdout",
     "output_type": "stream",
     "text": [
      "4\n",
      "15\n",
      "4\n"
     ]
    }
   ],
   "source": [
    "print(2+2)\n",
    "print(10+5)\n",
    "print(4+0)"
   ]
  },
  {
   "cell_type": "code",
   "execution_count": 31,
   "id": "c0facef1",
   "metadata": {},
   "outputs": [
    {
     "name": "stdout",
     "output_type": "stream",
     "text": [
      "0\n",
      "5\n",
      "4\n"
     ]
    }
   ],
   "source": [
    "print(2-2)\n",
    "print(10-5)\n",
    "print(4-0)"
   ]
  },
  {
   "cell_type": "code",
   "execution_count": 32,
   "id": "7090b819",
   "metadata": {},
   "outputs": [
    {
     "name": "stdout",
     "output_type": "stream",
     "text": [
      "4\n",
      "50\n",
      "0\n"
     ]
    }
   ],
   "source": [
    "print(2*2)\n",
    "print(10*5)\n",
    "print(4*0)"
   ]
  },
  {
   "cell_type": "code",
   "execution_count": 33,
   "id": "68a7f63b",
   "metadata": {},
   "outputs": [
    {
     "name": "stdout",
     "output_type": "stream",
     "text": [
      "1.0\n",
      "2.0\n",
      "4.0\n"
     ]
    }
   ],
   "source": [
    "print(2/2)\n",
    "print(10/5)\n",
    "print(4/1)"
   ]
  },
  {
   "cell_type": "code",
   "execution_count": 35,
   "id": "32ba14f5",
   "metadata": {},
   "outputs": [
    {
     "name": "stdout",
     "output_type": "stream",
     "text": [
      "4\n",
      "100000\n",
      "64\n"
     ]
    }
   ],
   "source": [
    "print(2**2)\n",
    "print(10**5)\n",
    "print(4**3)"
   ]
  },
  {
   "cell_type": "code",
   "execution_count": 37,
   "id": "a7b17213",
   "metadata": {},
   "outputs": [
    {
     "name": "stdout",
     "output_type": "stream",
     "text": [
      "3\n",
      "1\n",
      "4\n"
     ]
    }
   ],
   "source": [
    "print(7//2)\n",
    "print(8//5)\n",
    "print(4//1)"
   ]
  },
  {
   "cell_type": "code",
   "execution_count": 38,
   "id": "1451d5a6",
   "metadata": {},
   "outputs": [
    {
     "data": {
      "text/plain": [
       "True"
      ]
     },
     "execution_count": 38,
     "metadata": {},
     "output_type": "execute_result"
    }
   ],
   "source": [
    "True==1"
   ]
  },
  {
   "cell_type": "code",
   "execution_count": 39,
   "id": "c6691698",
   "metadata": {},
   "outputs": [
    {
     "data": {
      "text/plain": [
       "True"
      ]
     },
     "execution_count": 39,
     "metadata": {},
     "output_type": "execute_result"
    }
   ],
   "source": [
    "False==0"
   ]
  },
  {
   "cell_type": "code",
   "execution_count": 40,
   "id": "f9f9a1fe",
   "metadata": {},
   "outputs": [
    {
     "data": {
      "text/plain": [
       "False"
      ]
     },
     "execution_count": 40,
     "metadata": {},
     "output_type": "execute_result"
    }
   ],
   "source": [
    "1==0"
   ]
  },
  {
   "cell_type": "code",
   "execution_count": 41,
   "id": "31aad366",
   "metadata": {},
   "outputs": [
    {
     "data": {
      "text/plain": [
       "3"
      ]
     },
     "execution_count": 41,
     "metadata": {},
     "output_type": "execute_result"
    }
   ],
   "source": [
    "x,y,z=3,2,1\n",
    "x"
   ]
  },
  {
   "cell_type": "code",
   "execution_count": 42,
   "id": "96ac9d75",
   "metadata": {},
   "outputs": [
    {
     "data": {
      "text/plain": [
       "2"
      ]
     },
     "execution_count": 42,
     "metadata": {},
     "output_type": "execute_result"
    }
   ],
   "source": [
    "y"
   ]
  },
  {
   "cell_type": "code",
   "execution_count": 43,
   "id": "d9e10947",
   "metadata": {},
   "outputs": [
    {
     "data": {
      "text/plain": [
       "5"
      ]
     },
     "execution_count": 43,
     "metadata": {},
     "output_type": "execute_result"
    }
   ],
   "source": [
    "x+y"
   ]
  },
  {
   "cell_type": "code",
   "execution_count": 44,
   "id": "8843feb2",
   "metadata": {},
   "outputs": [],
   "source": [
    "MAX_CONNECTION=5000"
   ]
  },
  {
   "cell_type": "code",
   "execution_count": 46,
   "id": "3f608746",
   "metadata": {},
   "outputs": [
    {
     "name": "stdout",
     "output_type": "stream",
     "text": [
      "The Zen of Python, by Tim Peters\n",
      "\n",
      "Beautiful is better than ugly.\n",
      "Explicit is better than implicit.\n",
      "Simple is better than complex.\n",
      "Complex is better than complicated.\n",
      "Flat is better than nested.\n",
      "Sparse is better than dense.\n",
      "Readability counts.\n",
      "Special cases aren't special enough to break the rules.\n",
      "Although practicality beats purity.\n",
      "Errors should never pass silently.\n",
      "Unless explicitly silenced.\n",
      "In the face of ambiguity, refuse the temptation to guess.\n",
      "There should be one-- and preferably only one --obvious way to do it.\n",
      "Although that way may not be obvious at first unless you're Dutch.\n",
      "Now is better than never.\n",
      "Although never is often better than *right* now.\n",
      "If the implementation is hard to explain, it's a bad idea.\n",
      "If the implementation is easy to explain, it may be a good idea.\n",
      "Namespaces are one honking great idea -- let's do more of those!\n"
     ]
    }
   ],
   "source": [
    "import this"
   ]
  }
 ],
 "metadata": {
  "kernelspec": {
   "display_name": "Python 3 (ipykernel)",
   "language": "python",
   "name": "python3"
  },
  "language_info": {
   "codemirror_mode": {
    "name": "ipython",
    "version": 3
   },
   "file_extension": ".py",
   "mimetype": "text/x-python",
   "name": "python",
   "nbconvert_exporter": "python",
   "pygments_lexer": "ipython3",
   "version": "3.11.5"
  }
 },
 "nbformat": 4,
 "nbformat_minor": 5
}
