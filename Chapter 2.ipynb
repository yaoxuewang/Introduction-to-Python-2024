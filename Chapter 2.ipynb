{
 "cells": [
  {
   "cell_type": "markdown",
   "id": "0bf50231",
   "metadata": {},
   "source": [
    "# 第2章 变量与简单的数据类型"
   ]
  },
  {
   "cell_type": "markdown",
   "id": "e49f7d20",
   "metadata": {},
   "source": [
    "## 2.2 变量"
   ]
  },
  {
   "cell_type": "code",
   "execution_count": 1,
   "id": "470c7883",
   "metadata": {},
   "outputs": [
    {
     "name": "stdout",
     "output_type": "stream",
     "text": [
      "Hello Python World!\n"
     ]
    }
   ],
   "source": [
    "# 向大家问好\n",
    "msg=\"Hello Python World!\"\n",
    "print(msg)"
   ]
  },
  {
   "cell_type": "code",
   "execution_count": 4,
   "id": "c5bcc009",
   "metadata": {},
   "outputs": [
    {
     "name": "stdout",
     "output_type": "stream",
     "text": [
      "Hello Python World!\n",
      "Hello Python Crash Course World!\n"
     ]
    }
   ],
   "source": [
    "msg=\"Hello Python World!\"\n",
    "print(msg)\n",
    "msg=\"Hello Python Crash Course World!\"\n",
    "print(msg)"
   ]
  },
  {
   "cell_type": "markdown",
   "id": "444b2d2c",
   "metadata": {},
   "source": [
    "## 2.3 字符串"
   ]
  },
  {
   "cell_type": "markdown",
   "id": "84bdd743",
   "metadata": {},
   "source": [
    "### 2.3.1 字符串：大小写修改"
   ]
  },
  {
   "cell_type": "code",
   "execution_count": 6,
   "id": "df971535",
   "metadata": {},
   "outputs": [
    {
     "name": "stdout",
     "output_type": "stream",
     "text": [
      "ADA LOVELACE\n"
     ]
    }
   ],
   "source": [
    "msg=\"ada lovelace\"\n",
    "print(msg.upper())"
   ]
  },
  {
   "cell_type": "code",
   "execution_count": 7,
   "id": "565302ad",
   "metadata": {},
   "outputs": [
    {
     "name": "stdout",
     "output_type": "stream",
     "text": [
      "Ada Lovelace\n"
     ]
    }
   ],
   "source": [
    "msg=\"ada lovelace\"\n",
    "print(msg.title())"
   ]
  },
  {
   "cell_type": "code",
   "execution_count": 8,
   "id": "7b90fdc0",
   "metadata": {},
   "outputs": [
    {
     "name": "stdout",
     "output_type": "stream",
     "text": [
      "ada lovelace\n"
     ]
    }
   ],
   "source": [
    "msg=\"ada lovelace\"\n",
    "print(msg.lower())"
   ]
  },
  {
   "cell_type": "markdown",
   "id": "bf927e4a",
   "metadata": {},
   "source": [
    "### 2.3.2 字符串：F-字符串"
   ]
  },
  {
   "cell_type": "code",
   "execution_count": 14,
   "id": "5c550f49",
   "metadata": {},
   "outputs": [
    {
     "name": "stdout",
     "output_type": "stream",
     "text": [
      "adalovelace\n"
     ]
    }
   ],
   "source": [
    "first_name=\"ada\"\n",
    "last_name=\"lovelace\"\n",
    "full_name=f\"{first_name}{last_name}\"\n",
    "print(full_name)"
   ]
  },
  {
   "cell_type": "code",
   "execution_count": 12,
   "id": "6ea7a181",
   "metadata": {},
   "outputs": [
    {
     "name": "stdout",
     "output_type": "stream",
     "text": [
      "Hello, Ada Lovelace!\n"
     ]
    }
   ],
   "source": [
    "first_name=\"ada\"\n",
    "last_name=\"lovelace\"\n",
    "full_name=f\"{first_name} {last_name}\"\n",
    "print(f\"Hello, {full_name.title()}!\")"
   ]
  },
  {
   "cell_type": "code",
   "execution_count": 15,
   "id": "edbf663b",
   "metadata": {},
   "outputs": [
    {
     "name": "stdout",
     "output_type": "stream",
     "text": [
      "Hello, Ada Lovelace!\n"
     ]
    }
   ],
   "source": [
    "first_name=\"ada\"\n",
    "last_name=\"lovelace\"\n",
    "full_name=f\"{first_name} {last_name}\"\n",
    "msg=f\"Hello, {full_name.title()}!\"\n",
    "print(msg)"
   ]
  },
  {
   "cell_type": "markdown",
   "id": "7be18114",
   "metadata": {},
   "source": [
    "### 2.3.3 字符串：添加空白"
   ]
  },
  {
   "cell_type": "code",
   "execution_count": 16,
   "id": "87d93450",
   "metadata": {},
   "outputs": [
    {
     "name": "stdout",
     "output_type": "stream",
     "text": [
      "Python\n",
      "\tPython\n"
     ]
    }
   ],
   "source": [
    "print(\"Python\")\n",
    "print(\"\\tPython\")#制表符"
   ]
  },
  {
   "cell_type": "code",
   "execution_count": 17,
   "id": "a11951ca",
   "metadata": {},
   "outputs": [
    {
     "name": "stdout",
     "output_type": "stream",
     "text": [
      "Languages:\n",
      "Pyhton\n",
      "C\n",
      "Java\n"
     ]
    }
   ],
   "source": [
    "print(\"Languages:\\nPyhton\\nC\\nJava\")#换行符"
   ]
  },
  {
   "cell_type": "code",
   "execution_count": 19,
   "id": "21a8a593",
   "metadata": {},
   "outputs": [
    {
     "name": "stdout",
     "output_type": "stream",
     "text": [
      "Languages:\n",
      "\tPyhton\n",
      "\tC\n",
      "\tJava\n"
     ]
    }
   ],
   "source": [
    "print(\"Languages:\\n\\tPyhton\\n\\tC\\n\\tJava\")"
   ]
  },
  {
   "cell_type": "markdown",
   "id": "5fa5d11e",
   "metadata": {},
   "source": [
    "### 2.3.4 字符串：删除空白"
   ]
  },
  {
   "cell_type": "code",
   "execution_count": 18,
   "id": "3f3e77cc",
   "metadata": {},
   "outputs": [
    {
     "data": {
      "text/plain": [
       "'iTuring'"
      ]
     },
     "execution_count": 18,
     "metadata": {},
     "output_type": "execute_result"
    }
   ],
   "source": [
    "\" iTuring\".lstrip()#删除左边空白"
   ]
  },
  {
   "cell_type": "code",
   "execution_count": 19,
   "id": "a23fb798",
   "metadata": {},
   "outputs": [
    {
     "data": {
      "text/plain": [
       "'iTuring'"
      ]
     },
     "execution_count": 19,
     "metadata": {},
     "output_type": "execute_result"
    }
   ],
   "source": [
    "\"iTuring \".rstrip()#删除右边空白"
   ]
  },
  {
   "cell_type": "code",
   "execution_count": 20,
   "id": "4f9271d7",
   "metadata": {},
   "outputs": [
    {
     "data": {
      "text/plain": [
       "'iTuring'"
      ]
     },
     "execution_count": 20,
     "metadata": {},
     "output_type": "execute_result"
    }
   ],
   "source": [
    "\" iTuring \".strip()#删除两端空白"
   ]
  },
  {
   "cell_type": "markdown",
   "id": "e62ca1aa",
   "metadata": {},
   "source": [
    "### 2.3.5 字符串：删除前缀"
   ]
  },
  {
   "cell_type": "code",
   "execution_count": 22,
   "id": "fe824060",
   "metadata": {},
   "outputs": [
    {
     "name": "stdout",
     "output_type": "stream",
     "text": [
      "www.ituring.com.cn\n"
     ]
    }
   ],
   "source": [
    "url=\"https://www.ituring.com.cn\"\n",
    "url=url.removeprefix(\"https://\")\n",
    "print(url)"
   ]
  },
  {
   "cell_type": "markdown",
   "id": "dd1bb2e9",
   "metadata": {},
   "source": [
    "### 2.3.6 字符串：避免语法错误"
   ]
  },
  {
   "cell_type": "code",
   "execution_count": 20,
   "id": "92607d69",
   "metadata": {},
   "outputs": [
    {
     "name": "stdout",
     "output_type": "stream",
     "text": [
      "Life's pathetic. Let's pathetic.\n"
     ]
    }
   ],
   "source": [
    "msg=\"Life's pathetic. Let's pathetic.\"\n",
    "print(msg)"
   ]
  },
  {
   "cell_type": "code",
   "execution_count": 24,
   "id": "51c6c28d",
   "metadata": {},
   "outputs": [
    {
     "name": "stdout",
     "output_type": "stream",
     "text": [
      "Life's pathetic. Let's pathetic.\n"
     ]
    }
   ],
   "source": [
    "msg='Life\\'s pathetic. Let\\'s pathetic.'\n",
    "print(msg)"
   ]
  },
  {
   "cell_type": "code",
   "execution_count": 25,
   "id": "8e283680",
   "metadata": {},
   "outputs": [
    {
     "data": {
      "text/plain": [
       "'HelloiTuring'"
      ]
     },
     "execution_count": 25,
     "metadata": {},
     "output_type": "execute_result"
    }
   ],
   "source": [
    "# 字符串的简单拼接\n",
    "\"Hello\"+\"iTuring\""
   ]
  },
  {
   "cell_type": "code",
   "execution_count": 23,
   "id": "d196344c",
   "metadata": {},
   "outputs": [
    {
     "data": {
      "text/plain": [
       "'Hello iTuring'"
      ]
     },
     "execution_count": 23,
     "metadata": {},
     "output_type": "execute_result"
    }
   ],
   "source": [
    "\"Hello\"+\" iTuring\""
   ]
  },
  {
   "cell_type": "markdown",
   "id": "82dddb68",
   "metadata": {},
   "source": [
    "## 2.4 数"
   ]
  },
  {
   "cell_type": "markdown",
   "id": "5b9c4845",
   "metadata": {},
   "source": [
    "### 2.4.1 整数"
   ]
  },
  {
   "cell_type": "code",
   "execution_count": 29,
   "id": "9ee8e802",
   "metadata": {},
   "outputs": [
    {
     "data": {
      "text/plain": [
       "'Hello Hello '"
      ]
     },
     "execution_count": 29,
     "metadata": {},
     "output_type": "execute_result"
    }
   ],
   "source": [
    "\"Hello \"*2"
   ]
  },
  {
   "cell_type": "code",
   "execution_count": 30,
   "id": "a18cc460",
   "metadata": {},
   "outputs": [
    {
     "name": "stdout",
     "output_type": "stream",
     "text": [
      "4\n",
      "15\n",
      "4\n"
     ]
    }
   ],
   "source": [
    "print(2+2)\n",
    "print(10+5)\n",
    "print(4+0)"
   ]
  },
  {
   "cell_type": "code",
   "execution_count": 31,
   "id": "c0facef1",
   "metadata": {},
   "outputs": [
    {
     "name": "stdout",
     "output_type": "stream",
     "text": [
      "0\n",
      "5\n",
      "4\n"
     ]
    }
   ],
   "source": [
    "print(2-2)\n",
    "print(10-5)\n",
    "print(4-0)"
   ]
  },
  {
   "cell_type": "code",
   "execution_count": 32,
   "id": "7090b819",
   "metadata": {},
   "outputs": [
    {
     "name": "stdout",
     "output_type": "stream",
     "text": [
      "4\n",
      "50\n",
      "0\n"
     ]
    }
   ],
   "source": [
    "print(2*2)\n",
    "print(10*5)\n",
    "print(4*0)"
   ]
  },
  {
   "cell_type": "markdown",
   "id": "583e1a03",
   "metadata": {},
   "source": [
    "### 2.4.2 浮点数"
   ]
  },
  {
   "cell_type": "code",
   "execution_count": 24,
   "id": "be481956",
   "metadata": {},
   "outputs": [
    {
     "name": "stdout",
     "output_type": "stream",
     "text": [
      "0.18000000000000002\n",
      "3.6\n",
      "0.6\n"
     ]
    }
   ],
   "source": [
    "print(0.2-0.02)\n",
    "print(3.10+0.5)\n",
    "print(2*0.3)"
   ]
  },
  {
   "cell_type": "code",
   "execution_count": 33,
   "id": "68a7f63b",
   "metadata": {},
   "outputs": [
    {
     "name": "stdout",
     "output_type": "stream",
     "text": [
      "1.0\n",
      "2.0\n",
      "4.0\n"
     ]
    }
   ],
   "source": [
    "print(2/2)\n",
    "print(10/5)\n",
    "print(4/1)"
   ]
  },
  {
   "cell_type": "code",
   "execution_count": 35,
   "id": "32ba14f5",
   "metadata": {},
   "outputs": [
    {
     "name": "stdout",
     "output_type": "stream",
     "text": [
      "4\n",
      "100000\n",
      "64\n"
     ]
    }
   ],
   "source": [
    "print(2**2)\n",
    "print(10**5)\n",
    "print(4**3)"
   ]
  },
  {
   "cell_type": "code",
   "execution_count": 37,
   "id": "a7b17213",
   "metadata": {},
   "outputs": [
    {
     "name": "stdout",
     "output_type": "stream",
     "text": [
      "3\n",
      "1\n",
      "4\n"
     ]
    }
   ],
   "source": [
    "print(7//2)\n",
    "print(8//5)\n",
    "print(4//1)"
   ]
  },
  {
   "cell_type": "markdown",
   "id": "c8fed569",
   "metadata": {},
   "source": [
    "### 2.4.3 布尔值"
   ]
  },
  {
   "cell_type": "code",
   "execution_count": 38,
   "id": "1451d5a6",
   "metadata": {},
   "outputs": [
    {
     "data": {
      "text/plain": [
       "True"
      ]
     },
     "execution_count": 38,
     "metadata": {},
     "output_type": "execute_result"
    }
   ],
   "source": [
    "True==1"
   ]
  },
  {
   "cell_type": "code",
   "execution_count": 39,
   "id": "c6691698",
   "metadata": {},
   "outputs": [
    {
     "data": {
      "text/plain": [
       "True"
      ]
     },
     "execution_count": 39,
     "metadata": {},
     "output_type": "execute_result"
    }
   ],
   "source": [
    "False==0"
   ]
  },
  {
   "cell_type": "code",
   "execution_count": 40,
   "id": "f9f9a1fe",
   "metadata": {},
   "outputs": [
    {
     "data": {
      "text/plain": [
       "False"
      ]
     },
     "execution_count": 40,
     "metadata": {},
     "output_type": "execute_result"
    }
   ],
   "source": [
    "1==0"
   ]
  },
  {
   "cell_type": "markdown",
   "id": "c0f030f3",
   "metadata": {},
   "source": [
    "### 2.4.4 给多个变量赋值"
   ]
  },
  {
   "cell_type": "code",
   "execution_count": 41,
   "id": "31aad366",
   "metadata": {},
   "outputs": [
    {
     "data": {
      "text/plain": [
       "3"
      ]
     },
     "execution_count": 41,
     "metadata": {},
     "output_type": "execute_result"
    }
   ],
   "source": [
    "x,y,z=3,2,1\n",
    "x"
   ]
  },
  {
   "cell_type": "code",
   "execution_count": 42,
   "id": "96ac9d75",
   "metadata": {},
   "outputs": [
    {
     "data": {
      "text/plain": [
       "2"
      ]
     },
     "execution_count": 42,
     "metadata": {},
     "output_type": "execute_result"
    }
   ],
   "source": [
    "y"
   ]
  },
  {
   "cell_type": "code",
   "execution_count": 43,
   "id": "d9e10947",
   "metadata": {},
   "outputs": [
    {
     "data": {
      "text/plain": [
       "5"
      ]
     },
     "execution_count": 43,
     "metadata": {},
     "output_type": "execute_result"
    }
   ],
   "source": [
    "x+y"
   ]
  },
  {
   "cell_type": "markdown",
   "id": "efffdf24",
   "metadata": {},
   "source": [
    "### 2.4.5 常量"
   ]
  },
  {
   "cell_type": "code",
   "execution_count": 44,
   "id": "8843feb2",
   "metadata": {},
   "outputs": [],
   "source": [
    "MAX_CONNECTION=5000"
   ]
  },
  {
   "cell_type": "markdown",
   "id": "0d82f0e1",
   "metadata": {},
   "source": [
    "## 2.5 Python之禅"
   ]
  },
  {
   "cell_type": "code",
   "execution_count": 46,
   "id": "3f608746",
   "metadata": {},
   "outputs": [
    {
     "name": "stdout",
     "output_type": "stream",
     "text": [
      "The Zen of Python, by Tim Peters\n",
      "\n",
      "Beautiful is better than ugly.\n",
      "Explicit is better than implicit.\n",
      "Simple is better than complex.\n",
      "Complex is better than complicated.\n",
      "Flat is better than nested.\n",
      "Sparse is better than dense.\n",
      "Readability counts.\n",
      "Special cases aren't special enough to break the rules.\n",
      "Although practicality beats purity.\n",
      "Errors should never pass silently.\n",
      "Unless explicitly silenced.\n",
      "In the face of ambiguity, refuse the temptation to guess.\n",
      "There should be one-- and preferably only one --obvious way to do it.\n",
      "Although that way may not be obvious at first unless you're Dutch.\n",
      "Now is better than never.\n",
      "Although never is often better than *right* now.\n",
      "If the implementation is hard to explain, it's a bad idea.\n",
      "If the implementation is easy to explain, it may be a good idea.\n",
      "Namespaces are one honking great idea -- let's do more of those!\n"
     ]
    }
   ],
   "source": [
    "import this"
   ]
  },
  {
   "cell_type": "markdown",
   "id": "6782dc61",
   "metadata": {},
   "source": [
    "## 练习"
   ]
  },
  {
   "cell_type": "code",
   "execution_count": 3,
   "id": "9854e9a3",
   "metadata": {},
   "outputs": [
    {
     "name": "stdout",
     "output_type": "stream",
     "text": [
      "Hello Amy, would you like to learn some Python today?\n"
     ]
    }
   ],
   "source": [
    "# 练习2.3\n",
    "classmate_name='amy'\n",
    "print(f'Hello {classmate_name.title()}, would you like to learn some Python today?')"
   ]
  },
  {
   "cell_type": "code",
   "execution_count": 6,
   "id": "6a724f1e",
   "metadata": {},
   "outputs": [
    {
     "name": "stdout",
     "output_type": "stream",
     "text": [
      "Wang Yaoxue\n",
      "wang yaoxue\n",
      "WANG YAOXUE\n"
     ]
    }
   ],
   "source": [
    "# 练习2.4\n",
    "first_name='wang'\n",
    "last_name='yaoxue'\n",
    "full_name=f'{first_name} {last_name}'\n",
    "print(full_name.title())\n",
    "print(full_name.lower())\n",
    "print(full_name.upper())"
   ]
  },
  {
   "cell_type": "code",
   "execution_count": 9,
   "id": "cd578c7d",
   "metadata": {},
   "outputs": [
    {
     "name": "stdout",
     "output_type": "stream",
     "text": [
      "Albert Einstein once said, “A person who never made a mistake never tried anything new.”\n"
     ]
    }
   ],
   "source": [
    "# 练习2.5\n",
    "print('Albert Einstein once said, “A person who never made a mistake never tried anything new.”')"
   ]
  },
  {
   "cell_type": "code",
   "execution_count": 8,
   "id": "f428f4b0",
   "metadata": {},
   "outputs": [
    {
     "name": "stdout",
     "output_type": "stream",
     "text": [
      "Albert Einstein once said, \"A person who never made a mistake never tried anything new.\"\n"
     ]
    }
   ],
   "source": [
    "# 练习2.6\n",
    "role_model='Albert Einstein'\n",
    "saying='A person who never made a mistake never tried anything new.'\n",
    "print(f'{role_model} once said, \"{saying}\"')"
   ]
  },
  {
   "cell_type": "code",
   "execution_count": 15,
   "id": "631c40c5",
   "metadata": {},
   "outputs": [
    {
     "name": "stdout",
     "output_type": "stream",
     "text": [
      "My roommates are: \n",
      "\tGong Ruotong, \n",
      "\tChen Yemin, \n",
      "\tBu Xinjie.\n"
     ]
    }
   ],
   "source": [
    "# 练习2.7\n",
    "roommate1=' Gong Ruotong '\n",
    "roommate2=' Chen Yemin'\n",
    "roommate3='Bu Xinjie '\n",
    "print(f'My roommates are: \\n\\t{roommate1.strip()}, \\n\\t{roommate2.lstrip()}, \\n\\t{roommate3.rstrip()}.')"
   ]
  },
  {
   "cell_type": "code",
   "execution_count": 16,
   "id": "29105c70",
   "metadata": {},
   "outputs": [
    {
     "name": "stdout",
     "output_type": "stream",
     "text": [
      "8\n",
      "8\n",
      "8\n",
      "8.0\n"
     ]
    }
   ],
   "source": [
    "# 练习2.9\n",
    "print(2*4)\n",
    "print(5+3)\n",
    "print(9-1)\n",
    "print(64/8)"
   ]
  },
  {
   "cell_type": "code",
   "execution_count": 17,
   "id": "fe522f2d",
   "metadata": {},
   "outputs": [
    {
     "name": "stdout",
     "output_type": "stream",
     "text": [
      "My favorite number is 15.\n"
     ]
    }
   ],
   "source": [
    "# 练习2.10\n",
    "favorite_number=15\n",
    "print(f'My favorite number is {favorite_number}.')"
   ]
  }
 ],
 "metadata": {
  "kernelspec": {
   "display_name": "Python 3 (ipykernel)",
   "language": "python",
   "name": "python3"
  },
  "language_info": {
   "codemirror_mode": {
    "name": "ipython",
    "version": 3
   },
   "file_extension": ".py",
   "mimetype": "text/x-python",
   "name": "python",
   "nbconvert_exporter": "python",
   "pygments_lexer": "ipython3",
   "version": "3.11.5"
  }
 },
 "nbformat": 4,
 "nbformat_minor": 5
}
