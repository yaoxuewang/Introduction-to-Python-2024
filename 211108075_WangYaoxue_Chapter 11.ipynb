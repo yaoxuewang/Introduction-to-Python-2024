{
 "cells": [
  {
   "cell_type": "markdown",
   "id": "7e5e749a",
   "metadata": {},
   "source": [
    "# 第11章"
   ]
  },
  {
   "cell_type": "code",
   "execution_count": 1,
   "id": "0b24664e",
   "metadata": {},
   "outputs": [],
   "source": [
    "#通过测试，可确定代码面对各种输入都能够按要求工作。测试让你坚信，无论有多少人使用你的程序，它都将正确地工作。\n",
    "#在程序中添加新代码时，也可对其进行测试，确认它们不会破坏程序既有的行为。"
   ]
  },
  {
   "cell_type": "markdown",
   "id": "37f27754",
   "metadata": {},
   "source": [
    "## 11.1 使用 pip 安装 pytest"
   ]
  },
  {
   "cell_type": "code",
   "execution_count": null,
   "id": "f514b30d",
   "metadata": {},
   "outputs": [],
   "source": [
    "$ python -m pip install --upgrade pip\n",
    "Requirement already satisfied: pip in /.../python3.12/site-packages\n",
    "(22.0.4)\n",
    "--snip--\n",
    "Successfully installed pip-22.1.2"
   ]
  },
  {
   "cell_type": "code",
   "execution_count": null,
   "id": "f96bf73a",
   "metadata": {},
   "outputs": [],
   "source": [
    "#如果显示：无法将“pytest”项识别为 cmdlet、函数、脚本文件或可运行程序的名称。请检查名称的拼写，如果包括路径，请确保路径正确，然后再试一次。\n",
    "#就用“python -m pytest”代替“pytest”来进行检查工作  *要注意检查前目录中必须有以test命名的test文件"
   ]
  },
  {
   "cell_type": "markdown",
   "id": "2b79aa79",
   "metadata": {},
   "source": [
    "## 11.2 测试函数"
   ]
  },
  {
   "cell_type": "code",
   "execution_count": 2,
   "id": "30a2a7ec",
   "metadata": {},
   "outputs": [
    {
     "name": "stdout",
     "output_type": "stream",
     "text": [
      "Enter 'q' at any time to quit.\n",
      "\n",
      "Please give me a first name: amy\n",
      "Please give me a last name: simith\n",
      "\tNeatly formatted name: Amy Simith.\n",
      "\n",
      "Please give me a first name: bob\n",
      "Please give me a last name: elen\n",
      "\tNeatly formatted name: Bob Elen.\n",
      "\n",
      "Please give me a first name: q\n"
     ]
    }
   ],
   "source": [
    "def get_formatted_name(first, last):\n",
    "    \"\"\"生成格式规范的姓名\"\"\"\n",
    "    full_name = f\"{first} {last}\"\n",
    "    return full_name.title()\n",
    "\n",
    "from name_function import get_formatted_name\n",
    "print(\"Enter 'q' at any time to quit.\")\n",
    "while True:\n",
    "    first = input(\"\\nPlease give me a first name: \")\n",
    "    if first == 'q':\n",
    "        break\n",
    "    last = input(\"Please give me a last name: \")\n",
    "    if last == 'q':\n",
    "        break\n",
    "    formatted_name = get_formatted_name(first, last)\n",
    "    print(f\"\\tNeatly formatted name: {formatted_name}.\")"
   ]
  },
  {
   "cell_type": "markdown",
   "id": "fba98815",
   "metadata": {},
   "source": [
    "### 11.2.1 单元测试和测试用例"
   ]
  },
  {
   "cell_type": "code",
   "execution_count": null,
   "id": "dd84352d",
   "metadata": {},
   "outputs": [],
   "source": [
    "#单元测试（unit test），用于核实函数的某个方面没有问题\n",
    "#测试用例（test case）是一组单元测试，这些单元测试一道核实函数在各种情况下的行为都符合要求"
   ]
  },
  {
   "cell_type": "markdown",
   "id": "67732913",
   "metadata": {},
   "source": [
    "### 11.2.2 可通过的测试"
   ]
  },
  {
   "cell_type": "code",
   "execution_count": 3,
   "id": "aef6c833",
   "metadata": {},
   "outputs": [],
   "source": [
    "from name_function import get_formatted_name\n",
    "def test_first_last_name(): #定义一个测试函数\n",
    "    \"\"\"能够正确地处理像 Janis Joplin 这样的姓名吗？\"\"\"\n",
    "    formatted_name = get_formatted_name('janis', 'joplin')  #调用要测试的函数\n",
    "    assert formatted_name == 'Janis Joplin'  #做出一个断言"
   ]
  },
  {
   "cell_type": "markdown",
   "id": "e921e80c",
   "metadata": {},
   "source": [
    "### 11.2.3 运行测试"
   ]
  },
  {
   "cell_type": "code",
   "execution_count": null,
   "id": "ebe58a86",
   "metadata": {},
   "outputs": [],
   "source": [
    "#直接运行文件 test_name_function.py，将不会有任何输出，因为我们没有调用这个测试函数。相反，应该让 pytest 替我们运行这个测试文件\n",
    "#在终端窗口运行，并切换到测试文件所在的文件夹"
   ]
  },
  {
   "cell_type": "markdown",
   "id": "076c728f",
   "metadata": {},
   "source": [
    "### 11.2.4 未通过的测试"
   ]
  },
  {
   "cell_type": "code",
   "execution_count": null,
   "id": "2581a6c5",
   "metadata": {},
   "outputs": [],
   "source": [
    "def get_formatted_name(first, middle, last):\n",
    "    \"\"\"生成格式规范的姓名。\"\"\"\n",
    "    full_name = f\"{first} {middle} {last}\"\n",
    "    return full_name.title()"
   ]
  },
  {
   "cell_type": "markdown",
   "id": "dcb9c605",
   "metadata": {},
   "source": [
    "### 11.2.5 在测试未通过时怎么办"
   ]
  },
  {
   "cell_type": "code",
   "execution_count": null,
   "id": "356b66b6",
   "metadata": {},
   "outputs": [],
   "source": [
    "#在测试未通过时，不要修改测试。因为如果你这样做，即便能让测试通过，像测试那样调用函数的代码也将突然崩溃。\n",
    "#应修复导致测试不能通过的代码：检查刚刚对函数所做的修改，找出这些修改是如何导致函数行为不符合预期的。\n",
    "\n",
    "def get_formatted_name(first, last, middle=''):\n",
    "    \"\"\"生成格式规范的姓名\"\"\"\n",
    "    if middle:\n",
    "        full_name = f\"{first} {middle} {last}\"\n",
    "    else:\n",
    "        full_name = f\"{first} {last}\"\n",
    "    return full_name.title()"
   ]
  },
  {
   "cell_type": "markdown",
   "id": "250ac6bd",
   "metadata": {},
   "source": [
    "### 11.2.6 添加新测试"
   ]
  },
  {
   "cell_type": "code",
   "execution_count": null,
   "id": "d7b00774",
   "metadata": {},
   "outputs": [],
   "source": [
    "from name_function import get_formatted_name\n",
    "def test_first_last_name():\n",
    "    \"\"\"能够正确地处理像 Janis Joplin 这样的姓名吗？\"\"\"\n",
    "    formatted_name = get_formatted_name('janis', 'joplin') \n",
    "    assert formatted_name == 'Janis Joplin'\n",
    "    \n",
    "def test_first_last_middle_name():\n",
    "    \"\"\"能够正确地处理像 Wolfgang Amadeus Mozart 这样的姓名吗？\"\"\"\n",
    "    formatted_name = get_formatted_name('wolfgang', 'mozart', 'amadeus')\n",
    "    assert formatted_name == 'Wolfgang Amadeus Mozart'"
   ]
  },
  {
   "cell_type": "markdown",
   "id": "99818581",
   "metadata": {},
   "source": [
    "## 11.3 测试类"
   ]
  },
  {
   "cell_type": "markdown",
   "id": "1338d121",
   "metadata": {},
   "source": [
    "### 11.3.1 各种断言"
   ]
  },
  {
   "cell_type": "code",
   "execution_count": null,
   "id": "937e147f",
   "metadata": {},
   "outputs": [],
   "source": [
    "assert a == b #断言两个值相等\n",
    "assert a != b #断言两个值不等\n",
    "assert a #断言 a 的布尔求值为 True\n",
    "assert not a #断言 a 的布尔求值为 False\n",
    "assert element in list #断言元素在列表中\n",
    "assert element not in list #断言元素不在列表中"
   ]
  },
  {
   "cell_type": "markdown",
   "id": "11dd8a64",
   "metadata": {},
   "source": [
    "### 11.3.2 一个要测试的类"
   ]
  },
  {
   "cell_type": "code",
   "execution_count": 3,
   "id": "4d7a7158",
   "metadata": {},
   "outputs": [],
   "source": [
    "class AnonymousSurvey:\n",
    "    \"\"\"收集匿名调查问卷的答案\"\"\"\n",
    "    \n",
    "    def __init__(self, question):\n",
    "        \"\"\"存储一个问题，并为存储答案做准备\"\"\"\n",
    "        self.question = question\n",
    "        self.responses = []\n",
    "        \n",
    "    def show_question(self):\n",
    "        \"\"\"显示调查问卷\"\"\"\n",
    "        print(self.question)\n",
    "        \n",
    "    def store_response(self, new_response):\n",
    "        \"\"\"存储单份调查答卷\"\"\"\n",
    "        self.responses.append(new_response)\n",
    "        \n",
    "    def show_results(self):\n",
    "        \"\"\"显示收集到的所有答卷\"\"\"\n",
    "        print(\"Survey results:\")\n",
    "        for response in self.responses:\n",
    "            print(f\"- {response}\")"
   ]
  },
  {
   "cell_type": "markdown",
   "id": "d4b9d75a",
   "metadata": {},
   "source": [
    "### 11.3.3 测试AnonymousSurvey类"
   ]
  },
  {
   "cell_type": "code",
   "execution_count": 4,
   "id": "78af96b7",
   "metadata": {},
   "outputs": [
    {
     "name": "stdout",
     "output_type": "stream",
     "text": [
      "What language did you first learn to speak?\n",
      "Enter 'q' at any time to quit.\n",
      "\n",
      "Language: Chinese\n",
      "Language: English\n",
      "Language: Spanish\n",
      "Language: q\n",
      "\n",
      "Thank you to everyone who participated in the survey!\n",
      "Survey results:\n",
      "- Chinese\n",
      "- English\n",
      "- Spanish\n"
     ]
    }
   ],
   "source": [
    "from survey import AnonymousSurvey\n",
    "\n",
    "# 定义一个问题，并创建一个调查\n",
    "question = \"What language did you first learn to speak?\"\n",
    "my_survey = AnonymousSurvey(question)\n",
    "\n",
    "# 显示问题并存储答案\n",
    "my_survey.show_question()\n",
    "print(\"Enter 'q' at any time to quit.\\n\")\n",
    "while True:\n",
    "    response = input(\"Language: \")\n",
    "    if response == 'q':\n",
    "        break\n",
    "    my_survey.store_response(response)\n",
    "\n",
    "# 显示调查结果\n",
    "print(\"\\nThank you to everyone who participated in the survey!\")\n",
    "my_survey.show_results()"
   ]
  },
  {
   "cell_type": "code",
   "execution_count": null,
   "id": "51645af3",
   "metadata": {},
   "outputs": [],
   "source": [
    "import unittest\n",
    "from survey import AnonymousSurvey\n",
    "\n",
    "class TestAnonymousSurvey(unittest.TestCase):\n",
    "    \"\"\"针对AnonymousSurvey类的测试\"\"\"\n",
    "    \n",
    "    def test_store_single_response(self):\n",
    "        \"\"\"测试单个答案会被妥善地存储\"\"\"\n",
    "        question = \"What language did you first learn to speak?\"\n",
    "        my_survey = AnonymousSurvey(question)\n",
    "        my_survey.store_response('English')\n",
    "        self.assertIn('English', my_survey.responses)\n",
    "    \n",
    "if __name__ == '__main__':\n",
    "    unittest.main()"
   ]
  },
  {
   "cell_type": "code",
   "execution_count": null,
   "id": "bc92dc11",
   "metadata": {},
   "outputs": [],
   "source": [
    "import unittest\n",
    "from survey import AnonymousSurvey\n",
    "\n",
    "class TestAnonymousSurvey(unittest.TestCase):\n",
    "    \"\"\"针对AnonymousSurvey类的测试\"\"\"\n",
    "    \n",
    "    def test_store_single_response(self):\n",
    "        \"\"\"测试单个答案会被妥善地存储\"\"\"\n",
    "        question = \"What language did you first learn to speak?\"\n",
    "        my_survey = AnonymousSurvey(question)\n",
    "        my_survey.store_response('English')\n",
    "        self.assertIn('English', my_survey.responses)\n",
    "    \n",
    "    def test_store_three_responses(self):\n",
    "        \"\"\"测试三个答案会被妥善地存储\"\"\"\n",
    "        question = \"What language did you first learn to speak?\"\n",
    "        my_survey = AnonymousSurvey(question)\n",
    "        responses = ['English', 'Spanish', 'Mandarin']\n",
    "        for response in responses:\n",
    "            my_survey.store_response(response)\n",
    "        for response in responses:\n",
    "            self.assertIn(response, my_survey.responses)\n",
    "    \n",
    "if __name__ == '__main__':\n",
    "    unittest.main()"
   ]
  },
  {
   "cell_type": "markdown",
   "id": "6a52de89",
   "metadata": {},
   "source": [
    "### 11.3.4 使用夹具"
   ]
  },
  {
   "cell_type": "code",
   "execution_count": null,
   "id": "a6ed79b8",
   "metadata": {},
   "outputs": [],
   "source": [
    "#在测试中，夹具（fixture）可帮助我们搭建测试环境，这通常意味着创建供多个测试使用的资源\n",
    "#在 pytest 中，要创建夹具，可编写一个使用装饰器 @pytest.fixture 装饰的函数\n",
    "#装饰器（decorator）是放在函数定义前面的指令\n",
    "\n",
    "import pytest\n",
    "from survey import AnonymousSurvey\n",
    "\n",
    "@pytest.fixture\n",
    "def language_survey():\n",
    "    \"\"\"一个可供所有测试函数使用的 AnonymousSurvey 实例\"\"\"\n",
    "    question = \"What language did you first learn to speak?\"\n",
    "    language_survey = AnonymousSurvey(question)\n",
    "    return language_survey\n",
    "\n",
    "def test_store_single_response(language_survey):\n",
    "    \"\"\"测试单个答案会被妥善地存储\"\"\"\n",
    "    language_survey.store_response('English')\n",
    "    assert 'English' in language_survey.responses\n",
    "    \n",
    "def test_store_three_responses(language_survey):\n",
    "    \"\"\"测试三个答案会被妥善地存储\"\"\"\n",
    "    responses = ['English', 'Spanish', 'Mandarin']\n",
    "    for response in responses:\n",
    "        language_survey.store_response(response)\n",
    "    for response in responses:\n",
    "        assert response in language_survey.responses"
   ]
  },
  {
   "cell_type": "markdown",
   "id": "7dbeb72f",
   "metadata": {},
   "source": [
    "## 练习"
   ]
  },
  {
   "cell_type": "code",
   "execution_count": null,
   "id": "9478782a",
   "metadata": {},
   "outputs": [],
   "source": [
    "# 练习11.1\n",
    "\n",
    "# city_functions.py\n",
    "def city_country(city, country):\n",
    "    \"\"\"返回一个形如'Santiago, Chile'的字符串\"\"\"\n",
    "    return f\"{city.title()}, {country.title()}\""
   ]
  },
  {
   "cell_type": "code",
   "execution_count": null,
   "id": "fd034117",
   "metadata": {},
   "outputs": [],
   "source": [
    "# test_cities.py\n",
    "from city_functions import city_country\n",
    "def test_city_country():\n",
    "    \"\"\"传入简单的城市和国家可行吗？\"\"\"\n",
    "    santiago_chile = city_country('santiago', 'chile')\n",
    "    assert santiago_chile == 'Santiago, Chile'"
   ]
  },
  {
   "cell_type": "code",
   "execution_count": null,
   "id": "43565255",
   "metadata": {},
   "outputs": [],
   "source": [
    "# 练习11.2\n",
    "\n",
    "# city_functions.py\n",
    "def city_country(city, country, population):\n",
    "    \"\"\"返回一个形如'Santiago, Chile - population 5000000'的字符串\"\"\"\n",
    "    output_string = f\"{city.title()}, {country.title()}\"\n",
    "    output_string += f\" -population {population}\"\n",
    "    return output_string"
   ]
  },
  {
   "cell_type": "code",
   "execution_count": null,
   "id": "22255402",
   "metadata": {},
   "outputs": [],
   "source": [
    "# test_cities.py\n",
    "from city_functions_pop_optional import city_country\n",
    "\n",
    "def test_city_country():\n",
    "    \"\"\"传入简单的城市和国家可行吗？\"\"\"\n",
    "    santiago_chile = city_country('santiago', 'chile')\n",
    "    assert santiago_chile == 'Santiago, Chile'\n",
    "\n",
    "def test_city_country_population():\n",
    "    \"\"\"可向形参 population 传递值吗？\"\"\"\n",
    "    santiago_chile = city_country('santiago', 'chile', population=5_000_000)\n",
    "    assert santiago_chile == 'Santiago, Chile - population 5000000'"
   ]
  },
  {
   "cell_type": "code",
   "execution_count": null,
   "id": "6153c65f",
   "metadata": {},
   "outputs": [],
   "source": [
    "# 练习11.3\n",
    "\n",
    "# employee.py\n",
    "class Employee:\n",
    "    \"\"\"一个表示雇员的类\"\"\"\n",
    "\n",
    "    def __init__(self, f_name, l_name, salary):\n",
    "        \"\"\"初始化雇员\"\"\"\n",
    "        self.first = f_name.title()\n",
    "        self.last = l_name.title()\n",
    "        self.salary = salary\n",
    "\n",
    "    def give_raise(self, amount=5000):\n",
    "        \"\"\"给雇员加薪\"\"\"\n",
    "        self.salary += amount"
   ]
  },
  {
   "cell_type": "code",
   "execution_count": null,
   "id": "7b884e06",
   "metadata": {},
   "outputs": [],
   "source": [
    "# test_employee.py\n",
    "from employee import Employee\n",
    "\n",
    "def test_give_default_raise():\n",
    "    \"\"\"测试使用默认的年薪增加量是否可行\"\"\"\n",
    "    employee = Employee('eric', 'matthes', 65_000)\n",
    "    employee.give_raise()\n",
    "    assert employee.salary == 70_000\n",
    "\n",
    "def test_give_custom_raise():\n",
    "    \"\"\"测试自定义年薪增加量是否可行\"\"\"\n",
    "    employee = Employee('eric', 'matthes', 65_000)\n",
    "    employee.give_raise(10000)\n",
    "    assert employee.salary == 75_000"
   ]
  }
 ],
 "metadata": {
  "kernelspec": {
   "display_name": "Python 3 (ipykernel)",
   "language": "python",
   "name": "python3"
  },
  "language_info": {
   "codemirror_mode": {
    "name": "ipython",
    "version": 3
   },
   "file_extension": ".py",
   "mimetype": "text/x-python",
   "name": "python",
   "nbconvert_exporter": "python",
   "pygments_lexer": "ipython3",
   "version": "3.11.5"
  }
 },
 "nbformat": 4,
 "nbformat_minor": 5
}
