{
 "cells": [
  {
   "cell_type": "markdown",
   "id": "24d8143e",
   "metadata": {},
   "source": [
    "# 第5章 if语句"
   ]
  },
  {
   "cell_type": "markdown",
   "id": "b06738d9",
   "metadata": {},
   "source": [
    "## 5.1 示例"
   ]
  },
  {
   "cell_type": "code",
   "execution_count": 1,
   "id": "ee51433e",
   "metadata": {},
   "outputs": [
    {
     "name": "stdout",
     "output_type": "stream",
     "text": [
      "Audi\n",
      "BMW\n",
      "Subaru\n",
      "Toyota\n"
     ]
    }
   ],
   "source": [
    "cars = ['audi', 'bmw', 'subaru', 'toyota']\n",
    "for car in cars:\n",
    "    if car == 'bmw':\n",
    "        print(car.upper())\n",
    "    else:\n",
    "        print(car.title())"
   ]
  },
  {
   "cell_type": "markdown",
   "id": "0968d02c",
   "metadata": {},
   "source": [
    "## 5.2 条件测试"
   ]
  },
  {
   "cell_type": "markdown",
   "id": "d238df00",
   "metadata": {},
   "source": [
    "### 5.2.1 检查是否相等"
   ]
  },
  {
   "cell_type": "code",
   "execution_count": 2,
   "id": "737178e3",
   "metadata": {},
   "outputs": [
    {
     "data": {
      "text/plain": [
       "True"
      ]
     },
     "execution_count": 2,
     "metadata": {},
     "output_type": "execute_result"
    }
   ],
   "source": [
    "#不等运算符（==）\n",
    "car = 'bmw'#设置值\n",
    "car == 'bmw'#检查是否相等"
   ]
  },
  {
   "cell_type": "code",
   "execution_count": 3,
   "id": "6dc8524d",
   "metadata": {},
   "outputs": [
    {
     "data": {
      "text/plain": [
       "False"
      ]
     },
     "execution_count": 3,
     "metadata": {},
     "output_type": "execute_result"
    }
   ],
   "source": [
    "car = 'bmw'\n",
    "car == 'audi'"
   ]
  },
  {
   "cell_type": "markdown",
   "id": "d32a6c4c",
   "metadata": {},
   "source": [
    "### 5.2.2 在检查是否相等时忽略大小写"
   ]
  },
  {
   "cell_type": "code",
   "execution_count": 4,
   "id": "53505885",
   "metadata": {},
   "outputs": [
    {
     "data": {
      "text/plain": [
       "False"
      ]
     },
     "execution_count": 4,
     "metadata": {},
     "output_type": "execute_result"
    }
   ],
   "source": [
    "#检查是否相等时会区分大小写\n",
    "car = 'Audi'\n",
    "car == 'audi'"
   ]
  },
  {
   "cell_type": "code",
   "execution_count": 5,
   "id": "71339596",
   "metadata": {},
   "outputs": [
    {
     "data": {
      "text/plain": [
       "True"
      ]
     },
     "execution_count": 5,
     "metadata": {},
     "output_type": "execute_result"
    }
   ],
   "source": [
    "car = 'Audi'\n",
    "car.lower() == 'audi'"
   ]
  },
  {
   "cell_type": "markdown",
   "id": "4614074e",
   "metadata": {},
   "source": [
    "### 5.2.3 检查是否不等"
   ]
  },
  {
   "cell_type": "code",
   "execution_count": 7,
   "id": "3ba4380a",
   "metadata": {},
   "outputs": [
    {
     "name": "stdout",
     "output_type": "stream",
     "text": [
      "Hold the anchovies!\n"
     ]
    }
   ],
   "source": [
    "#不等运算符（!=）\n",
    "requested_topping = 'mushrooms'\n",
    "\n",
    "if requested_topping != 'anchovies':\n",
    "    print(\"Hold the anchovies!\")"
   ]
  },
  {
   "cell_type": "markdown",
   "id": "5aa35a10",
   "metadata": {},
   "source": [
    "### 5.2.4 数值比较"
   ]
  },
  {
   "cell_type": "code",
   "execution_count": 8,
   "id": "f8114cb1",
   "metadata": {},
   "outputs": [
    {
     "data": {
      "text/plain": [
       "False"
      ]
     },
     "execution_count": 8,
     "metadata": {},
     "output_type": "execute_result"
    }
   ],
   "source": [
    "age = 18\n",
    "age == 20"
   ]
  },
  {
   "cell_type": "code",
   "execution_count": 9,
   "id": "e907e9b1",
   "metadata": {},
   "outputs": [
    {
     "name": "stdout",
     "output_type": "stream",
     "text": [
      "That is not the correct answer. Please try again!\n"
     ]
    }
   ],
   "source": [
    "answer = 17\n",
    "if answer != 42:\n",
    "    print(\"That is not the correct answer. Please try again!\")"
   ]
  },
  {
   "cell_type": "code",
   "execution_count": 14,
   "id": "6ece433b",
   "metadata": {},
   "outputs": [
    {
     "name": "stdout",
     "output_type": "stream",
     "text": [
      "True\n",
      "False\n",
      "True\n",
      "True\n",
      "False\n"
     ]
    }
   ],
   "source": [
    "age = 18\n",
    "print(age == 18)\n",
    "print(age == 20)\n",
    "print(age >= 5)\n",
    "print(age <= 20)\n",
    "print(age > 18)"
   ]
  },
  {
   "cell_type": "markdown",
   "id": "e0f015d8",
   "metadata": {},
   "source": [
    "### 5.2.5 检查多个条件"
   ]
  },
  {
   "cell_type": "code",
   "execution_count": 12,
   "id": "53718260",
   "metadata": {},
   "outputs": [
    {
     "data": {
      "text/plain": [
       "False"
      ]
     },
     "execution_count": 12,
     "metadata": {},
     "output_type": "execute_result"
    }
   ],
   "source": [
    "# and：每个条件都要满足\n",
    "age_0 = 22\n",
    "age_1 = 18\n",
    "age_0 >= 21 and age_1 >= 21"
   ]
  },
  {
   "cell_type": "code",
   "execution_count": 13,
   "id": "3724697b",
   "metadata": {},
   "outputs": [
    {
     "data": {
      "text/plain": [
       "True"
      ]
     },
     "execution_count": 13,
     "metadata": {},
     "output_type": "execute_result"
    }
   ],
   "source": [
    "age_1 = 22\n",
    "age_0 >= 21 and age_1 >= 21"
   ]
  },
  {
   "cell_type": "code",
   "execution_count": 15,
   "id": "79e231d4",
   "metadata": {},
   "outputs": [
    {
     "data": {
      "text/plain": [
       "True"
      ]
     },
     "execution_count": 15,
     "metadata": {},
     "output_type": "execute_result"
    }
   ],
   "source": [
    "# or：只需满足其中一个条件\n",
    "age_0 = 22\n",
    "age_1 = 18\n",
    "age_0 >= 21 or age_1 >= 21"
   ]
  },
  {
   "cell_type": "code",
   "execution_count": 16,
   "id": "d3c3cd77",
   "metadata": {},
   "outputs": [
    {
     "data": {
      "text/plain": [
       "False"
      ]
     },
     "execution_count": 16,
     "metadata": {},
     "output_type": "execute_result"
    }
   ],
   "source": [
    "age_0 = 18\n",
    "age_0 >= 21 or age_1 >= 21"
   ]
  },
  {
   "cell_type": "markdown",
   "id": "f875947b",
   "metadata": {},
   "source": [
    "### 5.2.6 检查特定的值是否在列表中"
   ]
  },
  {
   "cell_type": "code",
   "execution_count": 17,
   "id": "5e510cac",
   "metadata": {},
   "outputs": [
    {
     "data": {
      "text/plain": [
       "True"
      ]
     },
     "execution_count": 17,
     "metadata": {},
     "output_type": "execute_result"
    }
   ],
   "source": [
    "#用关键词 in 判断特定的值是否在列表中\n",
    "requested_toppings = ['mushrooms', 'onions', 'pineapple']\n",
    "'mushrooms' in requested_toppings"
   ]
  },
  {
   "cell_type": "code",
   "execution_count": 18,
   "id": "ef93b137",
   "metadata": {},
   "outputs": [
    {
     "data": {
      "text/plain": [
       "False"
      ]
     },
     "execution_count": 18,
     "metadata": {},
     "output_type": "execute_result"
    }
   ],
   "source": [
    "'pepperoni' in requested_toppings"
   ]
  },
  {
   "cell_type": "markdown",
   "id": "4c14f36c",
   "metadata": {},
   "source": [
    "### 5.2.7 检查特定的值是否不在列表中"
   ]
  },
  {
   "cell_type": "code",
   "execution_count": 19,
   "id": "0680d77b",
   "metadata": {},
   "outputs": [
    {
     "name": "stdout",
     "output_type": "stream",
     "text": [
      "Marie, you can post a response if you wish.\n"
     ]
    }
   ],
   "source": [
    "#用关键词 not in 判断特定的值是否不在列表中\n",
    "banned_users = ['andrew', 'carolina', 'david']\n",
    "user = 'marie'\n",
    "if user not in banned_users:\n",
    "    print(f\"{user.title()}, you can post a response if you wish.\")"
   ]
  },
  {
   "cell_type": "markdown",
   "id": "63947b54",
   "metadata": {},
   "source": [
    "### 5.2.8 布尔表达式"
   ]
  },
  {
   "cell_type": "code",
   "execution_count": 20,
   "id": "23b5ef97",
   "metadata": {},
   "outputs": [],
   "source": [
    "#布尔表达式的结果要么为 True，要么为 False\n",
    "#布尔值通常用于记录条件"
   ]
  },
  {
   "cell_type": "markdown",
   "id": "3a75bf65",
   "metadata": {},
   "source": [
    "## 5.3 if语句"
   ]
  },
  {
   "cell_type": "markdown",
   "id": "7cb7c721",
   "metadata": {},
   "source": [
    "### 5.3.1 简单的if语句"
   ]
  },
  {
   "cell_type": "code",
   "execution_count": 36,
   "id": "cf22a138",
   "metadata": {},
   "outputs": [
    {
     "name": "stdout",
     "output_type": "stream",
     "text": [
      "You are old enough to vote!\n",
      "Have you registered to vote yet?\n"
     ]
    }
   ],
   "source": [
    "age = 19\n",
    "if age >= 18:\n",
    "    print(\"You are old enough to vote!\")\n",
    "    print(\"Have you registered to vote yet?\")"
   ]
  },
  {
   "cell_type": "markdown",
   "id": "fa9cd8df",
   "metadata": {},
   "source": [
    "### 5.3.2 if-else 语句"
   ]
  },
  {
   "cell_type": "code",
   "execution_count": 37,
   "id": "beae73bc",
   "metadata": {},
   "outputs": [
    {
     "name": "stdout",
     "output_type": "stream",
     "text": [
      "Sorry, you are too young to vote.\n",
      "Please register to vote as soon as you turn 18!\n"
     ]
    }
   ],
   "source": [
    "age = 17\n",
    "if age >= 18:\n",
    "    print(\"You are old enough to vote!\")\n",
    "    print(\"Have you registered to vote yet?\")\n",
    "else:\n",
    "    print(\"Sorry, you are too young to vote.\")\n",
    "    print(\"Please register to vote as soon as you turn 18!\")\n",
    "    \n",
    "#else 语句能够指定条件测试未通过时要执行的操作"
   ]
  },
  {
   "cell_type": "markdown",
   "id": "08f7d954",
   "metadata": {},
   "source": [
    "### 5.3.3 if-elif-else 语句"
   ]
  },
  {
   "cell_type": "code",
   "execution_count": 38,
   "id": "7f5a2005",
   "metadata": {},
   "outputs": [
    {
     "name": "stdout",
     "output_type": "stream",
     "text": [
      "Your admission cost is $25.\n"
     ]
    }
   ],
   "source": [
    "#else 可有零个或一个，处理if和elif的条件均为假的情况\n",
    "#elif 可有零个或多个，当if的条件为假时，依次检查处理\n",
    "\n",
    "age = 12\n",
    "if age < 4:\n",
    "    print(\"Your admission cost is $0.\")\n",
    "elif age < 18:\n",
    "    print(\"Your admission cost is $25.\")\n",
    "else:\n",
    "    print(\"Your admission cost is $40.\")"
   ]
  },
  {
   "cell_type": "code",
   "execution_count": 39,
   "id": "66f40385",
   "metadata": {},
   "outputs": [
    {
     "name": "stdout",
     "output_type": "stream",
     "text": [
      "Your admission cost is $25.\n"
     ]
    }
   ],
   "source": [
    "age = 12\n",
    "if age < 4:\n",
    "    price = 0\n",
    "elif age < 18:\n",
    "    price = 25\n",
    "else:\n",
    "    price = 40\n",
    "print(f\"Your admission cost is ${price}.\")"
   ]
  },
  {
   "cell_type": "markdown",
   "id": "19f95272",
   "metadata": {},
   "source": [
    "### 5.3.4 使用多个 elif 代码块"
   ]
  },
  {
   "cell_type": "code",
   "execution_count": 40,
   "id": "04be7a2f",
   "metadata": {},
   "outputs": [
    {
     "name": "stdout",
     "output_type": "stream",
     "text": [
      "Your admission cost is $20.\n"
     ]
    }
   ],
   "source": [
    "age = 65\n",
    "if age < 4:\n",
    "    price = 0\n",
    "elif age < 18:\n",
    "    price = 25\n",
    "elif age < 60:\n",
    "    price = 40\n",
    "else:\n",
    "    price = 20\n",
    "print(f\"Your admission cost is ${price}.\")"
   ]
  },
  {
   "cell_type": "markdown",
   "id": "c5ee8eb6",
   "metadata": {},
   "source": [
    "### 5.3.5 省略 else 代码块"
   ]
  },
  {
   "cell_type": "code",
   "execution_count": 41,
   "id": "ec3ab9db",
   "metadata": {},
   "outputs": [
    {
     "name": "stdout",
     "output_type": "stream",
     "text": [
      "Your admission cost is $25.\n"
     ]
    }
   ],
   "source": [
    "age = 12\n",
    "if age < 4:\n",
    "    price = 0\n",
    "elif age < 18:\n",
    "    price = 25\n",
    "elif age < 65:\n",
    "    price = 40\n",
    "elif age >= 65:\n",
    "    price = 20\n",
    "print(f\"Your admission cost is ${price}.\")"
   ]
  },
  {
   "cell_type": "markdown",
   "id": "51c1f001",
   "metadata": {},
   "source": [
    "### 5.3.6 测试多个条件"
   ]
  },
  {
   "cell_type": "code",
   "execution_count": 42,
   "id": "3885fdbe",
   "metadata": {},
   "outputs": [
    {
     "name": "stdout",
     "output_type": "stream",
     "text": [
      "Adding mushrooms.\n",
      "Adding extra cheese.\n",
      "\n",
      "Finished making your pizza!\n"
     ]
    }
   ],
   "source": [
    "requested_toppings = ['mushrooms', 'extra cheese']\n",
    "if 'mushrooms' in requested_toppings:\n",
    "    print(\"Adding mushrooms.\")\n",
    "if 'pepperoni' in requested_toppings:\n",
    "    print(\"Adding pepperoni.\")\n",
    "if 'extra cheese' in requested_toppings:\n",
    "    print(\"Adding extra cheese.\")\n",
    "print(\"\\nFinished making your pizza!\")\n",
    "\n",
    "#如果只想运行一个代码块，就使用 if-elif-else 语句；如果要运行多个代码块，就使用一系列独立的 if 语句。"
   ]
  },
  {
   "cell_type": "markdown",
   "id": "84231482",
   "metadata": {},
   "source": [
    "## 5.4 使用 if 语句处理列表"
   ]
  },
  {
   "cell_type": "markdown",
   "id": "4997bf70",
   "metadata": {},
   "source": [
    "### 5.4.1 检查特殊元素"
   ]
  },
  {
   "cell_type": "code",
   "execution_count": 78,
   "id": "bf83ebae",
   "metadata": {},
   "outputs": [
    {
     "name": "stdout",
     "output_type": "stream",
     "text": [
      "Adding mushrooms.\n",
      "Sorry, we are out of green peppers right now.\n",
      "Adding extra cheese.\n",
      "\n",
      "Finished making your pizza!\n"
     ]
    }
   ],
   "source": [
    "requested_toppings = ['mushrooms', 'green peppers', 'extra cheese']\n",
    "for requested_topping in requested_toppings:\n",
    "    if requested_topping == 'green peppers':\n",
    "        print(\"Sorry, we are out of green peppers right now.\")\n",
    "    else:\n",
    "        print(f\"Adding {requested_topping}.\")\n",
    "print(\"\\nFinished making your pizza!\")"
   ]
  },
  {
   "cell_type": "markdown",
   "id": "f40fe6cf",
   "metadata": {},
   "source": [
    "### 5.4.2 确定列表非空"
   ]
  },
  {
   "cell_type": "code",
   "execution_count": 79,
   "id": "68a8e594",
   "metadata": {},
   "outputs": [
    {
     "name": "stdout",
     "output_type": "stream",
     "text": [
      "Are you sure you want a plain pizza?\n"
     ]
    }
   ],
   "source": [
    "requested_toppings = []\n",
    "if requested_toppings:\n",
    "    for requested_topping in requested_toppings:\n",
    "        print(f\"Adding {requested_topping}.\")\n",
    "        print(\"\\nFinished making your pizza!\")\n",
    "else:\n",
    "    print(\"Are you sure you want a plain pizza?\")"
   ]
  },
  {
   "cell_type": "markdown",
   "id": "90e6aa32",
   "metadata": {},
   "source": [
    "### 5.4.3 使用多个列表"
   ]
  },
  {
   "cell_type": "code",
   "execution_count": 80,
   "id": "aea7c768",
   "metadata": {},
   "outputs": [
    {
     "name": "stdout",
     "output_type": "stream",
     "text": [
      "Adding mushrooms.\n",
      "Sorry, we don't have french fries.\n",
      "Adding extra cheese.\n",
      "\n",
      "Finished making your pizza!\n"
     ]
    }
   ],
   "source": [
    "available_toppings = ['mushrooms', 'olives', 'green peppers','pepperoni', 'pineapple', 'extra cheese']\n",
    "requested_toppings = ['mushrooms', 'french fries', 'extra cheese']\n",
    "for requested_topping in requested_toppings:\n",
    "    if requested_topping in available_toppings:\n",
    "        print(f\"Adding {requested_topping}.\")\n",
    "    else:\n",
    "        print(f\"Sorry, we don't have {requested_topping}.\")\n",
    "print(\"\\nFinished making your pizza!\")"
   ]
  },
  {
   "cell_type": "markdown",
   "id": "7ea5adf8",
   "metadata": {},
   "source": [
    "## 练习"
   ]
  },
  {
   "cell_type": "code",
   "execution_count": 21,
   "id": "daf70a61",
   "metadata": {},
   "outputs": [
    {
     "name": "stdout",
     "output_type": "stream",
     "text": [
      "Is chinese == 'wang xiaoming'? I predict True.\n",
      "True\n",
      "\n",
      "Is chinese == 'david'? I predict False.\n",
      "False\n"
     ]
    }
   ],
   "source": [
    "# 练习5.1\n",
    "chinese = 'wang xiaoming'\n",
    "print(\"Is chinese == 'wang xiaoming'? I predict True.\")\n",
    "print(chinese == 'wang xiaoming')\n",
    "\n",
    "print(\"\\nIs chinese == 'david'? I predict False.\")\n",
    "print(chinese == 'david')"
   ]
  },
  {
   "cell_type": "code",
   "execution_count": 23,
   "id": "7f1d0257",
   "metadata": {},
   "outputs": [
    {
     "name": "stdout",
     "output_type": "stream",
     "text": [
      "True\n",
      "False\n"
     ]
    }
   ],
   "source": [
    "# 练习5.2\n",
    "food = 'rice'\n",
    "print(food == 'rice')\n",
    "print(food == 'Rice')"
   ]
  },
  {
   "cell_type": "code",
   "execution_count": 26,
   "id": "08ecdbb9",
   "metadata": {},
   "outputs": [
    {
     "data": {
      "text/plain": [
       "True"
      ]
     },
     "execution_count": 26,
     "metadata": {},
     "output_type": "execute_result"
    }
   ],
   "source": [
    "food = 'rice'\n",
    "food.title() == 'Rice'"
   ]
  },
  {
   "cell_type": "code",
   "execution_count": 27,
   "id": "ca3fa9d9",
   "metadata": {},
   "outputs": [
    {
     "name": "stdout",
     "output_type": "stream",
     "text": [
      "True\n",
      "False\n",
      "False\n",
      "True\n"
     ]
    }
   ],
   "source": [
    "age = 22\n",
    "print(age == 22)\n",
    "print(age != 22)\n",
    "print(age >= 30)\n",
    "print(age <= 25)"
   ]
  },
  {
   "cell_type": "code",
   "execution_count": 30,
   "id": "7205fbde",
   "metadata": {},
   "outputs": [
    {
     "name": "stdout",
     "output_type": "stream",
     "text": [
      "True\n"
     ]
    },
    {
     "ename": "TypeError",
     "evalue": "'age' is an invalid keyword argument for print()",
     "output_type": "error",
     "traceback": [
      "\u001b[1;31m---------------------------------------------------------------------------\u001b[0m",
      "\u001b[1;31mTypeError\u001b[0m                                 Traceback (most recent call last)",
      "Cell \u001b[1;32mIn[30], line 3\u001b[0m\n\u001b[0;32m      1\u001b[0m age \u001b[38;5;241m=\u001b[39m \u001b[38;5;241m25\u001b[39m\n\u001b[0;32m      2\u001b[0m \u001b[38;5;28mprint\u001b[39m(age \u001b[38;5;241m>\u001b[39m\u001b[38;5;241m18\u001b[39m \u001b[38;5;129;01mand\u001b[39;00m age \u001b[38;5;241m>\u001b[39m\u001b[38;5;241m=\u001b[39m \u001b[38;5;241m25\u001b[39m)\n\u001b[1;32m----> 3\u001b[0m \u001b[38;5;28mprint\u001b[39m(age \u001b[38;5;241m=\u001b[39m \u001b[38;5;241m30\u001b[39m \u001b[38;5;129;01mor\u001b[39;00m age \u001b[38;5;241m<\u001b[39m \u001b[38;5;241m30\u001b[39m)\n",
      "\u001b[1;31mTypeError\u001b[0m: 'age' is an invalid keyword argument for print()"
     ]
    }
   ],
   "source": [
    "age = 25\n",
    "print(age >18 and age >= 25)\n",
    "print(age = 30 or age < 30)#错误在于“=”应该改为“==”"
   ]
  },
  {
   "cell_type": "code",
   "execution_count": 31,
   "id": "e78925e7",
   "metadata": {},
   "outputs": [
    {
     "name": "stdout",
     "output_type": "stream",
     "text": [
      "True\n"
     ]
    }
   ],
   "source": [
    "print(age == 30 or age < 30)"
   ]
  },
  {
   "cell_type": "code",
   "execution_count": 32,
   "id": "01d23a99",
   "metadata": {},
   "outputs": [
    {
     "name": "stdout",
     "output_type": "stream",
     "text": [
      "It's my favorite season spring! Enjoy it!\n"
     ]
    }
   ],
   "source": [
    "like_season = ['spring', 'summer']\n",
    "season = 'spring'\n",
    "if 'spring' in like_season:\n",
    "    print(f\"It's my favorite season {season}! Enjoy it!\")"
   ]
  },
  {
   "cell_type": "code",
   "execution_count": 34,
   "id": "753df332",
   "metadata": {},
   "outputs": [
    {
     "name": "stdout",
     "output_type": "stream",
     "text": [
      "Winter has come, but I don't like it.\n"
     ]
    }
   ],
   "source": [
    "season = 'winter'\n",
    "if 'winter' not in like_season:\n",
    "    print(f\"{season.title()} has come, but I don't like it.\")"
   ]
  },
  {
   "cell_type": "code",
   "execution_count": 45,
   "id": "0e734831",
   "metadata": {},
   "outputs": [
    {
     "name": "stdout",
     "output_type": "stream",
     "text": [
      "Congratulations! You got 5 points!\n"
     ]
    }
   ],
   "source": [
    "# 练习5.3\n",
    "alien_color = ['green', 'yellow', 'red']\n",
    "user_color = 'green'\n",
    "if user_color == 'green':\n",
    "    print(\"Congratulations! You got 5 points!\")"
   ]
  },
  {
   "cell_type": "code",
   "execution_count": 46,
   "id": "6ccfeaac",
   "metadata": {},
   "outputs": [],
   "source": [
    "user_color = 'red'\n",
    "if user_color == 'green':\n",
    "    print(\"Congratulations! You got 5 points!\")"
   ]
  },
  {
   "cell_type": "code",
   "execution_count": 53,
   "id": "d66c6988",
   "metadata": {},
   "outputs": [
    {
     "name": "stdout",
     "output_type": "stream",
     "text": [
      "The alien is green. Congratulations! You got 5 points!\n"
     ]
    }
   ],
   "source": [
    "# 练习5.4\n",
    "alien_color = ['green', 'yellow', 'red']\n",
    "user_color = 'green'\n",
    "if user_color == 'green':\n",
    "    print(f\"The alien is {user_color}. Congratulations! You got 5 points!\")\n",
    "else:\n",
    "    print(f\"The alien is {user_color}. Congratulations! You got 10 points!\")"
   ]
  },
  {
   "cell_type": "code",
   "execution_count": 52,
   "id": "eec97915",
   "metadata": {},
   "outputs": [
    {
     "name": "stdout",
     "output_type": "stream",
     "text": [
      "The alien is red. Congratulations! You got 10 points!\n"
     ]
    }
   ],
   "source": [
    "user_color = 'red'\n",
    "if user_color == 'green':\n",
    "    print(f\"The alien is {user_color}. Congratulations! You got 5 points!\")\n",
    "else:\n",
    "    print(f\"The alien is {user_color}. Congratulations! You got 10 points!\")"
   ]
  },
  {
   "cell_type": "code",
   "execution_count": 56,
   "id": "4b5fa12a",
   "metadata": {},
   "outputs": [
    {
     "name": "stdout",
     "output_type": "stream",
     "text": [
      "The alien is green. Congratulations! You got 5 points!\n",
      "\n",
      "The alien is yellow. Congratulations! You got 10 points!\n",
      "\n",
      "The alien is red. Congratulations! You got 15 points!\n"
     ]
    }
   ],
   "source": [
    "# 练习5.5\n",
    "alien_color = ['green', 'yellow', 'red']\n",
    "for user_color in alien_color:\n",
    "    if user_color == 'green':\n",
    "        print(f\"The alien is {user_color}. Congratulations! You got 5 points!\")\n",
    "    elif user_color == 'yellow':\n",
    "        print(f\"\\nThe alien is {user_color}. Congratulations! You got 10 points!\")\n",
    "    else:\n",
    "        print(f\"\\nThe alien is {user_color}. Congratulations! You got 15 points!\")"
   ]
  },
  {
   "cell_type": "code",
   "execution_count": 84,
   "id": "a4d8feb9",
   "metadata": {},
   "outputs": [
    {
     "name": "stdout",
     "output_type": "stream",
     "text": [
      "If you are 8, you are an adult.\n"
     ]
    }
   ],
   "source": [
    "# 练习5.6\n",
    "age = 8\n",
    "if age < 2:\n",
    "    state = 'baby'\n",
    "elif age < 4:\n",
    "    state = 'kid'\n",
    "elif age < 13:\n",
    "    state = 'child'\n",
    "elif age < 18:\n",
    "    state = 'teenager'\n",
    "if age < 65:\n",
    "    state = 'adult'\n",
    "else:\n",
    "    state = 'old people'\n",
    "    \n",
    "if state in ['adult', 'old people']:\n",
    "    print(f\"If you are {age}, you are an {state}.\")\n",
    "elif state in ['baby', 'kid', 'child', 'teenager']:\n",
    "    print(f\"If you are {age}, you are a {state}.\")\n",
    "#怎么让 a/an 区别？？"
   ]
  },
  {
   "cell_type": "code",
   "execution_count": 85,
   "id": "95f5c80f",
   "metadata": {},
   "outputs": [
    {
     "name": "stdout",
     "output_type": "stream",
     "text": [
      "Hello admin, would you like to see a status report?\n",
      "\n",
      "Hello Daria, thank you for logging in again.\n",
      "Hello John, thank you for logging in again.\n",
      "Hello Amy, thank you for logging in again.\n",
      "Hello Tracy, thank you for logging in again.\n"
     ]
    }
   ],
   "source": [
    "# 练习5.8\n",
    "users = ['admin', 'daria', 'john', 'amy', 'tracy']\n",
    "for user in users:\n",
    "    if user == 'admin':\n",
    "        print(f\"Hello admin, would you like to see a status report?\\n\")\n",
    "    else:\n",
    "        print(f\"Hello {user.title()}, thank you for logging in again.\")"
   ]
  },
  {
   "cell_type": "code",
   "execution_count": 89,
   "id": "31b2e951",
   "metadata": {},
   "outputs": [
    {
     "name": "stdout",
     "output_type": "stream",
     "text": [
      "We need to find some users!\n"
     ]
    }
   ],
   "source": [
    "# 练习5.9\n",
    "users = []\n",
    "if users:\n",
    "    for user in users:\n",
    "        print(f\"Hello {user.title()}, thank you for logging in again.\")\n",
    "else:\n",
    "    print(\"We need to find some users!\")"
   ]
  },
  {
   "cell_type": "code",
   "execution_count": 92,
   "id": "9ed75f86",
   "metadata": {},
   "outputs": [
    {
     "name": "stdout",
     "output_type": "stream",
     "text": [
      "Sorry Daria, you have registered before. Please use a new account.\n",
      "Sorry John, you have registered before. Please use a new account.\n",
      "Hello Dacy, thank you for registering.\n",
      "Hello Tina, thank you for registering.\n",
      "Hello Jack, thank you for registering.\n"
     ]
    }
   ],
   "source": [
    "# 练习5.10\n",
    "current_users = ['admin', 'daria', 'john', 'amy', 'tracy']\n",
    "new_users = [ 'daria', 'john', 'dacy', 'tina', 'jack']\n",
    "for user in new_users:\n",
    "    if user in current_users:\n",
    "        print(f\"Sorry {user.title()}, you have registered before. Please use a new account.\")\n",
    "    else:\n",
    "        print(f\"Hello {user.title()}, thank you for registering.\")"
   ]
  },
  {
   "cell_type": "code",
   "execution_count": 97,
   "id": "93b231ef",
   "metadata": {},
   "outputs": [
    {
     "name": "stdout",
     "output_type": "stream",
     "text": [
      "1\n",
      "2\n",
      "3\n",
      "4\n",
      "5\n",
      "6\n",
      "7\n",
      "8\n",
      "9\n"
     ]
    }
   ],
   "source": [
    "# 练习5.11\n",
    "numbers = [1, 2, 3, 4, 5, 6, 7, 8, 9]\n",
    "for number in numbers:\n",
    "    print(number)"
   ]
  },
  {
   "cell_type": "code",
   "execution_count": 98,
   "id": "aee6d816",
   "metadata": {},
   "outputs": [
    {
     "name": "stdout",
     "output_type": "stream",
     "text": [
      "1st\n",
      "2nd\n",
      "3rd\n",
      "4th\n",
      "5th\n",
      "6th\n",
      "7th\n",
      "8th\n",
      "9th\n"
     ]
    }
   ],
   "source": [
    "for number in numbers:\n",
    "    if number == 1:\n",
    "        print(\"1st\")\n",
    "    elif number == 2:\n",
    "        print(\"2nd\")\n",
    "    elif number == 3:\n",
    "        print(\"3rd\")\n",
    "    else:\n",
    "        print(f\"{number}th\")"
   ]
  }
 ],
 "metadata": {
  "kernelspec": {
   "display_name": "Python 3 (ipykernel)",
   "language": "python",
   "name": "python3"
  },
  "language_info": {
   "codemirror_mode": {
    "name": "ipython",
    "version": 3
   },
   "file_extension": ".py",
   "mimetype": "text/x-python",
   "name": "python",
   "nbconvert_exporter": "python",
   "pygments_lexer": "ipython3",
   "version": "3.11.5"
  }
 },
 "nbformat": 4,
 "nbformat_minor": 5
}
