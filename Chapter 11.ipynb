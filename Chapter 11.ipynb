{
 "cells": [
  {
   "cell_type": "markdown",
   "id": "7e5e749a",
   "metadata": {},
   "source": [
    "# 第11章"
   ]
  },
  {
   "cell_type": "code",
   "execution_count": 1,
   "id": "0b24664e",
   "metadata": {},
   "outputs": [],
   "source": [
    "#通过测试，可确定代码面对各种输入都能够按要求工作。测试让你坚信，无论有多少人使用你的程序，它都将正确地工作。\n",
    "#在程序中添加新代码时，也可对其进行测试，确认它们不会破坏程序既有的行为。"
   ]
  },
  {
   "cell_type": "markdown",
   "id": "37f27754",
   "metadata": {},
   "source": [
    "## 11.1 使用 pip 安装 pytest"
   ]
  },
  {
   "cell_type": "code",
   "execution_count": null,
   "id": "f514b30d",
   "metadata": {},
   "outputs": [],
   "source": [
    "$ python -m pip install --upgrade pip\n",
    "Requirement already satisfied: pip in /.../python3.12/site-packages\n",
    "(22.0.4)\n",
    "--snip--\n",
    "Successfully installed pip-22.1.2"
   ]
  },
  {
   "cell_type": "code",
   "execution_count": null,
   "id": "f96bf73a",
   "metadata": {},
   "outputs": [],
   "source": [
    "#如果显示：无法将“pytest”项识别为 cmdlet、函数、脚本文件或可运行程序的名称。请检查名称的拼写，如果包括路径，请确保路径正确，然后再试一次。\n",
    "#就用“python -m pytest”代替“pytest”来进行检查工作  *要注意检查前目录中必须有以test命名的test文件\n",
    "\n"
   ]
  }
 ],
 "metadata": {
  "kernelspec": {
   "display_name": "Python 3 (ipykernel)",
   "language": "python",
   "name": "python3"
  },
  "language_info": {
   "codemirror_mode": {
    "name": "ipython",
    "version": 3
   },
   "file_extension": ".py",
   "mimetype": "text/x-python",
   "name": "python",
   "nbconvert_exporter": "python",
   "pygments_lexer": "ipython3",
   "version": "3.11.5"
  }
 },
 "nbformat": 4,
 "nbformat_minor": 5
}
