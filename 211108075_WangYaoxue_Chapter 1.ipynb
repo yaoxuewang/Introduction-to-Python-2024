{
 "cells": [
  {
   "cell_type": "markdown",
   "id": "513e8d7c",
   "metadata": {},
   "source": [
    "# 第1章"
   ]
  },
  {
   "cell_type": "code",
   "execution_count": 1,
   "id": "50bfcbdd",
   "metadata": {},
   "outputs": [
    {
     "name": "stdout",
     "output_type": "stream",
     "text": [
      "Hello Python World!\n"
     ]
    }
   ],
   "source": [
    "print(\"Hello Python World!\")"
   ]
  },
  {
   "cell_type": "code",
   "execution_count": 2,
   "id": "4cf920a0",
   "metadata": {},
   "outputs": [
    {
     "name": "stdout",
     "output_type": "stream",
     "text": [
      "Hello Python World!\n"
     ]
    }
   ],
   "source": [
    "msg=\"Hello Python World!\"\n",
    "print(msg)"
   ]
  },
  {
   "cell_type": "code",
   "execution_count": 3,
   "id": "ad5b024f",
   "metadata": {},
   "outputs": [
    {
     "name": "stdout",
     "output_type": "stream",
     "text": [
      "HELLO PYTHON WORLD!\n"
     ]
    }
   ],
   "source": [
    "print(msg.upper())"
   ]
  }
 ],
 "metadata": {
  "kernelspec": {
   "display_name": "Python 3 (ipykernel)",
   "language": "python",
   "name": "python3"
  },
  "language_info": {
   "codemirror_mode": {
    "name": "ipython",
    "version": 3
   },
   "file_extension": ".py",
   "mimetype": "text/x-python",
   "name": "python",
   "nbconvert_exporter": "python",
   "pygments_lexer": "ipython3",
   "version": "3.11.5"
  }
 },
 "nbformat": 4,
 "nbformat_minor": 5
}
